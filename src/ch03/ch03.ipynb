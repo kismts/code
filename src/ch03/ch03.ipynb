{
 "cells": [
  {
   "cell_type": "code",
   "id": "39e91671",
   "metadata": {
    "ExecuteTime": {
     "end_time": "2024-12-23T15:09:33.070976Z",
     "start_time": "2024-12-23T15:09:33.066904Z"
    }
   },
   "source": [
    "import sys;\n",
    "sys.path.insert(0, '..')"
   ],
   "outputs": [],
   "execution_count": 1
  },
  {
   "cell_type": "markdown",
   "id": "72fbed3e",
   "metadata": {},
   "source": [
    "## Chapter 3 Code Snippets and Listings"
   ]
  },
  {
   "cell_type": "markdown",
   "id": "a18efcf6",
   "metadata": {},
   "source": [
    "### Encoding single-qubit states with lists (section 3.1.3)"
   ]
  },
  {
   "cell_type": "markdown",
   "id": "4a11ec7f",
   "metadata": {
    "collapsed": false,
    "jupyter": {
     "outputs_hidden": false
    }
   },
   "source": [
    "Example single-qubit quantum states as a list of complex numbers:"
   ]
  },
  {
   "cell_type": "code",
   "id": "initial_id",
   "metadata": {
    "ExecuteTime": {
     "end_time": "2024-12-23T15:09:33.076176Z",
     "start_time": "2024-12-23T15:09:33.074127Z"
    }
   },
   "source": [
    "state = [0.2958+0.51235j, -0.40311+0.69821j] # in Python j is the imaginary unit"
   ],
   "outputs": [],
   "execution_count": 2
  },
  {
   "cell_type": "code",
   "id": "815c1606",
   "metadata": {
    "ExecuteTime": {
     "end_time": "2024-12-23T15:09:33.168740Z",
     "start_time": "2024-12-23T15:09:33.165764Z"
    }
   },
   "source": [
    "state[0]"
   ],
   "outputs": [
    {
     "data": {
      "text/plain": [
       "(0.2958+0.51235j)"
      ]
     },
     "execution_count": 3,
     "metadata": {},
     "output_type": "execute_result"
    }
   ],
   "execution_count": 3
  },
  {
   "cell_type": "code",
   "id": "516d8a14",
   "metadata": {
    "ExecuteTime": {
     "end_time": "2024-12-23T15:09:33.175056Z",
     "start_time": "2024-12-23T15:09:33.173330Z"
    }
   },
   "source": [
    "from math import sqrt\n",
    "\n",
    "state1 = [1, 0]\n",
    "\n",
    "state2 = [0, 1]\n",
    "\n",
    "state3 = [sqrt(1/2), sqrt(1/2)]\n",
    "\n",
    "state4 = [sqrt(0.3), sqrt(0.7)]"
   ],
   "outputs": [],
   "execution_count": 4
  },
  {
   "cell_type": "markdown",
   "id": "e184a9b6",
   "metadata": {},
   "source": [
    "We can use the built-in Python attributes `real` and `imag` to get the real and imaginary parts of a complex number:"
   ]
  },
  {
   "cell_type": "code",
   "id": "2c003b6d",
   "metadata": {
    "ExecuteTime": {
     "end_time": "2024-12-23T15:09:33.192765Z",
     "start_time": "2024-12-23T15:09:33.190983Z"
    }
   },
   "source": [
    "state = [1, 0]\n",
    "print(state[0].real, state[0].imag)"
   ],
   "outputs": [
    {
     "name": "stdout",
     "output_type": "stream",
     "text": [
      "1 0\n"
     ]
    }
   ],
   "execution_count": 5
  },
  {
   "cell_type": "markdown",
   "id": "1558a854",
   "metadata": {},
   "source": [
    "The sum of the squared magnitudes must be 1. We can get the magnitude using the `abs` function:"
   ]
  },
  {
   "cell_type": "code",
   "id": "3735d4b9",
   "metadata": {
    "ExecuteTime": {
     "end_time": "2024-12-23T15:09:33.203435Z",
     "start_time": "2024-12-23T15:09:33.201549Z"
    }
   },
   "source": [
    "state = [1, 0]\n",
    "assert sum([abs(k)**2 for k in state]) == 1\n",
    "\n",
    "state1 = [sqrt(0.3), sqrt(0.7)]\n",
    "assert sum([abs(k)**2 for k in state1]) == 1"
   ],
   "outputs": [],
   "execution_count": 6
  },
  {
   "cell_type": "markdown",
   "id": "4014ddb3",
   "metadata": {},
   "source": [
    "Example of a negative real number amplitude, whose angle is $180^\\circ$ or $\\pi$:"
   ]
  },
  {
   "cell_type": "code",
   "id": "89daaaef",
   "metadata": {
    "ExecuteTime": {
     "end_time": "2024-12-23T15:09:33.221434Z",
     "start_time": "2024-12-23T15:09:33.219202Z"
    }
   },
   "source": [
    "state = [sqrt(0.3), -sqrt(0.7)]"
   ],
   "outputs": [],
   "execution_count": 7
  },
  {
   "cell_type": "markdown",
   "id": "fc39b914",
   "metadata": {},
   "source": [
    "Get the direction of an amplitude in radians using the `atan2` function:"
   ]
  },
  {
   "cell_type": "code",
   "id": "e2507f97",
   "metadata": {
    "ExecuteTime": {
     "end_time": "2024-12-23T15:09:33.235902Z",
     "start_time": "2024-12-23T15:09:33.233876Z"
    }
   },
   "source": [
    "from math import atan2\n",
    "\n",
    "state = [sqrt(0.3), -sqrt(0.7)]\n",
    "direction = atan2(state[1].imag, state[1].real) # Remember the direction (in radians) is atan2(y, x)\n",
    "print(direction)"
   ],
   "outputs": [
    {
     "name": "stdout",
     "output_type": "stream",
     "text": [
      "3.141592653589793\n"
     ]
    }
   ],
   "execution_count": 8
  },
  {
   "cell_type": "markdown",
   "id": "92c35f96",
   "metadata": {},
   "source": [
    "Convert from radians to degrees:"
   ]
  },
  {
   "cell_type": "code",
   "id": "6cb702a7",
   "metadata": {
    "ExecuteTime": {
     "end_time": "2024-12-23T15:09:33.241982Z",
     "start_time": "2024-12-23T15:09:33.239921Z"
    }
   },
   "source": [
    "from math import pi\n",
    "\n",
    "direction * (180/pi)"
   ],
   "outputs": [
    {
     "data": {
      "text/plain": [
       "180.0"
      ]
     },
     "execution_count": 9,
     "metadata": {},
     "output_type": "execute_result"
    }
   ],
   "execution_count": 9
  },
  {
   "cell_type": "markdown",
   "id": "57767be8",
   "metadata": {},
   "source": [
    "Example state with amplitude directions $\\frac{5\\pi}{7}$ and $\\frac{\\pi}{5}$ radians:"
   ]
  },
  {
   "cell_type": "code",
   "id": "fe2a14c8",
   "metadata": {
    "ExecuteTime": {
     "end_time": "2024-12-23T15:09:33.260508Z",
     "start_time": "2024-12-23T15:09:33.258590Z"
    }
   },
   "source": [
    "from math import cos, sin\n",
    "\n",
    "state = [sqrt(0.3) * (cos(5 * pi / 7) + 1j * sin(5 * pi / 7)),\n",
    "         sqrt(0.7) * (cos(pi / 5) + 1j * sin(pi / 5))]\n",
    "\n",
    "print(state)"
   ],
   "outputs": [
    {
     "name": "stdout",
     "output_type": "stream",
     "text": [
      "[(-0.34149942885245477+0.42822673911544473j), (0.6768721799802616+0.4917764247793589j)]\n"
     ]
    }
   ],
   "execution_count": 10
  },
  {
   "cell_type": "code",
   "id": "ce4ba187",
   "metadata": {
    "ExecuteTime": {
     "end_time": "2024-12-23T15:09:33.286377Z",
     "start_time": "2024-12-23T15:09:33.284420Z"
    }
   },
   "source": [
    "table = [[k, state[k]] for k in range(len(state))]\n",
    "for row in table:\n",
    "    print(row)"
   ],
   "outputs": [
    {
     "name": "stdout",
     "output_type": "stream",
     "text": [
      "[0, (-0.34149942885245477+0.42822673911544473j)]\n",
      "[1, (0.6768721799802616+0.4917764247793589j)]\n"
     ]
    }
   ],
   "execution_count": 11
  },
  {
   "cell_type": "code",
   "id": "7c49788f",
   "metadata": {
    "ExecuteTime": {
     "end_time": "2024-12-23T15:09:33.328281Z",
     "start_time": "2024-12-23T15:09:33.325858Z"
    }
   },
   "source": [
    "formatted_table = [\n",
    "    [round(x.real, 5) + 1j * round(x.imag, 5) if isinstance(x, complex) else x\n",
    "     for x in table[k]] for k in range(len(table))]\n",
    "for row in formatted_table:\n",
    "    print(row)"
   ],
   "outputs": [
    {
     "name": "stdout",
     "output_type": "stream",
     "text": [
      "[0, (-0.3415+0.42823j)]\n",
      "[1, (0.67687+0.49178j)]\n"
     ]
    }
   ],
   "execution_count": 12
  },
  {
   "cell_type": "markdown",
   "id": "bd802a3a",
   "metadata": {},
   "source": [
    "Get the magnitude of an amplitude:"
   ]
  },
  {
   "cell_type": "code",
   "id": "a4fcbcec",
   "metadata": {
    "ExecuteTime": {
     "end_time": "2024-12-23T15:09:33.352955Z",
     "start_time": "2024-12-23T15:09:33.350706Z"
    }
   },
   "source": [
    "abs(state[0])"
   ],
   "outputs": [
    {
     "data": {
      "text/plain": [
       "0.5477225575051661"
      ]
     },
     "execution_count": 13,
     "metadata": {},
     "output_type": "execute_result"
    }
   ],
   "execution_count": 13
  },
  {
   "cell_type": "markdown",
   "id": "75574159",
   "metadata": {},
   "source": [
    "Get the probability of an outcome by squaring the magnitude:"
   ]
  },
  {
   "cell_type": "code",
   "id": "a9cd8d4a",
   "metadata": {
    "ExecuteTime": {
     "end_time": "2024-12-23T15:09:33.378414Z",
     "start_time": "2024-12-23T15:09:33.376303Z"
    }
   },
   "source": [
    "abs(state[0])**2"
   ],
   "outputs": [
    {
     "data": {
      "text/plain": [
       "0.29999999999999993"
      ]
     },
     "execution_count": 14,
     "metadata": {},
     "output_type": "execute_result"
    }
   ],
   "execution_count": 14
  },
  {
   "cell_type": "markdown",
   "id": "a38f7356",
   "metadata": {},
   "source": [
    "Create state table with a row for each outcome and the corresponding amplitude, direction, magnitude and probability:"
   ]
  },
  {
   "cell_type": "code",
   "id": "12c2c84f",
   "metadata": {
    "ExecuteTime": {
     "end_time": "2024-12-23T15:09:33.403248Z",
     "start_time": "2024-12-23T15:09:33.400682Z"
    }
   },
   "source": [
    "expanded_table = [\n",
    "    [k, state[k], atan2(state[k].imag, state[k].real) * (180 / pi),\n",
    "     abs(state[k]), abs(state[k]) ** 2] for k in range(len(state))]\n",
    "\n",
    "formatted_expanded_table = [[round(x, 5) if isinstance(x, float) else round(\n",
    "    x.real, 5) + 1j * round(x.imag, 5) if isinstance(x, complex) else x for\n",
    "                             x in expanded_table[k]] for k in\n",
    "                            range(len(expanded_table))]\n",
    "\n",
    "for row in formatted_expanded_table:\n",
    "    print(row)"
   ],
   "outputs": [
    {
     "name": "stdout",
     "output_type": "stream",
     "text": [
      "[0, (-0.3415+0.42823j), 128.57143, 0.54772, 0.3]\n",
      "[1, (0.67687+0.49178j), 36.0, 0.83666, 0.7]\n"
     ]
    }
   ],
   "execution_count": 15
  },
  {
   "cell_type": "markdown",
   "id": "1420a20f",
   "metadata": {},
   "source": [
    "In the notebooks, we will use the function below to create state tables:"
   ]
  },
  {
   "cell_type": "code",
   "id": "92b6dab3",
   "metadata": {
    "ExecuteTime": {
     "end_time": "2024-12-23T15:09:33.861969Z",
     "start_time": "2024-12-23T15:09:33.425405Z"
    }
   },
   "source": [
    "from util import print_state_table\n",
    "\n",
    "print_state_table(state)"
   ],
   "outputs": [
    {
     "name": "stdout",
     "output_type": "stream",
     "text": [
      "\n",
      "Outcome  Binary  Amplitude           Direction  Magnitude  Amplitude Bar             Probability\n",
      "------------------------------------------------------------------------------------------------\n",
      "0        0      -0.3415 + i0.4282     128.56°   0.5477     \u001B[38;2;44;157;57m█████████████           \u001B[39m  0.3   \n",
      "1        1       0.6769 + i0.4918      36.00°   0.8367     \u001B[38;2;255;153;0m████████████████████    \u001B[39m  0.7   \n",
      "\n"
     ]
    }
   ],
   "execution_count": 16
  },
  {
   "cell_type": "markdown",
   "id": "7c506605",
   "metadata": {},
   "source": [
    "### Writing a single-qubit quantum computing simulator in Python (section 3.1.4)"
   ]
  },
  {
   "cell_type": "markdown",
   "id": "9ae01ecf",
   "metadata": {},
   "source": [
    "Listing 3.1 Function to create a default single-qubit state"
   ]
  },
  {
   "cell_type": "code",
   "id": "019a0ef5",
   "metadata": {
    "ExecuteTime": {
     "end_time": "2024-12-23T15:09:33.869289Z",
     "start_time": "2024-12-23T15:09:33.867485Z"
    }
   },
   "source": [
    "def init_state():\n",
    "    state = [0 for _ in range(2)] # Create a list with two 0 entries\n",
    "    state[0] = 1 # Change the first value (index 0) to 1 because in a default single-qubit state the probability of outcome 0 is 1\n",
    "    return state"
   ],
   "outputs": [],
   "execution_count": 17
  },
  {
   "cell_type": "code",
   "id": "b4f2c628",
   "metadata": {
    "ExecuteTime": {
     "end_time": "2024-12-23T15:09:33.882105Z",
     "start_time": "2024-12-23T15:09:33.880540Z"
    }
   },
   "source": [
    "state = init_state()\n",
    "print(state)"
   ],
   "outputs": [
    {
     "name": "stdout",
     "output_type": "stream",
     "text": [
      "[1, 0]\n"
     ]
    }
   ],
   "execution_count": 18
  },
  {
   "cell_type": "markdown",
   "id": "64295498",
   "metadata": {},
   "source": [
    "Listing 3.2 Function for validating a list of complex numbers is a valid single-qubit state"
   ]
  },
  {
   "cell_type": "code",
   "id": "fddf2c22",
   "metadata": {
    "ExecuteTime": {
     "end_time": "2024-12-23T15:09:33.900211Z",
     "start_time": "2024-12-23T15:09:33.898250Z"
    }
   },
   "source": [
    "from util import is_close\n",
    "\n",
    "def prepare_state(*a):\n",
    "    state = [a[k] for k in range(len(a))] # Create a new state object using the values passed to the function\n",
    "    assert(len(state) == 2) # Check that the state has two amplitudes\n",
    "    assert(is_close(sum([abs(state[k])**2 for k in range(len(state))]), 1)) # Check that the sum of the magnitudes is 1\n",
    "    return state"
   ],
   "outputs": [],
   "execution_count": 19
  },
  {
   "cell_type": "code",
   "id": "f28a6603",
   "metadata": {
    "ExecuteTime": {
     "end_time": "2024-12-23T15:09:33.917935Z",
     "start_time": "2024-12-23T15:09:33.916313Z"
    }
   },
   "source": [
    "list = [0.2958+0.51235j, -0.40311+0.69821j]\n",
    "state = prepare_state(*list)"
   ],
   "outputs": [],
   "execution_count": 20
  },
  {
   "cell_type": "markdown",
   "id": "3248f51d",
   "metadata": {},
   "source": [
    "#### Rotation shortcut (section 3.2.1)"
   ]
  },
  {
   "cell_type": "markdown",
   "id": "0c3a126a",
   "metadata": {},
   "source": [
    "Listing 3.3 Shortcut function for rotations"
   ]
  },
  {
   "cell_type": "code",
   "id": "46c336aa",
   "metadata": {
    "ExecuteTime": {
     "end_time": "2024-12-23T15:09:33.928620Z",
     "start_time": "2024-12-23T15:09:33.927259Z"
    }
   },
   "source": [
    "def cis(theta):\n",
    "    return cos(theta) + 1j*sin(theta)"
   ],
   "outputs": [],
   "execution_count": 21
  },
  {
   "cell_type": "markdown",
   "id": "032ed818",
   "metadata": {},
   "source": [
    "#### Basic single-qubit gates (section 3.2.2)"
   ]
  },
  {
   "cell_type": "markdown",
   "id": "111f808c",
   "metadata": {},
   "source": [
    "The following code snippets simulate gate transformations on a single-qubit state."
   ]
  },
  {
   "cell_type": "markdown",
   "id": "4ed9d909",
   "metadata": {},
   "source": [
    "**X-gate:**"
   ]
  },
  {
   "cell_type": "code",
   "id": "17fb2ebd",
   "metadata": {
    "ExecuteTime": {
     "end_time": "2024-12-23T15:09:33.938082Z",
     "start_time": "2024-12-23T15:09:33.936564Z"
    }
   },
   "source": [
    "state = [state[1], state[0]]"
   ],
   "outputs": [],
   "execution_count": 22
  },
  {
   "cell_type": "markdown",
   "id": "ae3e0685",
   "metadata": {},
   "source": [
    "Example:"
   ]
  },
  {
   "cell_type": "code",
   "id": "406cab82",
   "metadata": {
    "ExecuteTime": {
     "end_time": "2024-12-23T15:09:33.949945Z",
     "start_time": "2024-12-23T15:09:33.947642Z"
    }
   },
   "source": [
    "state = [0.2958+0.51235j, -0.40311+0.69821j]\n",
    "print_state_table(state)\n",
    "\n",
    "state = [state[1], state[0]]\n",
    "\n",
    "print_state_table(state)"
   ],
   "outputs": [
    {
     "name": "stdout",
     "output_type": "stream",
     "text": [
      "\n",
      "Outcome  Binary  Amplitude           Direction  Magnitude  Amplitude Bar             Probability\n",
      "------------------------------------------------------------------------------------------------\n",
      "0        0       0.2958 + i0.5123      60.00°   0.5916     \u001B[38;2;244;206;0m██████████████          \u001B[39m  0.35  \n",
      "1        1      -0.4031 + i0.6982     120.00°   0.8062     \u001B[38;2;56;153;33m███████████████████     \u001B[39m  0.65  \n",
      "\n",
      "\n",
      "Outcome  Binary  Amplitude           Direction  Magnitude  Amplitude Bar             Probability\n",
      "------------------------------------------------------------------------------------------------\n",
      "0        0      -0.4031 + i0.6982     120.00°   0.8062     \u001B[38;2;56;153;33m███████████████████     \u001B[39m  0.65  \n",
      "1        1       0.2958 + i0.5123      60.00°   0.5916     \u001B[38;2;244;206;0m██████████████          \u001B[39m  0.35  \n",
      "\n"
     ]
    }
   ],
   "execution_count": 23
  },
  {
   "cell_type": "markdown",
   "id": "21a63733",
   "metadata": {},
   "source": [
    "**Z-gate:**"
   ]
  },
  {
   "cell_type": "code",
   "id": "9d787676b96b7c1c",
   "metadata": {
    "ExecuteTime": {
     "end_time": "2024-12-23T15:09:33.958341Z",
     "start_time": "2024-12-23T15:09:33.956802Z"
    }
   },
   "source": [
    "state = [state[0], -state[1]]"
   ],
   "outputs": [],
   "execution_count": 24
  },
  {
   "cell_type": "markdown",
   "id": "8380d76f",
   "metadata": {},
   "source": [
    "Example:"
   ]
  },
  {
   "cell_type": "code",
   "id": "5e279677",
   "metadata": {
    "ExecuteTime": {
     "end_time": "2024-12-23T15:09:33.977406Z",
     "start_time": "2024-12-23T15:09:33.975194Z"
    }
   },
   "source": [
    "state = [0.2958+0.51235j, -0.40311+0.69821j]\n",
    "print_state_table(state)\n",
    "\n",
    "state = [state[0], -state[1]]\n",
    "\n",
    "print_state_table(state)"
   ],
   "outputs": [
    {
     "name": "stdout",
     "output_type": "stream",
     "text": [
      "\n",
      "Outcome  Binary  Amplitude           Direction  Magnitude  Amplitude Bar             Probability\n",
      "------------------------------------------------------------------------------------------------\n",
      "0        0       0.2958 + i0.5123      60.00°   0.5916     \u001B[38;2;244;206;0m██████████████          \u001B[39m  0.35  \n",
      "1        1      -0.4031 + i0.6982     120.00°   0.8062     \u001B[38;2;56;153;33m███████████████████     \u001B[39m  0.65  \n",
      "\n",
      "\n",
      "Outcome  Binary  Amplitude           Direction  Magnitude  Amplitude Bar             Probability\n",
      "------------------------------------------------------------------------------------------------\n",
      "0        0       0.2958 + i0.5123      60.00°   0.5916     \u001B[38;2;244;206;0m██████████████          \u001B[39m  0.35  \n",
      "1        1       0.4031 - i0.6982     -60.00°   0.8062     \u001B[38;2;252;189;234m███████████████████     \u001B[39m  0.65  \n",
      "\n"
     ]
    }
   ],
   "execution_count": 25
  },
  {
   "cell_type": "markdown",
   "id": "8df840ec",
   "metadata": {},
   "source": [
    "**Phase gate:**"
   ]
  },
  {
   "cell_type": "code",
   "id": "282317df",
   "metadata": {
    "ExecuteTime": {
     "end_time": "2024-12-23T15:09:33.994809Z",
     "start_time": "2024-12-23T15:09:33.993147Z"
    }
   },
   "source": [
    "phi = pi/3\n",
    "state = [state[0], cis(phi)*state[1]] # we can use the cis shortcut function from listing 3.3"
   ],
   "outputs": [],
   "execution_count": 26
  },
  {
   "cell_type": "markdown",
   "id": "799f0eeb",
   "metadata": {},
   "source": [
    "Example:"
   ]
  },
  {
   "cell_type": "code",
   "id": "80cdbcf4",
   "metadata": {
    "ExecuteTime": {
     "end_time": "2024-12-23T15:09:34.006812Z",
     "start_time": "2024-12-23T15:09:34.004615Z"
    }
   },
   "source": [
    "state = [0.2958+0.51235j, -0.40311+0.69821j]\n",
    "print_state_table(state)\n",
    "\n",
    "phi = pi/3\n",
    "state = [state[0], cis(phi)*state[1]]\n",
    "\n",
    "print_state_table(state)"
   ],
   "outputs": [
    {
     "name": "stdout",
     "output_type": "stream",
     "text": [
      "\n",
      "Outcome  Binary  Amplitude           Direction  Magnitude  Amplitude Bar             Probability\n",
      "------------------------------------------------------------------------------------------------\n",
      "0        0       0.2958 + i0.5123      60.00°   0.5916     \u001B[38;2;244;206;0m██████████████          \u001B[39m  0.35  \n",
      "1        1      -0.4031 + i0.6982     120.00°   0.8062     \u001B[38;2;56;153;33m███████████████████     \u001B[39m  0.65  \n",
      "\n",
      "\n",
      "Outcome  Binary  Amplitude           Direction  Magnitude  Amplitude Bar             Probability\n",
      "------------------------------------------------------------------------------------------------\n",
      "0        0       0.2958 + i0.5123      60.00°   0.5916     \u001B[38;2;244;206;0m██████████████          \u001B[39m  0.35  \n",
      "1        1      -0.8062 + i0.0000     180.00°   0.8062     \u001B[38;2;37;232;231m███████████████████     \u001B[39m  0.65  \n",
      "\n"
     ]
    }
   ],
   "execution_count": 27
  },
  {
   "cell_type": "markdown",
   "id": "ffc0d7cc",
   "metadata": {},
   "source": [
    "**Hadamard gate:**"
   ]
  },
  {
   "cell_type": "code",
   "id": "827e5434",
   "metadata": {
    "ExecuteTime": {
     "end_time": "2024-12-23T15:09:34.015859Z",
     "start_time": "2024-12-23T15:09:34.014291Z"
    }
   },
   "source": [
    "state = [sqrt(0.5)*(state[0] + state[1]), sqrt(0.5)*(state[0] -state[1])]"
   ],
   "outputs": [],
   "execution_count": 28
  },
  {
   "cell_type": "markdown",
   "id": "44669c67",
   "metadata": {},
   "source": [
    "Example:"
   ]
  },
  {
   "cell_type": "code",
   "id": "28c16f0d",
   "metadata": {
    "ExecuteTime": {
     "end_time": "2024-12-23T15:09:34.041825Z",
     "start_time": "2024-12-23T15:09:34.039178Z"
    }
   },
   "source": [
    "state = [0.2958+0.51235j, -0.40311+0.69821j]\n",
    "print_state_table(state)\n",
    "\n",
    "state = [sqrt(0.5)*(state[0] + state[1]), sqrt(0.5)*(state[0] -state[1])]\n",
    "\n",
    "print_state_table(state)"
   ],
   "outputs": [
    {
     "name": "stdout",
     "output_type": "stream",
     "text": [
      "\n",
      "Outcome  Binary  Amplitude           Direction  Magnitude  Amplitude Bar             Probability\n",
      "------------------------------------------------------------------------------------------------\n",
      "0        0       0.2958 + i0.5123      60.00°   0.5916     \u001B[38;2;244;206;0m██████████████          \u001B[39m  0.35  \n",
      "1        1      -0.4031 + i0.6982     120.00°   0.8062     \u001B[38;2;56;153;33m███████████████████     \u001B[39m  0.65  \n",
      "\n",
      "\n",
      "Outcome  Binary  Amplitude           Direction  Magnitude  Amplitude Bar             Probability\n",
      "------------------------------------------------------------------------------------------------\n",
      "0        0      -0.0759 + i0.8560      95.70°   0.8594     \u001B[38;2;138;178;0m████████████████████    \u001B[39m  0.7385\n",
      "1        1       0.4942 - i0.1314     -14.89°   0.5114     \u001B[38;2;254;79;69m████████████            \u001B[39m  0.2615\n",
      "\n"
     ]
    }
   ],
   "execution_count": 29
  },
  {
   "cell_type": "markdown",
   "id": "7e6b8339",
   "metadata": {},
   "source": [
    "**$R_Z$-gate:**"
   ]
  },
  {
   "cell_type": "code",
   "id": "8bb6776c",
   "metadata": {
    "ExecuteTime": {
     "end_time": "2024-12-23T15:09:34.080642Z",
     "start_time": "2024-12-23T15:09:34.078688Z"
    }
   },
   "source": [
    "theta = pi/3\n",
    "state = [cis(-theta/2)*state[0], cis(theta/2)*state[1]]"
   ],
   "outputs": [],
   "execution_count": 30
  },
  {
   "cell_type": "markdown",
   "id": "819c6ced",
   "metadata": {},
   "source": [
    "Example:"
   ]
  },
  {
   "cell_type": "code",
   "id": "738fdbb6",
   "metadata": {
    "ExecuteTime": {
     "end_time": "2024-12-23T15:09:34.090412Z",
     "start_time": "2024-12-23T15:09:34.088200Z"
    }
   },
   "source": [
    "state = [0.2958+0.51235j, -0.40311+0.69821j]\n",
    "print_state_table(state)\n",
    "\n",
    "theta = pi/3\n",
    "state = [cis(-theta/2)*state[0], cis(theta/2)*state[1]]\n",
    "\n",
    "print_state_table(state)"
   ],
   "outputs": [
    {
     "name": "stdout",
     "output_type": "stream",
     "text": [
      "\n",
      "Outcome  Binary  Amplitude           Direction  Magnitude  Amplitude Bar             Probability\n",
      "------------------------------------------------------------------------------------------------\n",
      "0        0       0.2958 + i0.5123      60.00°   0.5916     \u001B[38;2;244;206;0m██████████████          \u001B[39m  0.35  \n",
      "1        1      -0.4031 + i0.6982     120.00°   0.8062     \u001B[38;2;56;153;33m███████████████████     \u001B[39m  0.65  \n",
      "\n",
      "\n",
      "Outcome  Binary  Amplitude           Direction  Magnitude  Amplitude Bar             Probability\n",
      "------------------------------------------------------------------------------------------------\n",
      "0        0       0.5123 + i0.2958      30.00°   0.5916     \u001B[38;2;254;137;0m██████████████          \u001B[39m  0.35  \n",
      "1        1      -0.6982 + i0.4031     150.00°   0.8062     \u001B[38;2;49;191;130m███████████████████     \u001B[39m  0.65  \n",
      "\n"
     ]
    }
   ],
   "execution_count": 31
  },
  {
   "cell_type": "markdown",
   "id": "eddf4cfa",
   "metadata": {},
   "source": [
    "**Y-gate:**"
   ]
  },
  {
   "cell_type": "code",
   "id": "9a23b5d5",
   "metadata": {
    "ExecuteTime": {
     "end_time": "2024-12-23T15:09:34.098498Z",
     "start_time": "2024-12-23T15:09:34.096856Z"
    }
   },
   "source": [
    "state = [-1j*state[1], 1j*state[0]]"
   ],
   "outputs": [],
   "execution_count": 32
  },
  {
   "cell_type": "markdown",
   "id": "3708917f",
   "metadata": {},
   "source": [
    "Example:"
   ]
  },
  {
   "cell_type": "code",
   "id": "7446c5f1",
   "metadata": {
    "ExecuteTime": {
     "end_time": "2024-12-23T15:09:34.116874Z",
     "start_time": "2024-12-23T15:09:34.114332Z"
    }
   },
   "source": [
    "state = [0.2958+0.51235j, -0.40311+0.69821j]\n",
    "print_state_table(state)\n",
    "\n",
    "theta = pi/3\n",
    "state = [-1j*state[1], 1j*state[0]]\n",
    "\n",
    "print_state_table(state)"
   ],
   "outputs": [
    {
     "name": "stdout",
     "output_type": "stream",
     "text": [
      "\n",
      "Outcome  Binary  Amplitude           Direction  Magnitude  Amplitude Bar             Probability\n",
      "------------------------------------------------------------------------------------------------\n",
      "0        0       0.2958 + i0.5123      60.00°   0.5916     \u001B[38;2;244;206;0m██████████████          \u001B[39m  0.35  \n",
      "1        1      -0.4031 + i0.6982     120.00°   0.8062     \u001B[38;2;56;153;33m███████████████████     \u001B[39m  0.65  \n",
      "\n",
      "\n",
      "Outcome  Binary  Amplitude           Direction  Magnitude  Amplitude Bar             Probability\n",
      "------------------------------------------------------------------------------------------------\n",
      "0        0       0.6982 + i0.4031      30.00°   0.8062     \u001B[38;2;254;137;0m███████████████████     \u001B[39m  0.65  \n",
      "1        1      -0.5123 + i0.2958     150.00°   0.5916     \u001B[38;2;49;191;130m██████████████          \u001B[39m  0.35  \n",
      "\n"
     ]
    }
   ],
   "execution_count": 33
  },
  {
   "cell_type": "markdown",
   "id": "fc7eb933",
   "metadata": {},
   "source": [
    "#### The general form of a single-qubit gate (section 3.2.3)"
   ]
  },
  {
   "cell_type": "markdown",
   "id": "eb4e6f8a",
   "metadata": {},
   "source": [
    "Applying a Hadamard gate to a single qubit state using the general form of single-qubit gates:"
   ]
  },
  {
   "cell_type": "code",
   "id": "a1824463",
   "metadata": {
    "ExecuteTime": {
     "end_time": "2024-12-23T15:09:34.137952Z",
     "start_time": "2024-12-23T15:09:34.136246Z"
    }
   },
   "source": [
    "(a, b, c, d) = (1/sqrt(2), 1/sqrt(2), 1/sqrt(2), -1/sqrt(2))\n",
    "state = [a*state[0] + b*state[1], c*state[0] + d*state[1]]"
   ],
   "outputs": [],
   "execution_count": 34
  },
  {
   "cell_type": "markdown",
   "id": "e610c7cf",
   "metadata": {},
   "source": [
    "#### More basic single-qubit gates (section 3.2.4)"
   ]
  },
  {
   "cell_type": "markdown",
   "id": "e21d3329",
   "metadata": {},
   "source": [
    "**$R_X$-gate**\n",
    "\n",
    "Following are examples of applying a $R_X$-gate to an initial single-qubit state with various angle parameters:"
   ]
  },
  {
   "cell_type": "code",
   "id": "cbbeeb88",
   "metadata": {
    "ExecuteTime": {
     "end_time": "2024-12-23T15:09:34.147823Z",
     "start_time": "2024-12-23T15:09:34.145581Z"
    }
   },
   "source": [
    "state = init_state()\n",
    "\n",
    "print_state_table(state)\n",
    "\n",
    "theta = 0\n",
    "(a, b, c, d) = (cos(theta/2), complex(0, -sin(theta/2)), complex(0, -sin(theta/2)), cos(theta/2))\n",
    "state = [a*state[0] + b*state[1], c*state[0] + d*state[1]]\n",
    "print_state_table(state)"
   ],
   "outputs": [
    {
     "name": "stdout",
     "output_type": "stream",
     "text": [
      "\n",
      "Outcome  Binary  Amplitude           Direction  Magnitude  Amplitude Bar             Probability\n",
      "------------------------------------------------------------------------------------------------\n",
      "0        0       1.0000 + i0.0000       0.00°   1          \u001B[38;2;246;54;26m████████████████████████\u001B[39m  1     \n",
      "1        1       0.0000 + i0.0000               0          \u001B[38;2;246;54;26m                        \u001B[39m  0     \n",
      "\n",
      "\n",
      "Outcome  Binary  Amplitude           Direction  Magnitude  Amplitude Bar             Probability\n",
      "------------------------------------------------------------------------------------------------\n",
      "0        0       1.0000 + i0.0000       0.00°   1.0        \u001B[38;2;246;54;26m████████████████████████\u001B[39m  1.0   \n",
      "1        1       0.0000 + i0.0000               0.0        \u001B[38;2;246;54;26m                        \u001B[39m  0.0   \n",
      "\n"
     ]
    }
   ],
   "execution_count": 35
  },
  {
   "cell_type": "code",
   "id": "7ad449be",
   "metadata": {
    "ExecuteTime": {
     "end_time": "2024-12-23T15:09:34.154917Z",
     "start_time": "2024-12-23T15:09:34.152615Z"
    }
   },
   "source": [
    "state = init_state()\n",
    "\n",
    "print_state_table(state)\n",
    "\n",
    "theta = pi\n",
    "(a, b, c, d) = (cos(theta/2), complex(0, -sin(theta/2)), complex(0, -sin(theta/2)), cos(theta/2))\n",
    "state = [a*state[0] + b*state[1], c*state[0] + d*state[1]]\n",
    "print_state_table(state)"
   ],
   "outputs": [
    {
     "name": "stdout",
     "output_type": "stream",
     "text": [
      "\n",
      "Outcome  Binary  Amplitude           Direction  Magnitude  Amplitude Bar             Probability\n",
      "------------------------------------------------------------------------------------------------\n",
      "0        0       1.0000 + i0.0000       0.00°   1          \u001B[38;2;246;54;26m████████████████████████\u001B[39m  1     \n",
      "1        1       0.0000 + i0.0000               0          \u001B[38;2;246;54;26m                        \u001B[39m  0     \n",
      "\n",
      "\n",
      "Outcome  Binary  Amplitude           Direction  Magnitude  Amplitude Bar             Probability\n",
      "------------------------------------------------------------------------------------------------\n",
      "0        0       0.0000 + i0.0000               0.0        \u001B[38;2;246;54;26m                        \u001B[39m  0.0   \n",
      "1        1       0.0000 - i1.0000     -90.00°   1.0        \u001B[38;2;174;160;255m████████████████████████\u001B[39m  1.0   \n",
      "\n"
     ]
    }
   ],
   "execution_count": 36
  },
  {
   "cell_type": "code",
   "id": "e4b3a306",
   "metadata": {
    "ExecuteTime": {
     "end_time": "2024-12-23T15:09:34.175631Z",
     "start_time": "2024-12-23T15:09:34.173112Z"
    }
   },
   "source": [
    "state = init_state()\n",
    "\n",
    "print_state_table(state)\n",
    "\n",
    "theta = pi/2\n",
    "(a, b, c, d) = (cos(theta/2), complex(0, -sin(theta/2)), complex(0, -sin(theta/2)), cos(theta/2))\n",
    "state = [a*state[0] + b*state[1], c*state[0] + d*state[1]]\n",
    "print_state_table(state)"
   ],
   "outputs": [
    {
     "name": "stdout",
     "output_type": "stream",
     "text": [
      "\n",
      "Outcome  Binary  Amplitude           Direction  Magnitude  Amplitude Bar             Probability\n",
      "------------------------------------------------------------------------------------------------\n",
      "0        0       1.0000 + i0.0000       0.00°   1          \u001B[38;2;246;54;26m████████████████████████\u001B[39m  1     \n",
      "1        1       0.0000 + i0.0000               0          \u001B[38;2;246;54;26m                        \u001B[39m  0     \n",
      "\n",
      "\n",
      "Outcome  Binary  Amplitude           Direction  Magnitude  Amplitude Bar             Probability\n",
      "------------------------------------------------------------------------------------------------\n",
      "0        0       0.7071 + i0.0000       0.00°   0.7071     \u001B[38;2;246;54;26m████████████████        \u001B[39m  0.5   \n",
      "1        1       0.0000 - i0.7071     -90.00°   0.7071     \u001B[38;2;174;160;255m████████████████        \u001B[39m  0.5   \n",
      "\n"
     ]
    }
   ],
   "execution_count": 37
  },
  {
   "cell_type": "code",
   "id": "ce96924e",
   "metadata": {
    "ExecuteTime": {
     "end_time": "2024-12-23T15:09:34.194340Z",
     "start_time": "2024-12-23T15:09:34.191698Z"
    }
   },
   "source": [
    "state = init_state()\n",
    "\n",
    "print_state_table(state)\n",
    "\n",
    "theta = 2*pi\n",
    "(a, b, c, d) = (cos(theta/2), complex(0, -sin(theta/2)), complex(0, -sin(theta/2)), cos(theta/2))\n",
    "state = [a*state[0] + b*state[1], c*state[0] + d*state[1]]\n",
    "print_state_table(state)"
   ],
   "outputs": [
    {
     "name": "stdout",
     "output_type": "stream",
     "text": [
      "\n",
      "Outcome  Binary  Amplitude           Direction  Magnitude  Amplitude Bar             Probability\n",
      "------------------------------------------------------------------------------------------------\n",
      "0        0       1.0000 + i0.0000       0.00°   1          \u001B[38;2;246;54;26m████████████████████████\u001B[39m  1     \n",
      "1        1       0.0000 + i0.0000               0          \u001B[38;2;246;54;26m                        \u001B[39m  0     \n",
      "\n",
      "\n",
      "Outcome  Binary  Amplitude           Direction  Magnitude  Amplitude Bar             Probability\n",
      "------------------------------------------------------------------------------------------------\n",
      "0        0      -1.0000 + i0.0000     180.00°   1.0        \u001B[38;2;37;232;234m████████████████████████\u001B[39m  1.0   \n",
      "1        1       0.0000 + i0.0000               0.0        \u001B[38;2;174;160;255m                        \u001B[39m  0.0   \n",
      "\n"
     ]
    }
   ],
   "execution_count": 38
  },
  {
   "cell_type": "code",
   "id": "2ef01e88",
   "metadata": {
    "ExecuteTime": {
     "end_time": "2024-12-23T15:09:34.209403Z",
     "start_time": "2024-12-23T15:09:34.206391Z"
    }
   },
   "source": [
    "state = init_state()\n",
    "\n",
    "print_state_table(state)\n",
    "\n",
    "theta = 3*pi/2\n",
    "(a, b, c, d) = (cos(theta/2), complex(0, -sin(theta/2)), complex(0, -sin(theta/2)), cos(theta/2))\n",
    "state = [a*state[0] + b*state[1], c*state[0] + d*state[1]]\n",
    "print_state_table(state)"
   ],
   "outputs": [
    {
     "name": "stdout",
     "output_type": "stream",
     "text": [
      "\n",
      "Outcome  Binary  Amplitude           Direction  Magnitude  Amplitude Bar             Probability\n",
      "------------------------------------------------------------------------------------------------\n",
      "0        0       1.0000 + i0.0000       0.00°   1          \u001B[38;2;246;54;26m████████████████████████\u001B[39m  1     \n",
      "1        1       0.0000 + i0.0000               0          \u001B[38;2;246;54;26m                        \u001B[39m  0     \n",
      "\n",
      "\n",
      "Outcome  Binary  Amplitude           Direction  Magnitude  Amplitude Bar             Probability\n",
      "------------------------------------------------------------------------------------------------\n",
      "0        0      -0.7071 + i0.0000     180.00°   0.7071     \u001B[38;2;37;232;234m████████████████        \u001B[39m  0.5   \n",
      "1        1       0.0000 - i0.7071     -90.00°   0.7071     \u001B[38;2;174;160;255m████████████████        \u001B[39m  0.5   \n",
      "\n"
     ]
    }
   ],
   "execution_count": 39
  },
  {
   "cell_type": "markdown",
   "id": "6d612111",
   "metadata": {},
   "source": [
    "**$R_Y$-gate**\n",
    "\n",
    "Following are examples of applying a $R_Y$-gate to an initial single-qubit state with various angle parameters:"
   ]
  },
  {
   "cell_type": "code",
   "id": "4c180c83",
   "metadata": {
    "ExecuteTime": {
     "end_time": "2024-12-23T15:09:34.229531Z",
     "start_time": "2024-12-23T15:09:34.226681Z"
    }
   },
   "source": [
    "state = init_state()\n",
    "\n",
    "print_state_table(state)\n",
    "\n",
    "theta = 0\n",
    "(a, b, c, d) = (cos(theta/2), -sin(theta/2), sin(theta/2), cos(theta/2))\n",
    "state = [a*state[0] + b*state[1], c*state[0] + d*state[1]]\n",
    "print_state_table(state)"
   ],
   "outputs": [
    {
     "name": "stdout",
     "output_type": "stream",
     "text": [
      "\n",
      "Outcome  Binary  Amplitude           Direction  Magnitude  Amplitude Bar             Probability\n",
      "------------------------------------------------------------------------------------------------\n",
      "0        0       1.0000 + i0.0000       0.00°   1          \u001B[38;2;246;54;26m████████████████████████\u001B[39m  1     \n",
      "1        1       0.0000 + i0.0000               0          \u001B[38;2;246;54;26m                        \u001B[39m  0     \n",
      "\n",
      "\n",
      "Outcome  Binary  Amplitude           Direction  Magnitude  Amplitude Bar             Probability\n",
      "------------------------------------------------------------------------------------------------\n",
      "0        0       1.0000 + i0.0000       0.00°   1.0        \u001B[38;2;246;54;26m████████████████████████\u001B[39m  1.0   \n",
      "1        1       0.0000 + i0.0000               0.0        \u001B[38;2;246;54;26m                        \u001B[39m  0.0   \n",
      "\n"
     ]
    }
   ],
   "execution_count": 40
  },
  {
   "cell_type": "code",
   "id": "1e70f61b",
   "metadata": {
    "ExecuteTime": {
     "end_time": "2024-12-23T15:09:34.255277Z",
     "start_time": "2024-12-23T15:09:34.252529Z"
    }
   },
   "source": [
    "state = init_state()\n",
    "\n",
    "print_state_table(state)\n",
    "\n",
    "theta = pi\n",
    "(a, b, c, d) = (cos(theta/2), -sin(theta/2), sin(theta/2), cos(theta/2))\n",
    "state = [a*state[0] + b*state[1], c*state[0] + d*state[1]]\n",
    "print_state_table(state)"
   ],
   "outputs": [
    {
     "name": "stdout",
     "output_type": "stream",
     "text": [
      "\n",
      "Outcome  Binary  Amplitude           Direction  Magnitude  Amplitude Bar             Probability\n",
      "------------------------------------------------------------------------------------------------\n",
      "0        0       1.0000 + i0.0000       0.00°   1          \u001B[38;2;246;54;26m████████████████████████\u001B[39m  1     \n",
      "1        1       0.0000 + i0.0000               0          \u001B[38;2;246;54;26m                        \u001B[39m  0     \n",
      "\n",
      "\n",
      "Outcome  Binary  Amplitude           Direction  Magnitude  Amplitude Bar             Probability\n",
      "------------------------------------------------------------------------------------------------\n",
      "0        0       0.0000 + i0.0000               0.0        \u001B[38;2;246;54;26m                        \u001B[39m  0.0   \n",
      "1        1       1.0000 + i0.0000       0.00°   1.0        \u001B[38;2;246;54;26m████████████████████████\u001B[39m  1.0   \n",
      "\n"
     ]
    }
   ],
   "execution_count": 41
  },
  {
   "cell_type": "code",
   "id": "7e76c167",
   "metadata": {
    "ExecuteTime": {
     "end_time": "2024-12-23T15:09:34.273846Z",
     "start_time": "2024-12-23T15:09:34.271256Z"
    }
   },
   "source": [
    "state = init_state()\n",
    "\n",
    "print_state_table(state)\n",
    "\n",
    "theta = pi/2\n",
    "(a, b, c, d) = (cos(theta/2), -sin(theta/2), sin(theta/2), cos(theta/2))\n",
    "state = [a*state[0] + b*state[1], c*state[0] + d*state[1]]\n",
    "print_state_table(state)"
   ],
   "outputs": [
    {
     "name": "stdout",
     "output_type": "stream",
     "text": [
      "\n",
      "Outcome  Binary  Amplitude           Direction  Magnitude  Amplitude Bar             Probability\n",
      "------------------------------------------------------------------------------------------------\n",
      "0        0       1.0000 + i0.0000       0.00°   1          \u001B[38;2;246;54;26m████████████████████████\u001B[39m  1     \n",
      "1        1       0.0000 + i0.0000               0          \u001B[38;2;246;54;26m                        \u001B[39m  0     \n",
      "\n",
      "\n",
      "Outcome  Binary  Amplitude           Direction  Magnitude  Amplitude Bar             Probability\n",
      "------------------------------------------------------------------------------------------------\n",
      "0        0       0.7071 + i0.0000       0.00°   0.7071     \u001B[38;2;246;54;26m████████████████        \u001B[39m  0.5   \n",
      "1        1       0.7071 + i0.0000       0.00°   0.7071     \u001B[38;2;246;54;26m████████████████        \u001B[39m  0.5   \n",
      "\n"
     ]
    }
   ],
   "execution_count": 42
  },
  {
   "cell_type": "code",
   "id": "98339de3",
   "metadata": {
    "ExecuteTime": {
     "end_time": "2024-12-23T15:09:34.295874Z",
     "start_time": "2024-12-23T15:09:34.292891Z"
    }
   },
   "source": [
    "state = init_state()\n",
    "\n",
    "print_state_table(state)\n",
    "\n",
    "theta = 2*pi\n",
    "(a, b, c, d) = (cos(theta/2), -sin(theta/2), sin(theta/2), cos(theta/2))\n",
    "state = [a*state[0] + b*state[1], c*state[0] + d*state[1]]\n",
    "print_state_table(state)"
   ],
   "outputs": [
    {
     "name": "stdout",
     "output_type": "stream",
     "text": [
      "\n",
      "Outcome  Binary  Amplitude           Direction  Magnitude  Amplitude Bar             Probability\n",
      "------------------------------------------------------------------------------------------------\n",
      "0        0       1.0000 + i0.0000       0.00°   1          \u001B[38;2;246;54;26m████████████████████████\u001B[39m  1     \n",
      "1        1       0.0000 + i0.0000               0          \u001B[38;2;246;54;26m                        \u001B[39m  0     \n",
      "\n",
      "\n",
      "Outcome  Binary  Amplitude           Direction  Magnitude  Amplitude Bar             Probability\n",
      "------------------------------------------------------------------------------------------------\n",
      "0        0      -1.0000 + i0.0000     180.00°   1.0        \u001B[38;2;37;232;234m████████████████████████\u001B[39m  1.0   \n",
      "1        1       0.0000 + i0.0000               0.0        \u001B[38;2;246;54;26m                        \u001B[39m  0.0   \n",
      "\n"
     ]
    }
   ],
   "execution_count": 43
  },
  {
   "cell_type": "code",
   "id": "749d079a",
   "metadata": {
    "ExecuteTime": {
     "end_time": "2024-12-23T15:09:34.336729Z",
     "start_time": "2024-12-23T15:09:34.333500Z"
    }
   },
   "source": [
    "state = init_state()\n",
    "\n",
    "print_state_table(state)\n",
    "\n",
    "theta = 3*pi/2\n",
    "(a, b, c, d) = (cos(theta/2), -sin(theta/2), sin(theta/2), cos(theta/2))\n",
    "state = [a*state[0] + b*state[1], c*state[0] + d*state[1]]\n",
    "print_state_table(state)"
   ],
   "outputs": [
    {
     "name": "stdout",
     "output_type": "stream",
     "text": [
      "\n",
      "Outcome  Binary  Amplitude           Direction  Magnitude  Amplitude Bar             Probability\n",
      "------------------------------------------------------------------------------------------------\n",
      "0        0       1.0000 + i0.0000       0.00°   1          \u001B[38;2;246;54;26m████████████████████████\u001B[39m  1     \n",
      "1        1       0.0000 + i0.0000               0          \u001B[38;2;246;54;26m                        \u001B[39m  0     \n",
      "\n",
      "\n",
      "Outcome  Binary  Amplitude           Direction  Magnitude  Amplitude Bar             Probability\n",
      "------------------------------------------------------------------------------------------------\n",
      "0        0      -0.7071 + i0.0000     180.00°   0.7071     \u001B[38;2;37;232;234m████████████████        \u001B[39m  0.5   \n",
      "1        1       0.7071 + i0.0000       0.00°   0.7071     \u001B[38;2;246;54;26m████████████████        \u001B[39m  0.5   \n",
      "\n"
     ]
    }
   ],
   "execution_count": 44
  },
  {
   "cell_type": "markdown",
   "id": "3fc2a2b9",
   "metadata": {},
   "source": [
    "#### Single-qubit gate inverses (section 3.2.5)"
   ]
  },
  {
   "cell_type": "code",
   "id": "f455f5b0",
   "metadata": {
    "ExecuteTime": {
     "end_time": "2024-12-23T15:09:34.358108Z",
     "start_time": "2024-12-23T15:09:34.356272Z"
    }
   },
   "source": [
    "state = init_state() # create a single-qubit default state\n",
    "\n",
    "state = [state[1], state[0]] # Apply an X-gate to the state\n",
    "\n",
    "print(state)"
   ],
   "outputs": [
    {
     "name": "stdout",
     "output_type": "stream",
     "text": [
      "[0, 1]\n"
     ]
    }
   ],
   "execution_count": 45
  },
  {
   "cell_type": "code",
   "id": "25775758",
   "metadata": {
    "ExecuteTime": {
     "end_time": "2024-12-23T15:09:34.378623Z",
     "start_time": "2024-12-23T15:09:34.376907Z"
    }
   },
   "source": [
    "state = [state[1], state[0]]\n",
    "\n",
    "print(state)"
   ],
   "outputs": [
    {
     "name": "stdout",
     "output_type": "stream",
     "text": [
      "[1, 0]\n"
     ]
    }
   ],
   "execution_count": 46
  },
  {
   "cell_type": "markdown",
   "id": "91e9d6d4",
   "metadata": {},
   "source": [
    "#### Printing and visualizing the state (section 3.3.1)\n"
   ]
  },
  {
   "cell_type": "markdown",
   "id": "f225faf0",
   "metadata": {},
   "source": [
    "Listing 3.4 Function for visualizing a quantum state with a state table"
   ]
  },
  {
   "cell_type": "code",
   "id": "491682c0",
   "metadata": {
    "ExecuteTime": {
     "end_time": "2024-12-23T15:09:34.400237Z",
     "start_time": "2024-12-23T15:09:34.397544Z"
    }
   },
   "source": [
    "def to_table(s, decimals=5):\n",
    "    table = [\n",
    "        [k, s[k], atan2(s[k].imag, s[k].real) / (2 * pi) * 360, abs(s[k]),\n",
    "         abs(s[k]) ** 2] for k in range(len(s))] # Create nested lists with outcome, amplitude, direction, magnitude, and probability\n",
    "\n",
    "    table_r = [[round(x, decimals) if isinstance(x, float) else round(\n",
    "        x.real) + 1j * round(x.imag, decimals) if isinstance(x,complex) else\n",
    "    x for x in table[k]] for k in range(len(table))] # Round the values (the default number of digits is 5)\n",
    "\n",
    "    return table_r\n",
    "\n",
    "def print_state(state, decimals=5): # Create a function that prints the state table for a given state\n",
    "    print(*to_table(state, decimals),sep='\\n')"
   ],
   "outputs": [],
   "execution_count": 47
  },
  {
   "cell_type": "code",
   "id": "dfc938e9",
   "metadata": {
    "ExecuteTime": {
     "end_time": "2024-12-23T15:09:34.415200Z",
     "start_time": "2024-12-23T15:09:34.413580Z"
    }
   },
   "source": [
    "state = init_state()\n",
    "print_state(state)"
   ],
   "outputs": [
    {
     "name": "stdout",
     "output_type": "stream",
     "text": [
      "[0, 1, 0.0, 1, 1]\n",
      "[1, 0, 0.0, 0, 0]\n"
     ]
    }
   ],
   "execution_count": 48
  },
  {
   "cell_type": "markdown",
   "id": "20695dfa",
   "metadata": {},
   "source": [
    "#### Transforming a single-qubit state (section 3.3.2)"
   ]
  },
  {
   "cell_type": "markdown",
   "id": "8ff56b68",
   "metadata": {},
   "source": [
    "We can use nested lists to encode the four values of a gate:"
   ]
  },
  {
   "cell_type": "code",
   "id": "b253ef73",
   "metadata": {
    "ExecuteTime": {
     "end_time": "2024-12-23T15:09:34.424696Z",
     "start_time": "2024-12-23T15:09:34.422952Z"
    }
   },
   "source": [
    "gate = [[a, b], [c, d]]"
   ],
   "outputs": [],
   "execution_count": 49
  },
  {
   "cell_type": "markdown",
   "id": "4412fe4e",
   "metadata": {},
   "source": [
    "Listing 3.5 Code implementations of basic single-qubit gates"
   ]
  },
  {
   "cell_type": "code",
   "id": "ef8d6979",
   "metadata": {
    "ExecuteTime": {
     "end_time": "2024-12-23T15:09:34.442198Z",
     "start_time": "2024-12-23T15:09:34.438952Z"
    }
   },
   "source": [
    "x = [[0, 1], [1, 0]]\n",
    "\n",
    "z = [[1, 0], [0, -1]]\n",
    "\n",
    "def phase(theta):\n",
    "    return [[1, 0], [0, complex(cos(theta), sin(theta))]]\n",
    "\n",
    "h = [[1/sqrt(2), 1/sqrt(2)], [1/sqrt(2), -1/sqrt(2)]]\n",
    "\n",
    "def rz(theta):\n",
    "    return [[complex(cos(theta / 2), -sin(theta / 2)), 0],\n",
    "            [0, complex(cos(theta / 2), sin(theta / 2))]]\n",
    "\n",
    "y = [[0, complex(0, -1)], [complex(0, 1), 0]]\n",
    "\n",
    "def rx(theta):\n",
    "    return [[cos(theta/2), complex(0, -sin(theta/2))],\n",
    "            [complex(0, -sin(theta/2)), cos(theta/2)]]\n",
    "\n",
    "def ry(theta):\n",
    "    return [[cos(theta/2), -sin(theta/2)], [sin(theta/2), cos(theta/2)]]"
   ],
   "outputs": [],
   "execution_count": 50
  },
  {
   "cell_type": "markdown",
   "id": "b70a9671",
   "metadata": {},
   "source": [
    "We can compute the new amplitude for outcome 0 with:"
   ]
  },
  {
   "cell_type": "code",
   "id": "56abf2be",
   "metadata": {
    "ExecuteTime": {
     "end_time": "2024-12-23T15:09:34.457720Z",
     "start_time": "2024-12-23T15:09:34.455171Z"
    }
   },
   "source": [
    "gate[0][0]*state[0] + gate[0][1]*state[1]"
   ],
   "outputs": [
    {
     "data": {
      "text/plain": [
       "-0.7071067811865475"
      ]
     },
     "execution_count": 51,
     "metadata": {},
     "output_type": "execute_result"
    }
   ],
   "execution_count": 51
  },
  {
   "cell_type": "markdown",
   "id": "f13dc8a4",
   "metadata": {},
   "source": [
    "and the new amplitude for outcome 1 with:"
   ]
  },
  {
   "cell_type": "code",
   "id": "0312bcc6",
   "metadata": {
    "ExecuteTime": {
     "end_time": "2024-12-23T15:09:34.464423Z",
     "start_time": "2024-12-23T15:09:34.462651Z"
    }
   },
   "source": [
    "gate[1][0]*state[0] + gate[1][1]*state[1]"
   ],
   "outputs": [
    {
     "data": {
      "text/plain": [
       "0.7071067811865476"
      ]
     },
     "execution_count": 52,
     "metadata": {},
     "output_type": "execute_result"
    }
   ],
   "execution_count": 52
  },
  {
   "cell_type": "markdown",
   "id": "62e3c6cd",
   "metadata": {},
   "source": [
    "Listing 3.6 Function for simulating applying gate transformations to a single-qubit gate"
   ]
  },
  {
   "cell_type": "code",
   "id": "32ea5e68",
   "metadata": {
    "ExecuteTime": {
     "end_time": "2024-12-23T15:09:34.479407Z",
     "start_time": "2024-12-23T15:09:34.477655Z"
    }
   },
   "source": [
    "def transform(state, gate):\n",
    "    assert(len(state) == 2) # Check that the state has two values\n",
    "    z0 = state[0]\n",
    "    z1 = state[1]\n",
    "    state[0] = gate[0][0]*z0 + gate[0][1]*z1 # Find the new value of the first amplitude\n",
    "    state[1] = gate[1][0]*z0 + gate[1][1]*z1 # Find the new value of the second amplitude"
   ],
   "outputs": [],
   "execution_count": 53
  },
  {
   "cell_type": "markdown",
   "id": "fed52cd6",
   "metadata": {},
   "source": [
    "#### Single-qubit circuits (section 3.3.3)"
   ]
  },
  {
   "cell_type": "markdown",
   "id": "ce092403",
   "metadata": {},
   "source": [
    "Example single-qubit circuit:"
   ]
  },
  {
   "cell_type": "code",
   "id": "a37a5517",
   "metadata": {
    "ExecuteTime": {
     "end_time": "2024-12-23T15:09:34.500817Z",
     "start_time": "2024-12-23T15:09:34.498909Z"
    }
   },
   "source": [
    "s = init_state()\n",
    "transform(s, ry(2*pi/3))\n",
    "transform(s, x)\n",
    "transform(s, phase(pi/3))\n",
    "transform(s, h)"
   ],
   "outputs": [],
   "execution_count": 54
  },
  {
   "cell_type": "code",
   "id": "51de6638",
   "metadata": {
    "ExecuteTime": {
     "end_time": "2024-12-23T15:09:34.513786Z",
     "start_time": "2024-12-23T15:09:34.512057Z"
    }
   },
   "source": [
    "print_state(s)"
   ],
   "outputs": [
    {
     "name": "stdout",
     "output_type": "stream",
     "text": [
      "[0, (1+0.30619j), 21.20602, 0.84647, 0.71651]\n",
      "[1, -0.30619j, -35.10391, 0.53244, 0.28349]\n"
     ]
    }
   ],
   "execution_count": 55
  },
  {
   "cell_type": "code",
   "id": "310d5174",
   "metadata": {
    "ExecuteTime": {
     "end_time": "2024-12-23T15:09:34.522733Z",
     "start_time": "2024-12-23T15:09:34.520864Z"
    }
   },
   "source": [
    "print_state_table(s)"
   ],
   "outputs": [
    {
     "name": "stdout",
     "output_type": "stream",
     "text": [
      "\n",
      "Outcome  Binary  Amplitude           Direction  Magnitude  Amplitude Bar             Probability\n",
      "------------------------------------------------------------------------------------------------\n",
      "0        0       0.7891 + i0.3062      21.21°   0.8465     \u001B[38;2;251;111;1m████████████████████    \u001B[39m  0.7165\n",
      "1        1       0.4356 - i0.3062     -35.10°   0.5324     \u001B[38;2;255;136;142m████████████            \u001B[39m  0.2835\n",
      "\n"
     ]
    }
   ],
   "execution_count": 56
  },
  {
   "cell_type": "markdown",
   "id": "0c695a62",
   "metadata": {},
   "source": [
    "### Simulating measurement of single-qubit states (section 3.4)"
   ]
  },
  {
   "cell_type": "markdown",
   "id": "2ac43b1f",
   "metadata": {},
   "source": [
    "Simulate 10 runs of the example circuit above:"
   ]
  },
  {
   "cell_type": "code",
   "id": "be8ca1a7",
   "metadata": {
    "ExecuteTime": {
     "end_time": "2024-12-23T15:09:34.542367Z",
     "start_time": "2024-12-23T15:09:34.540421Z"
    }
   },
   "source": [
    "from random import choices\n",
    "from collections import Counter\n",
    "\n",
    "samples = choices(range(len(s)), [abs(s[k])**2 for k in range(len(s))], k=10) # we can use a list comprehension to find the respective probabilities\n",
    "print(samples)"
   ],
   "outputs": [
    {
     "name": "stdout",
     "output_type": "stream",
     "text": [
      "[1, 1, 0, 0, 0, 0, 0, 1, 0, 1]\n"
     ]
    }
   ],
   "execution_count": 57
  },
  {
   "cell_type": "code",
   "id": "638f841f",
   "metadata": {
    "ExecuteTime": {
     "end_time": "2024-12-23T15:09:34.561715Z",
     "start_time": "2024-12-23T15:09:34.559829Z"
    }
   },
   "source": [
    "for (k, v) in Counter(samples).items():\n",
    "    print(str(k) + ' -> ' + str(v))"
   ],
   "outputs": [
    {
     "name": "stdout",
     "output_type": "stream",
     "text": [
      "1 -> 4\n",
      "0 -> 6\n"
     ]
    }
   ],
   "execution_count": 58
  },
  {
   "cell_type": "markdown",
   "id": "d3b0faae",
   "metadata": {},
   "source": [
    "Simulate 1000 runs of the example circuit:"
   ]
  },
  {
   "cell_type": "code",
   "id": "e35bd43f",
   "metadata": {
    "ExecuteTime": {
     "end_time": "2024-12-23T15:09:34.581240Z",
     "start_time": "2024-12-23T15:09:34.578813Z"
    }
   },
   "source": [
    "samples = choices(range(len(s)), [abs(s[k])**2 for k in range(len(s))], k=1000)\n",
    "for (k, v) in Counter(samples).items():\n",
    "    print(str(k) + ' -> ' + str(v))"
   ],
   "outputs": [
    {
     "name": "stdout",
     "output_type": "stream",
     "text": [
      "0 -> 717\n",
      "1 -> 283\n"
     ]
    }
   ],
   "execution_count": 59
  },
  {
   "cell_type": "markdown",
   "id": "d743fbab",
   "metadata": {},
   "source": [
    "### Encoding the uniform distribution in a single-qubit quantum state (section 3.4.1)"
   ]
  },
  {
   "cell_type": "code",
   "id": "6de647d9",
   "metadata": {
    "ExecuteTime": {
     "end_time": "2024-12-23T15:09:34.603301Z",
     "start_time": "2024-12-23T15:09:34.601399Z"
    }
   },
   "source": [
    "state = init_state()\n",
    "\n",
    "transform(state, h)\n",
    "\n",
    "print_state(state)"
   ],
   "outputs": [
    {
     "name": "stdout",
     "output_type": "stream",
     "text": [
      "[0, 0.70711, 0.0, 0.70711, 0.5]\n",
      "[1, 0.70711, 0.0, 0.70711, 0.5]\n"
     ]
    }
   ],
   "execution_count": 60
  },
  {
   "cell_type": "code",
   "id": "a85c8a60",
   "metadata": {
    "ExecuteTime": {
     "end_time": "2024-12-23T15:09:34.622090Z",
     "start_time": "2024-12-23T15:09:34.619993Z"
    }
   },
   "source": [
    "samples = choices(range(len(state)), [abs(state[k])**2 for k in range(len(state))], k=10)\n",
    "\n",
    "for (k, v) in Counter(samples).items():\n",
    "    print(str(k) + ' -> ' + str(v))"
   ],
   "outputs": [
    {
     "name": "stdout",
     "output_type": "stream",
     "text": [
      "0 -> 6\n",
      "1 -> 4\n"
     ]
    }
   ],
   "execution_count": 61
  },
  {
   "cell_type": "markdown",
   "id": "32c6600e",
   "metadata": {},
   "source": [
    "#### Encoding a Bernoulli distribution in a single-qubit quantum state (section 3.5.1)"
   ]
  },
  {
   "cell_type": "code",
   "id": "758a2ac4",
   "metadata": {
    "ExecuteTime": {
     "end_time": "2024-12-23T15:09:34.640693Z",
     "start_time": "2024-12-23T15:09:34.638737Z"
    }
   },
   "source": [
    "from math import acos\n",
    "\n",
    "p = 0.7\n",
    "theta = 2*acos(sqrt(p)) # find theta according to p\n",
    "\n",
    "s = init_state()\n",
    "transform(s, ry(theta)) # apply an ry(theta) rotation\n",
    "\n",
    "print_state(s)"
   ],
   "outputs": [
    {
     "name": "stdout",
     "output_type": "stream",
     "text": [
      "[0, 0.83666, 0.0, 0.83666, 0.7]\n",
      "[1, 0.54772, 0.0, 0.54772, 0.3]\n"
     ]
    }
   ],
   "execution_count": 62
  },
  {
   "cell_type": "code",
   "id": "260f72ae",
   "metadata": {
    "ExecuteTime": {
     "end_time": "2024-12-23T15:09:34.662996Z",
     "start_time": "2024-12-23T15:09:34.660944Z"
    }
   },
   "source": [
    "print_state_table(s)"
   ],
   "outputs": [
    {
     "name": "stdout",
     "output_type": "stream",
     "text": [
      "\n",
      "Outcome  Binary  Amplitude           Direction  Magnitude  Amplitude Bar             Probability\n",
      "------------------------------------------------------------------------------------------------\n",
      "0        0       0.8367 + i0.0000       0.00°   0.8367     \u001B[38;2;246;54;26m████████████████████    \u001B[39m  0.7   \n",
      "1        1       0.5477 + i0.0000       0.00°   0.5477     \u001B[38;2;246;54;26m█████████████           \u001B[39m  0.3   \n",
      "\n"
     ]
    }
   ],
   "execution_count": 63
  },
  {
   "cell_type": "markdown",
   "id": "3f445cad",
   "metadata": {},
   "source": [
    "#### Encoding a number with a single-qubit (section 3.5.2)"
   ]
  },
  {
   "cell_type": "markdown",
   "id": "69d3a32e",
   "metadata": {},
   "source": [
    "Encoding the value $x = 273.5$ in the magnitude of an amplitude:"
   ]
  },
  {
   "cell_type": "code",
   "id": "ac24af08",
   "metadata": {
    "ExecuteTime": {
     "end_time": "2024-12-23T15:09:34.680962Z",
     "start_time": "2024-12-23T15:09:34.679186Z"
    }
   },
   "source": [
    "x = 273.5\n",
    "theta = 2*acos(x/1000) # find theta according to the value of x\n",
    "assert is_close(cos(theta/2), x/1000) # check that theta is close to value to be encoded\n",
    "\n",
    "state = init_state()\n",
    "transform(state, ry(theta)) # apply an ry(theta) rotation"
   ],
   "outputs": [],
   "execution_count": 64
  },
  {
   "cell_type": "code",
   "id": "f5df3507",
   "metadata": {
    "ExecuteTime": {
     "end_time": "2024-12-23T15:09:34.696054Z",
     "start_time": "2024-12-23T15:09:34.694271Z"
    }
   },
   "source": [
    "print_state(state)"
   ],
   "outputs": [
    {
     "name": "stdout",
     "output_type": "stream",
     "text": [
      "[0, 0.2735, 0.0, 0.2735, 0.0748]\n",
      "[1, 0.96187, 0.0, 0.96187, 0.9252]\n"
     ]
    }
   ],
   "execution_count": 65
  },
  {
   "cell_type": "code",
   "id": "0bba50b5",
   "metadata": {
    "ExecuteTime": {
     "end_time": "2024-12-23T15:09:34.704898Z",
     "start_time": "2024-12-23T15:09:34.703057Z"
    }
   },
   "source": [
    "print_state_table(state)"
   ],
   "outputs": [
    {
     "name": "stdout",
     "output_type": "stream",
     "text": [
      "\n",
      "Outcome  Binary  Amplitude           Direction  Magnitude  Amplitude Bar             Probability\n",
      "------------------------------------------------------------------------------------------------\n",
      "0        0       0.2735 + i0.0000       0.00°   0.2735     \u001B[38;2;246;54;26m██████                  \u001B[39m  0.0748\n",
      "1        1       0.9619 + i0.0000       0.00°   0.9619     \u001B[38;2;246;54;26m███████████████████████ \u001B[39m  0.9252\n",
      "\n"
     ]
    }
   ],
   "execution_count": 66
  },
  {
   "cell_type": "markdown",
   "id": "e946f247",
   "metadata": {},
   "source": [
    "Encoding the value $x = 273.5$ in the phase of an amplitude:"
   ]
  },
  {
   "cell_type": "code",
   "id": "194f6d38",
   "metadata": {
    "ExecuteTime": {
     "end_time": "2024-12-23T15:09:34.725644Z",
     "start_time": "2024-12-23T15:09:34.723604Z"
    }
   },
   "source": [
    "x = 273.5\n",
    "theta = pi*x/1000 # find theta according to the value of x\n",
    "\n",
    "state = init_state()\n",
    "transform(state, h) # apply an H-gate\n",
    "transform(state, phase(theta)) # apply a p(theta) rotation\n",
    "\n",
    "print_state(state)"
   ],
   "outputs": [
    {
     "name": "stdout",
     "output_type": "stream",
     "text": [
      "[0, 0.70711, 0.0, 0.70711, 0.5]\n",
      "[1, 0.53552j, 49.23, 0.70711, 0.5]\n"
     ]
    }
   ],
   "execution_count": 67
  },
  {
   "cell_type": "code",
   "id": "dc526422",
   "metadata": {
    "ExecuteTime": {
     "end_time": "2024-12-23T15:09:34.746482Z",
     "start_time": "2024-12-23T15:09:34.744101Z"
    }
   },
   "source": [
    "print_state_table(state)"
   ],
   "outputs": [
    {
     "name": "stdout",
     "output_type": "stream",
     "text": [
      "\n",
      "Outcome  Binary  Amplitude           Direction  Magnitude  Amplitude Bar             Probability\n",
      "------------------------------------------------------------------------------------------------\n",
      "0        0       0.7071 + i0.0000       0.00°   0.7071     \u001B[38;2;246;54;26m████████████████        \u001B[39m  0.5   \n",
      "1        1       0.4618 + i0.5355      49.23°   0.7071     \u001B[38;2;255;189;0m████████████████        \u001B[39m  0.5   \n",
      "\n"
     ]
    }
   ],
   "execution_count": 68
  },
  {
   "cell_type": "code",
   "id": "a5b06a07",
   "metadata": {
    "ExecuteTime": {
     "end_time": "2024-12-23T15:09:34.765122Z",
     "start_time": "2024-12-23T15:09:34.762691Z"
    }
   },
   "source": [
    "direction_1 = atan2(state[1].imag, state[1].real) # get direction of amplitude corresponding to outcome 1\n",
    "round(direction_1/pi*1000, 1) # solve for x"
   ],
   "outputs": [
    {
     "data": {
      "text/plain": [
       "273.5"
      ]
     },
     "execution_count": 69,
     "metadata": {},
     "output_type": "execute_result"
    }
   ],
   "execution_count": 69
  }
 ],
 "metadata": {
  "kernelspec": {
   "display_name": "Python 3 (ipykernel)",
   "language": "python",
   "name": "python3"
  },
  "language_info": {
   "codemirror_mode": {
    "name": "ipython",
    "version": 3
   },
   "file_extension": ".py",
   "mimetype": "text/x-python",
   "name": "python",
   "nbconvert_exporter": "python",
   "pygments_lexer": "ipython3",
   "version": "3.12.4"
  }
 },
 "nbformat": 4,
 "nbformat_minor": 5
}
