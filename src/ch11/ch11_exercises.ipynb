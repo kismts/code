{
 "cells": [
  {
   "cell_type": "code",
   "execution_count": 1,
   "id": "fefdecc3-700c-443a-9c09-1691273d35c4",
   "metadata": {},
   "outputs": [],
   "source": [
    "import sys;\n",
    "sys.path.insert(0, '..')"
   ]
  },
  {
   "cell_type": "code",
   "execution_count": 2,
   "id": "e0c295a1-f63a-4b69-91bb-7efae5f599c0",
   "metadata": {},
   "outputs": [],
   "source": [
    "import copy"
   ]
  },
  {
   "cell_type": "markdown",
   "id": "a79aa35d-8505-4fca-a672-0c26a8fd8219",
   "metadata": {},
   "source": [
    "## Exercise 1\n",
    "\n",
    "Use the `grover_optimizer` function defined in listing 11.1 to find the minimum of the function $f(k) = -(k-3)^2 + 3$ where $0 \\le k < 8$."
   ]
  },
  {
   "cell_type": "markdown",
   "id": "f61a96db-b9e3-4066-839d-f5415e8e37a8",
   "metadata": {},
   "source": [
    "**Answer:**"
   ]
  },
  {
   "cell_type": "code",
   "execution_count": 3,
   "id": "31feedd8-f9c6-4009-bbb4-d4629b896dec",
   "metadata": {},
   "outputs": [],
   "source": [
    "from algo import grover_circuit\n",
    "\n",
    "def grover_optimizer(circuit_params,\n",
    "                     build_circuit, oracle,\n",
    "                     update_circuit_params, progress, process_outcome,\n",
    "                     stopping_condition = lambda flow_state: flow_state['failure_count'] > 7,\n",
    "                     schedule = [0, 1],\n",
    "                     starting_result = (None, -1)):\n",
    "    flow_state = {\n",
    "        'last_good_outcome_results': starting_result,\n",
    "        'failure_count': 0,\n",
    "        'initial_circuit_params': copy.deepcopy(circuit_params),\n",
    "        'circuit_params': circuit_params\n",
    "    }\n",
    "\n",
    "    shots = 100\n",
    "\n",
    "    def update(outcome_results, flow_state):\n",
    "        flow_state['last_good_outcome_results'] = outcome_results\n",
    "        flow_state['failure_count'] = 0\n",
    "        update_circuit_params(outcome_results, flow_state)\n",
    "\n",
    "    done = False\n",
    "    counter = 0\n",
    "    while not done:\n",
    "        counter += 1\n",
    "        for r in schedule:\n",
    "            print('\\niteration', r)\n",
    "            function = build_circuit(flow_state)\n",
    "            qc = grover_circuit(function, oracle, r)\n",
    "\n",
    "            result = qc.measure(shots = shots)\n",
    "\n",
    "            flow_state['last_run_result'] = result\n",
    "\n",
    "            outcome = max(result['counts'].items(), key = lambda k: k[1])[0]\n",
    "\n",
    "            outcome_results = process_outcome(outcome, flow_state)\n",
    "\n",
    "            if progress(outcome_results, flow_state):\n",
    "                print('progress', outcome_results)\n",
    "\n",
    "                update(outcome_results, flow_state)\n",
    "                break\n",
    "            else:\n",
    "                flow_state['failure_count'] += 1\n",
    "                print('failure', outcome_results)\n",
    "\n",
    "                if stopping_condition(flow_state):\n",
    "                    print('\\nSTOPPING WITH OUTCOME RESULTS', flow_state['last_good_outcome_results'])\n",
    "                    done = True\n",
    "                    break\n",
    "\n",
    "    return flow_state['last_good_outcome_results']"
   ]
  },
  {
   "cell_type": "markdown",
   "id": "243552b4-072e-41aa-9908-6ad6c4f2d450",
   "metadata": {},
   "source": [
    "**Parameters**\n",
    "\n",
    "For `circuit_params` we will use the same parameters as in the example in section 11.2:"
   ]
  },
  {
   "cell_type": "code",
   "execution_count": 4,
   "id": "1302990c-dba9-4046-aba9-b14c2ab651d4",
   "metadata": {},
   "outputs": [],
   "source": [
    "n_key = 3\n",
    "n_value = 6\n",
    "\n",
    "terms = [(8, [2]), (8, [1]), (5, [0]), (-16, [1, 2]), (-8, [0, 2]), (-4, [0, 1]), (-6, [])]\n",
    "\n",
    "circuit_params = {'n_key': n_key, 'n_value': n_value, 'terms': terms}"
   ]
  },
  {
   "cell_type": "markdown",
   "id": "e4481c90-09c4-4cf4-ac19-772c26f3118b",
   "metadata": {},
   "source": [
    "We can also use the same function as in the book for `build_circuit`:"
   ]
  },
  {
   "cell_type": "code",
   "execution_count": 5,
   "id": "5d2ec40d-8dd8-4e7e-bff8-d416d33ee38c",
   "metadata": {},
   "outputs": [],
   "source": [
    "from algo import build_polynomial_circuit\n",
    "\n",
    "def build_circuit(flow_state):\n",
    "    return build_polynomial_circuit(flow_state['circuit_params']['n_key'], flow_state['circuit_params']['n_value'], flow_state['circuit_params']['terms'])"
   ]
  },
  {
   "cell_type": "markdown",
   "id": "ca87b27e-ebae-42e6-a361-1ba513d40571",
   "metadata": {},
   "source": [
    "This time we are looking for the minimum, so we will use an oracle that tags outcomes with the value 1 in the first digit of the value register:"
   ]
  },
  {
   "cell_type": "code",
   "execution_count": 6,
   "id": "c4158e11-b458-4345-a468-1e625f5858d6",
   "metadata": {},
   "outputs": [],
   "source": [
    "from algo import oracle_match_1\n",
    "\n",
    "oracle = oracle_match_1(n_key + n_value, n_key + n_value - 1)"
   ]
  },
  {
   "cell_type": "markdown",
   "id": "7155a8cd-b839-4a6e-8784-f5d976b45bbc",
   "metadata": {},
   "source": [
    "We will change the function `update_circuit_params` to include a new constant that will shift the function up by the new value because we are looking for the minimum (it is subtracted because we expect the best outcome to be negative)."
   ]
  },
  {
   "cell_type": "code",
   "execution_count": 7,
   "id": "c74965a2-4366-4b16-8981-9515b794d3e4",
   "metadata": {},
   "outputs": [],
   "source": [
    "def update_circuit_params(outcome_results, flow_state):\n",
    "    circuit_params = flow_state['circuit_params']\n",
    "    k, v = outcome_results\n",
    "    t = circuit_params['terms']\n",
    "    t.append((- v, []))\n",
    "    print('\\n------------------------')\n",
    "    print('New free term:', t[0][0])"
   ]
  },
  {
   "cell_type": "markdown",
   "id": "d42e0c34-a1bf-4bd7-8ff3-adc1ae1e0db5",
   "metadata": {},
   "source": [
    "We will use the function `progress` to check if the new outcome is less than the previous best outcome (instead of more than like in the example in section 11.2):"
   ]
  },
  {
   "cell_type": "code",
   "execution_count": 8,
   "id": "e745dc78-eedc-459a-9187-37da73f5c4d4",
   "metadata": {},
   "outputs": [],
   "source": [
    "def progress(results, state):\n",
    "    return results[1] < state['last_good_outcome_results'][1] if state['last_good_outcome_results'][1] else True"
   ]
  },
  {
   "cell_type": "markdown",
   "id": "b5d38713-22b6-4004-941e-42c9e3be36ea",
   "metadata": {},
   "source": [
    "We can reuse the function `process_outcome` because we are working with the same function as the example in the book:"
   ]
  },
  {
   "cell_type": "code",
   "execution_count": 9,
   "id": "19c53683-0637-48ff-834a-831df4c80fc4",
   "metadata": {},
   "outputs": [],
   "source": [
    "from util import padded_bin\n",
    "\n",
    "def process_outcome(outcome, state):\n",
    "    k = int(padded_bin(n_key + n_value, outcome)[n_value:], 2)\n",
    "    v = int(padded_bin(n_key + n_value, outcome)[:n_value], 2)\n",
    "    if v >= 2**(n_value - 1):\n",
    "        v = v - 2**n_value\n",
    "    v -= state['circuit_params']['terms'][0][0] - state['initial_circuit_params']['terms'][0][0]\n",
    "    return (k, v)"
   ]
  },
  {
   "cell_type": "markdown",
   "id": "3d4c8790-2b57-4be5-b7cf-7831645d49b9",
   "metadata": {},
   "source": [
    "Now we are ready to call the `grover_optimizer` function to solve the problem. We will change the parameter `starting_result` to `(None, 0)` because we are looking for the minimum."
   ]
  },
  {
   "cell_type": "code",
   "execution_count": 10,
   "id": "7f524a1d-08c9-491d-8c27-b7d1fdfd5ddf",
   "metadata": {},
   "outputs": [
    {
     "name": "stdout",
     "output_type": "stream",
     "text": [
      "\n",
      "iteration 0\n",
      "progress (7, -13)\n",
      "\n",
      "------------------------\n",
      "New free term: 8\n",
      "\n",
      "iteration 0\n",
      "failure (7, 0)\n",
      "\n",
      "iteration 1\n",
      "failure (0, 7)\n",
      "\n",
      "iteration 0\n",
      "failure (2, 15)\n",
      "\n",
      "iteration 1\n",
      "failure (2, 15)\n",
      "\n",
      "iteration 0\n",
      "failure (5, 12)\n",
      "\n",
      "iteration 1\n",
      "failure (7, 0)\n",
      "\n",
      "iteration 0\n",
      "failure (5, 12)\n",
      "\n",
      "iteration 1\n",
      "failure (4, 15)\n",
      "\n",
      "STOPPING WITH OUTCOME RESULTS (7, -13)\n"
     ]
    },
    {
     "data": {
      "text/plain": [
       "(7, -13)"
      ]
     },
     "execution_count": 10,
     "metadata": {},
     "output_type": "execute_result"
    }
   ],
   "source": [
    "grover_optimizer({'n_key': n_key, 'n_value': n_value, 'terms': terms}, build_circuit, oracle, update_circuit_params, progress, process_outcome, starting_result = (None, 0))"
   ]
  },
  {
   "cell_type": "markdown",
   "id": "a7ebf07b-92db-415d-addf-046f13a7e353",
   "metadata": {},
   "source": [
    "## Exercise 2\n",
    "\n",
    "Pass a different schedule to the `grover_optimizer` to solve the knapsack problem."
   ]
  },
  {
   "cell_type": "markdown",
   "id": "4911e06a-21ca-4201-acf1-05c4ad0d5ae7",
   "metadata": {},
   "source": [
    "**Answer:**\n",
    "\n",
    "We will use the suggested schedule:"
   ]
  },
  {
   "cell_type": "code",
   "execution_count": 11,
   "id": "b1e79c9d-ff26-4ea0-88e3-afa9ad58b2b9",
   "metadata": {},
   "outputs": [],
   "source": [
    "new_schedule = [0, 0, 0, 1, 1, 0, 1, 1, 2, 1, 2, 3, 1, 4, 5, 1, 6, 2, 7, 9, 11, 13, 16, 5, 20, 24, 28, 34, 2, 41, 49, 4, 60]"
   ]
  },
  {
   "cell_type": "markdown",
   "id": "e5c90345-9d07-45ae-bbc4-27c172632a50",
   "metadata": {},
   "source": [
    "First, we define all of the parameters for solving the example knapsack problem:"
   ]
  },
  {
   "cell_type": "code",
   "execution_count": 12,
   "id": "96d851d3-c7ee-42c2-9a78-c825cd14e8a5",
   "metadata": {},
   "outputs": [],
   "source": [
    "from algo import encode_term\n",
    "from sim_circuit import *\n",
    "\n",
    "def build_knapsack_circuit(n_key, n_value, n_weight, v, w):\n",
    "\n",
    "    key = QuantumRegister(n_key)\n",
    "    value = QuantumRegister(n_value)\n",
    "    weight = QuantumRegister(n_weight)\n",
    "    circuit = QuantumCircuit(key, value, weight)\n",
    "\n",
    "    for i in range(len(key)):\n",
    "        circuit.h(key[i])\n",
    "\n",
    "    for i in range(len(value)):\n",
    "        circuit.h(value[i])\n",
    "\n",
    "    for i in range(len(weight)):\n",
    "        circuit.h(weight[i])\n",
    "\n",
    "    for (coeff, vars) in v:\n",
    "        encode_term(coeff, vars, circuit, key, value)\n",
    "\n",
    "    circuit.iqft(value[::-1], swap=False)\n",
    "\n",
    "    for (coeff, vars) in w:\n",
    "        encode_term(coeff, vars, circuit, key, weight)\n",
    "\n",
    "    circuit.iqft(weight[::-1], swap=False)\n",
    "\n",
    "    return circuit"
   ]
  },
  {
   "cell_type": "code",
   "execution_count": 13,
   "id": "2270f178-25ab-43db-b76e-68b777b3689d",
   "metadata": {},
   "outputs": [],
   "source": [
    "n_key = 3\n",
    "n_value = 3\n",
    "n_weight = 4\n",
    "\n",
    "values = [2, 3, 1]\n",
    "v = [(2, [0]), (3, [1]), (1, [2])]\n",
    "v_adjusted = [(-max(values) - 0, [])] + v\n",
    "\n",
    "w = [(3, [0]), (2, [1]), (1, [2])]\n",
    "max_weight = 4\n",
    "w_adjusted = [(-item[0], item[1]) for item in w] + [(max_weight, [])]"
   ]
  },
  {
   "cell_type": "code",
   "execution_count": 14,
   "id": "128ecfe7-ead1-4c96-b829-5f797b99ee26",
   "metadata": {},
   "outputs": [],
   "source": [
    "from algo import oracle_match_0_multi\n",
    "\n",
    "oracle = oracle_match_0_multi(n_key + n_value + n_weight,\n",
    "                                  [n_key + n_value - 1, n_key + n_value + n_weight - 1])"
   ]
  },
  {
   "cell_type": "code",
   "execution_count": 15,
   "id": "5b387b4f-6917-495f-8af0-db3900c12bbe",
   "metadata": {},
   "outputs": [],
   "source": [
    "def build_circuit(flow_state):\n",
    "    return build_knapsack_circuit(flow_state['circuit_params']['n_key'], flow_state['circuit_params']['n_value'], flow_state['circuit_params']['n_weight'],\n",
    "                        flow_state['circuit_params']['v'], flow_state['circuit_params']['w'])"
   ]
  },
  {
   "cell_type": "code",
   "execution_count": 16,
   "id": "d5e23d47-cd07-4650-8a13-53d0e5af4fa5",
   "metadata": {},
   "outputs": [],
   "source": [
    "def get_selection_value(selection_binary, v):\n",
    "    val = 0\n",
    "    for i in range(len(selection_binary)):\n",
    "        val += int(selection_binary[::-1][i]) * v[i][0]\n",
    "\n",
    "    return val\n",
    "\n",
    "\n",
    "def get_selection_weight(selection_binary, w):\n",
    "    weight = 0\n",
    "    for i in range(len(selection_binary)):\n",
    "        weight += int(selection_binary[::-1][i]) * w[i][0]\n",
    "\n",
    "    return weight"
   ]
  },
  {
   "cell_type": "code",
   "execution_count": 17,
   "id": "de8a7feb-a745-4c5e-bfec-5781c19778af",
   "metadata": {},
   "outputs": [],
   "source": [
    "def process_outcome(outcome, flow_state):\n",
    "    n = flow_state['circuit_params']['n_key'] + flow_state['circuit_params']['n_value'] + flow_state['circuit_params']['n_weight']\n",
    "    outcome_selection = padded_bin(n, outcome)[-n_key:]\n",
    "    outcome_value = get_selection_value(outcome_selection, v)\n",
    "    outcome_weight = get_selection_weight(outcome_selection, w)\n",
    "    return outcome_selection, outcome_value, outcome_weight"
   ]
  },
  {
   "cell_type": "code",
   "execution_count": 18,
   "id": "9f9b90c0-5e04-4f56-b1e2-6810670a1802",
   "metadata": {},
   "outputs": [],
   "source": [
    "def progress(results, state):\n",
    "    outcome_selection, outcome_value, outcome_weight = results\n",
    "    min_value = state['circuit_params']['min_value']\n",
    "    return (outcome_value >= min_value) and (outcome_weight <= max_weight)"
   ]
  },
  {
   "cell_type": "code",
   "execution_count": 19,
   "id": "ee2b1527-a0eb-4341-8166-1a58dfc5c37f",
   "metadata": {},
   "outputs": [],
   "source": [
    "def action_on_progress(flow_state):\n",
    "    n_key = flow_state['circuit_params']['n_key']\n",
    "    n_value = flow_state['circuit_params']['n_value']\n",
    "    n_weight = flow_state['circuit_params']['n_weight']\n",
    "    s = flow_state['last_run_result']['state vector']\n",
    "    # print(knapsack_table_new(s, n_key, n_value, n_weight))\n",
    "\n",
    "    n = n_key + n_value + n_weight\n",
    "    ss = sorted(enumerate(s), key=lambda x: int(padded_bin(n, x[0])[-flow_state['circuit_params']['n_key']:], 2))\n",
    "\n",
    "    print(f'\\nLooking for values >= ',{flow_state['circuit_params']['min_value']})"
   ]
  },
  {
   "cell_type": "code",
   "execution_count": 20,
   "id": "eb5fd252-8d4a-4803-b0ad-47fd2474902c",
   "metadata": {},
   "outputs": [],
   "source": [
    "def update_circuit_params(outcome_results, flow_state):\n",
    "    circuit_params = flow_state['circuit_params']\n",
    "    outcome_selection, outcome_value, outcome_weight = outcome_results\n",
    "    v = circuit_params['v']\n",
    "\n",
    "    v[0] = (-outcome_value - 1, [])\n",
    "\n",
    "    circuit_params['min_value'] = outcome_value + 1\n",
    "    action_on_progress(flow_state)"
   ]
  },
  {
   "cell_type": "markdown",
   "id": "9f43a1a4-25a2-4786-9fde-95a35d8faa77",
   "metadata": {},
   "source": [
    "We call `grover_optimizer` with the new schedule:"
   ]
  },
  {
   "cell_type": "code",
   "execution_count": 21,
   "id": "a73bfa99-13bd-4591-a83b-3e3cc7411f7b",
   "metadata": {},
   "outputs": [
    {
     "name": "stdout",
     "output_type": "stream",
     "text": [
      "\n",
      "iteration 0\n",
      "failure ('001', 2, 3)\n",
      "\n",
      "iteration 0\n",
      "failure ('100', 1, 1)\n",
      "\n",
      "iteration 0\n",
      "failure ('011', 5, 5)\n",
      "\n",
      "iteration 1\n",
      "progress ('110', 4, 3)\n",
      "\n",
      "Looking for values >=  {5}\n",
      "\n",
      "iteration 0\n",
      "failure ('111', 6, 6)\n",
      "\n",
      "iteration 0\n",
      "failure ('010', 3, 2)\n",
      "\n",
      "iteration 0\n",
      "failure ('010', 3, 2)\n",
      "\n",
      "iteration 1\n",
      "failure ('000', 0, 0)\n",
      "\n",
      "STOPPING WITH OUTCOME RESULTS ('110', 4, 3)\n"
     ]
    },
    {
     "data": {
      "text/plain": [
       "('110', 4, 3)"
      ]
     },
     "execution_count": 21,
     "metadata": {},
     "output_type": "execute_result"
    }
   ],
   "source": [
    "grover_optimizer({'n_key': n_key, 'n_value': n_value, 'n_weight': n_weight, 'v': v_adjusted, 'w': w_adjusted, 'min_value': 3},\n",
    "                               build_circuit, oracle, update_circuit_params, progress, process_outcome,\n",
    "                                stopping_condition = lambda flow_state: flow_state['failure_count'] > 3, schedule=new_schedule)"
   ]
  }
 ],
 "metadata": {
  "kernelspec": {
   "display_name": "Python 3 (ipykernel)",
   "language": "python",
   "name": "python3"
  },
  "language_info": {
   "codemirror_mode": {
    "name": "ipython",
    "version": 3
   },
   "file_extension": ".py",
   "mimetype": "text/x-python",
   "name": "python",
   "nbconvert_exporter": "python",
   "pygments_lexer": "ipython3",
   "version": "3.9.13"
  }
 },
 "nbformat": 4,
 "nbformat_minor": 5
}
