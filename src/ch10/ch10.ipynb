{
 "cells": [
  {
   "cell_type": "code",
   "execution_count": 1,
   "id": "initial_id",
   "metadata": {
    "ExecuteTime": {
     "end_time": "2023-12-23T16:29:53.780702Z",
     "start_time": "2023-12-23T16:29:52.292773Z"
    },
    "pycharm": {
     "is_executing": true
    }
   },
   "outputs": [],
   "source": [
    "import sys;\n",
    "sys.path.insert(0, '..')"
   ]
  },
  {
   "cell_type": "markdown",
   "id": "8a961586-ab70-491a-ab80-f28645b6c15b",
   "metadata": {},
   "source": [
    "## Chapter 10 Code Snippets and Listings"
   ]
  },
  {
   "cell_type": "markdown",
   "id": "bb84253c-8289-4e11-8c3b-b727516c1bfd",
   "metadata": {},
   "source": [
    "### Encoding a simple function (10.1.1)"
   ]
  },
  {
   "cell_type": "markdown",
   "id": "1ae0cc07-db3d-48b4-b60d-a9bf9850915f",
   "metadata": {},
   "source": [
    "Let's learn how to encode key-value pairs where the value is the sum of the binary digits in the key (for example, the sum of the binary digits in the key 011 is 2). If we use a key register with $n = 3$ qubits, the sum of the binary digits of an integer $k$, with $0 \\le k < 2^n$, is given by the expression\n",
    "\n",
    "$$\n",
    "s(k) = k_2 + k_1 + k_0\n",
    "$$\n",
    "\n",
    "where $k_0$, $k_1$, and $k_2$ are 0 or 1 (the binary digits of a key)."
   ]
  },
  {
   "cell_type": "markdown",
   "id": "b84272a4-4f69-4781-af51-37f3e3918755",
   "metadata": {},
   "source": [
    "First, we create a circuit with two registers:"
   ]
  },
  {
   "cell_type": "code",
   "execution_count": 2,
   "id": "c7f61672-ca87-4c63-91ac-60e1432dc2bf",
   "metadata": {},
   "outputs": [],
   "source": [
    "from sim_circuit import QuantumRegister, QuantumCircuit\n",
    "\n",
    "n_key = 3\n",
    "n_value = 2\n",
    "\n",
    "key = QuantumRegister(n_key)\n",
    "value = QuantumRegister(n_value)\n",
    "qc = QuantumCircuit(key, value)"
   ]
  },
  {
   "cell_type": "markdown",
   "id": "4c70b049-4ad8-4827-ad5a-13527bb29449",
   "metadata": {},
   "source": [
    "We start with an equal superposition in both registers:"
   ]
  },
  {
   "cell_type": "code",
   "execution_count": 3,
   "id": "3e622dae-87a7-47ee-aad5-663da0ef3b6f",
   "metadata": {},
   "outputs": [],
   "source": [
    "for i in range(n_key): # put the key register in equal superposition\n",
    "    qc.h(key[i])\n",
    "\n",
    "for i in range(n_value): # put the value register in equal superposition\n",
    "    qc.h(value[i])"
   ]
  },
  {
   "cell_type": "markdown",
   "id": "66c8afb5-dc05-49f6-8394-6a4acd0bd66f",
   "metadata": {},
   "source": [
    "**Binary decomposition of integers**"
   ]
  },
  {
   "cell_type": "markdown",
   "id": "3128199a-d6aa-4182-b2eb-4b9d090c487d",
   "metadata": {},
   "source": [
    "An integer $k$ with $0 \\le k < 2^n$ can be represented as a binary string with $n$ digits.\n",
    "We can generate the positions  of the digits that are 1 using the following code:"
   ]
  },
  {
   "cell_type": "code",
   "execution_count": 4,
   "id": "755fdfdf-584f-49a1-9b27-b18130188d0b",
   "metadata": {},
   "outputs": [],
   "source": [
    "def one_digits(n, k):\n",
    "    for i in range(n):\n",
    "        if k & (1 << i):\n",
    "            yield i"
   ]
  },
  {
   "cell_type": "markdown",
   "id": "a6596e33-41d5-45a5-aee8-d5ec5d51eaad",
   "metadata": {},
   "source": [
    "For example, the binary form of $k = 4$ with $n = 3$ digits is 100, so the function `one_digits` will yield position 2:"
   ]
  },
  {
   "cell_type": "code",
   "execution_count": 5,
   "id": "781de707-271d-4f38-90c0-1b114b33dc91",
   "metadata": {},
   "outputs": [
    {
     "name": "stdout",
     "output_type": "stream",
     "text": [
      "2\n"
     ]
    }
   ],
   "source": [
    "n = 3\n",
    "k = 4\n",
    "\n",
    "for i in one_digits(n, k):\n",
    "    print(i)"
   ]
  },
  {
   "cell_type": "markdown",
   "id": "eb405dc1-5781-42b6-adea-f7ff325db4de",
   "metadata": {},
   "source": [
    "The decimal form of an integer $k$, where $0 \\le k < 2^n$, is the sum of powers of 2 corresponding to these positions.\n",
    "The value $k = 4$ is decomposed into powers of 2 as follows:"
   ]
  },
  {
   "cell_type": "code",
   "execution_count": 6,
   "id": "623df762-2f35-4fec-a66d-8eba2b78e612",
   "metadata": {},
   "outputs": [
    {
     "data": {
      "text/plain": [
       "4"
      ]
     },
     "execution_count": 6,
     "metadata": {},
     "output_type": "execute_result"
    }
   ],
   "source": [
    "sum([2**i for i in one_digits(n,k)])"
   ]
  },
  {
   "cell_type": "markdown",
   "id": "aaf298fa-3e89-4f21-8598-2de61f3f5c6c",
   "metadata": {},
   "source": [
    "We can use this sum representation of $k$ to obtain a sum representation of $k\\theta$, for a given angle $\\theta$.\n",
    "For example, if $n = 3$ and $\\theta = \\frac{\\pi}{4}$, the multiple $4\\theta$ can be expressed as:"
   ]
  },
  {
   "cell_type": "code",
   "execution_count": 7,
   "id": "bce57c60-789c-4d94-aeb1-7dd2f3bf6429",
   "metadata": {},
   "outputs": [
    {
     "data": {
      "text/plain": [
       "4"
      ]
     },
     "execution_count": 7,
     "metadata": {},
     "output_type": "execute_result"
    }
   ],
   "source": [
    "sum([2**i for i in one_digits(n,k)])"
   ]
  },
  {
   "cell_type": "markdown",
   "id": "d27dd497-6fc6-4f7d-98ac-0e5a5a6542c5",
   "metadata": {},
   "source": [
    "The following code snippet verifies that the decomposition is correct:"
   ]
  },
  {
   "cell_type": "code",
   "execution_count": 8,
   "id": "0bd0d279-aafa-49a1-914d-2bd6e2fc7d04",
   "metadata": {},
   "outputs": [],
   "source": [
    "from math import pi\n",
    "from util import is_close\n",
    "\n",
    "theta = pi/4\n",
    "assert is_close(4*theta, sum([2**i * theta for i in one_digits(n, k)]))"
   ]
  },
  {
   "cell_type": "markdown",
   "id": "0e17c006-f9c4-4fea-ab7c-e0836f909f36",
   "metadata": {},
   "source": [
    "We use a sequence of controlled phase rotations to create geometric quantum states:"
   ]
  },
  {
   "cell_type": "code",
   "execution_count": 9,
   "id": "6eef9f68-cce5-4bb6-b594-9b74f00ba12e",
   "metadata": {},
   "outputs": [],
   "source": [
    "for j in range(n_key):\n",
    "    for i in range(n_value):\n",
    "        qc.cp(pi / 2 ** (n_key-1-i), key[j], value[i])"
   ]
  },
  {
   "cell_type": "code",
   "execution_count": 10,
   "id": "82a6e3de-ead8-4c2f-9f98-bfad4adc0486",
   "metadata": {},
   "outputs": [],
   "source": [
    "state = qc.run()"
   ]
  },
  {
   "cell_type": "code",
   "execution_count": 11,
   "id": "1e4e5bcd-4d33-4785-849c-2d8d9a05a13b",
   "metadata": {},
   "outputs": [
    {
     "name": "stdout",
     "output_type": "stream",
     "text": [
      "\n",
      "Outcome  Binary  Amplitude           Magnitude  Direction  Amplitude Bar             Probability\n",
      "------------------------------------------------------------------------------------------------\n",
      "0        00000   0.1768 + i0.0000    0.1768        0.00°   \u001b[38;2;246;54;26m████                    \u001b[39m  0.0312\n",
      "1        00001   0.1768 + i0.0000    0.1768        0.00°   \u001b[38;2;246;54;26m████                    \u001b[39m  0.0312\n",
      "2        00010   0.1768 + i0.0000    0.1768        0.00°   \u001b[38;2;246;54;26m████                    \u001b[39m  0.0312\n",
      "3        00011   0.1768 + i0.0000    0.1768        0.00°   \u001b[38;2;246;54;26m████                    \u001b[39m  0.0312\n",
      "4        00100   0.1768 + i0.0000    0.1768        0.00°   \u001b[38;2;246;54;26m████                    \u001b[39m  0.0312\n",
      "5        00101   0.1768 + i0.0000    0.1768        0.00°   \u001b[38;2;246;54;26m████                    \u001b[39m  0.0312\n",
      "6        00110   0.1768 + i0.0000    0.1768        0.00°   \u001b[38;2;246;54;26m████                    \u001b[39m  0.0312\n",
      "7        00111   0.1768 + i0.0000    0.1768        0.00°   \u001b[38;2;246;54;26m████                    \u001b[39m  0.0312\n",
      "8        01000   0.1768 + i0.0000    0.1768        0.00°   \u001b[38;2;246;54;26m████                    \u001b[39m  0.0312\n",
      "9        01001   0.1250 + i0.1250    0.1768       45.00°   \u001b[38;2;255;179;0m████                    \u001b[39m  0.0312\n",
      "10       01010   0.1250 + i0.1250    0.1768       45.00°   \u001b[38;2;255;179;0m████                    \u001b[39m  0.0312\n",
      "11       01011   0.0000 + i0.1768    0.1768       90.00°   \u001b[38;2;152;184;0m████                    \u001b[39m  0.0312\n",
      "12       01100   0.1250 + i0.1250    0.1768       45.00°   \u001b[38;2;255;179;0m████                    \u001b[39m  0.0312\n",
      "13       01101   0.0000 + i0.1768    0.1768       90.00°   \u001b[38;2;152;184;0m████                    \u001b[39m  0.0312\n",
      "14       01110   0.0000 + i0.1768    0.1768       90.00°   \u001b[38;2;152;184;0m████                    \u001b[39m  0.0312\n",
      "15       01111  -0.1250 + i0.1250    0.1768      135.00°   \u001b[38;2;43;167;81m████                    \u001b[39m  0.0312\n",
      "16       10000   0.1768 + i0.0000    0.1768        0.00°   \u001b[38;2;246;54;26m████                    \u001b[39m  0.0312\n",
      "17       10001   0.0000 + i0.1768    0.1768       90.00°   \u001b[38;2;152;184;0m████                    \u001b[39m  0.0312\n",
      "18       10010   0.0000 + i0.1768    0.1768       90.00°   \u001b[38;2;152;184;0m████                    \u001b[39m  0.0312\n",
      "19       10011  -0.1768 + i0.0000    0.1768      180.00°   \u001b[38;2;37;232;234m████                    \u001b[39m  0.0312\n",
      "20       10100   0.0000 + i0.1768    0.1768       90.00°   \u001b[38;2;152;184;0m████                    \u001b[39m  0.0312\n",
      "21       10101  -0.1768 + i0.0000    0.1768      180.00°   \u001b[38;2;37;232;234m████                    \u001b[39m  0.0312\n",
      "22       10110  -0.1768 + i0.0000    0.1768      180.00°   \u001b[38;2;37;232;234m████                    \u001b[39m  0.0312\n",
      "23       10111   0.0000 - i0.1768    0.1768      -90.00°   \u001b[38;2;174;160;255m████                    \u001b[39m  0.0312\n",
      "24       11000   0.1768 + i0.0000    0.1768        0.00°   \u001b[38;2;246;54;26m████                    \u001b[39m  0.0312\n",
      "25       11001  -0.1250 + i0.1250    0.1768      135.00°   \u001b[38;2;43;167;81m████                    \u001b[39m  0.0312\n",
      "26       11010  -0.1250 + i0.1250    0.1768      135.00°   \u001b[38;2;43;167;81m████                    \u001b[39m  0.0312\n",
      "27       11011   0.0000 - i0.1768    0.1768      -90.00°   \u001b[38;2;174;160;255m████                    \u001b[39m  0.0312\n",
      "28       11100  -0.1250 + i0.1250    0.1768      135.00°   \u001b[38;2;43;167;81m████                    \u001b[39m  0.0312\n",
      "29       11101   0.0000 - i0.1768    0.1768      -90.00°   \u001b[38;2;174;160;255m████                    \u001b[39m  0.0312\n",
      "30       11110   0.0000 - i0.1768    0.1768      -90.00°   \u001b[38;2;174;160;255m████                    \u001b[39m  0.0312\n",
      "31       11111   0.1250 + i0.1250    0.1768       45.00°   \u001b[38;2;255;175;0m████                    \u001b[39m  0.0312\n",
      "\n"
     ]
    }
   ],
   "source": [
    "from util import print_state_table\n",
    "\n",
    "print_state_table(state)"
   ]
  },
  {
   "cell_type": "code",
   "execution_count": 12,
   "id": "09d98195-1401-44a4-b6f0-70db2e37f4bb",
   "metadata": {},
   "outputs": [],
   "source": [
    "n_key = 3\n",
    "n_value = 2\n",
    "\n",
    "key = QuantumRegister(n_key)\n",
    "value = QuantumRegister(n_value)\n",
    "qc = QuantumCircuit(key, value)\n",
    "\n",
    "for i in range(n_key):\n",
    "    qc.h(key[i])\n",
    "\n",
    "for i in range(n_value):\n",
    "    qc.h(value[i])\n",
    "    \n",
    "for j in range(n_key):\n",
    "    for i in range(n_value):\n",
    "        qc.cp(pi / 2 ** (n_key-1-i), key[j], value[i])"
   ]
  },
  {
   "cell_type": "markdown",
   "id": "8ee0b678-c97a-4f82-9e9e-1c49ddd1ce32",
   "metadata": {},
   "source": [
    "Finally, we apply the IQFT to the value register:"
   ]
  },
  {
   "cell_type": "code",
   "execution_count": 13,
   "id": "7317f0ac-6707-45cb-8ddb-68fb4ffa31a5",
   "metadata": {},
   "outputs": [],
   "source": [
    "qc.iqft(value, swap=True)"
   ]
  },
  {
   "cell_type": "markdown",
   "id": "993a187d-293c-4ded-a5e7-811bb4faea3e",
   "metadata": {},
   "source": [
    "Remember from chapter 8, when we prepare a geometric sequence with qubits in reverse order, we can skip the swaps in the IQFT.\n",
    "We will apply controlled phase rotations with the same angles as above to the qubits in reverse order (qubit $i$ becomes qubit $n - i -1$) using the code below:"
   ]
  },
  {
   "cell_type": "code",
   "execution_count": 14,
   "id": "f2a6e0d1-1b51-45d3-9260-22c6deb5f49b",
   "metadata": {},
   "outputs": [],
   "source": [
    "n_key = 3\n",
    "n_value = 2\n",
    "\n",
    "key = QuantumRegister(n_key)\n",
    "value = QuantumRegister(n_value)\n",
    "qc = QuantumCircuit(key, value)\n",
    "\n",
    "for i in range(n_key):\n",
    "    qc.h(key[i])\n",
    "\n",
    "for i in range(n_value):\n",
    "    qc.h(value[i])\n",
    "    \n",
    "for j in range(n_key):\n",
    "    for i in range(n_value):\n",
    "        qc.cp(pi / 2**i, key[j], value[i])\n",
    "\n",
    "qc.iqft(value[::-1], swap=False)"
   ]
  },
  {
   "cell_type": "code",
   "execution_count": 15,
   "id": "5f122d71",
   "metadata": {},
   "outputs": [
    {
     "name": "stdout",
     "output_type": "stream",
     "text": [
      "\n",
      "\n",
      "╒════════╤═══════════╤═══════════╤═══════════╤═══════════╤═══════════╤═══════════╤═══════════╤═══════════╕\n",
      "│        │ 0 = 000   │ 1 = 001   │ 2 = 010   │ 3 = 011   │ 4 = 100   │ 5 = 101   │ 6 = 110   │ 7 = 111   │\n",
      "╞════════╪═══════════╪═══════════╪═══════════╪═══════════╪═══════════╪═══════════╪═══════════╪═══════════╡\n",
      "│ 3 = 11 │ \u001b[48;2;247;55;26m\u001b[49m          │ \u001b[48;2;174;161;255m\u001b[49m          │ \u001b[48;2;174;161;255m\u001b[49m          │ \u001b[48;2;255;179;0m\u001b[49m          │ \u001b[48;2;174;161;255m\u001b[49m          │ \u001b[48;2;255;179;0m\u001b[49m          │ \u001b[48;2;255;179;0m\u001b[49m          │ \u001b[48;2;247;54;29m   \u001b[49m       │\n",
      "├────────┼───────────┼───────────┼───────────┼───────────┼───────────┼───────────┼───────────┼───────────┤\n",
      "│ 2 = 10 │ \u001b[48;2;247;55;26m\u001b[49m          │ \u001b[48;2;255;179;0m\u001b[49m          │ \u001b[48;2;255;179;0m\u001b[49m          │ \u001b[48;2;247;54;29m   \u001b[49m       │ \u001b[48;2;255;179;0m\u001b[49m          │ \u001b[48;2;247;54;29m   \u001b[49m       │ \u001b[48;2;247;54;29m   \u001b[49m       │ \u001b[48;2;44;167;81m\u001b[49m          │\n",
      "├────────┼───────────┼───────────┼───────────┼───────────┼───────────┼───────────┼───────────┼───────────┤\n",
      "│ 1 = 01 │ \u001b[48;2;247;55;26m\u001b[49m          │ \u001b[48;2;247;54;29m   \u001b[49m       │ \u001b[48;2;247;54;29m   \u001b[49m       │ \u001b[48;2;44;167;81m\u001b[49m          │ \u001b[48;2;247;54;29m   \u001b[49m       │ \u001b[48;2;44;167;81m\u001b[49m          │ \u001b[48;2;44;167;81m\u001b[49m          │ \u001b[48;2;153;184;0m\u001b[49m          │\n",
      "├────────┼───────────┼───────────┼───────────┼───────────┼───────────┼───────────┼───────────┼───────────┤\n",
      "│ 0 = 00 │ \u001b[48;2;247;55;26m   \u001b[49m       │ \u001b[48;2;44;167;81m\u001b[49m          │ \u001b[48;2;44;167;81m\u001b[49m          │ \u001b[48;2;153;184;0m\u001b[49m          │ \u001b[48;2;44;167;81m\u001b[49m          │ \u001b[48;2;153;184;0m\u001b[49m          │ \u001b[48;2;153;184;0m\u001b[49m          │ \u001b[48;2;255;179;0m\u001b[49m          │\n",
      "╘════════╧═══════════╧═══════════╧═══════════╧═══════════╧═══════════╧═══════════╧═══════════╧═══════════╛\n"
     ]
    }
   ],
   "source": [
    "from util import grid_state\n",
    "\n",
    "state = qc.run()\n",
    "grid_state(state, n_key, neg=False, show_probs=False)"
   ]
  },
  {
   "cell_type": "markdown",
   "id": "c965431b-3bef-4962-bbc5-7be35afc2704",
   "metadata": {},
   "source": [
    "### Encoding the knapsack problem (10.1.2)"
   ]
  },
  {
   "cell_type": "markdown",
   "id": "0a048574-7a84-4cf9-86c6-9a68521dab70",
   "metadata": {},
   "source": [
    "Let's encode the value for each possible selection.\n",
    "First, we create a circuit with just the selection and value registers, and we put both in equal superposition:"
   ]
  },
  {
   "cell_type": "code",
   "execution_count": 16,
   "id": "d76a44ec-3143-4513-ab00-0aa7175490b8",
   "metadata": {},
   "outputs": [],
   "source": [
    "n_key = 3\n",
    "n_value = 3\n",
    "\n",
    "key = QuantumRegister(n_key)\n",
    "value = QuantumRegister(n_value)\n",
    "qc = QuantumCircuit(key, value)\n",
    "\n",
    "for i in range(n_key):\n",
    "    qc.h(key[i])\n",
    "\n",
    "for i in range(n_value):\n",
    "    qc.h(value[i])"
   ]
  },
  {
   "cell_type": "markdown",
   "id": "fa5119b7-63a0-42c9-83b3-371b73888886",
   "metadata": {},
   "source": [
    "We can represent the value function with the following list of tuples:"
   ]
  },
  {
   "cell_type": "code",
   "execution_count": 17,
   "id": "fe1b5803-101e-48f6-97c5-387eaf9daad2",
   "metadata": {},
   "outputs": [],
   "source": [
    "terms = [(2, [0]), (3, [1]), (1, [2])]"
   ]
  },
  {
   "cell_type": "markdown",
   "id": "5d96eafb-06b5-4653-8cfb-730dbcf95c3b",
   "metadata": {},
   "source": [
    "We can use the following for-loop to apply the controlled phase rotations:"
   ]
  },
  {
   "cell_type": "code",
   "execution_count": 18,
   "id": "846cc956-f264-425f-8c9c-b50d29359867",
   "metadata": {},
   "outputs": [],
   "source": [
    "for (coeff, vars) in terms:\n",
    "    for i in range(n_value):\n",
    "        qc.cp(pi * 2 ** -i * coeff, key[vars[0]], value[i])"
   ]
  },
  {
   "cell_type": "markdown",
   "id": "f43cf14b-872a-43b8-aeca-0768f25f16f4",
   "metadata": {},
   "source": [
    "Next, we apply the IQFT to the value register:"
   ]
  },
  {
   "cell_type": "code",
   "execution_count": 19,
   "id": "0b830838-5ca3-4e3a-80f2-10e276a4bebb",
   "metadata": {},
   "outputs": [],
   "source": [
    "qc.iqft(value[::-1], swap=False)"
   ]
  },
  {
   "cell_type": "code",
   "execution_count": 20,
   "id": "46dbfeff-e15c-47ea-8a9b-2deed67fbecb",
   "metadata": {},
   "outputs": [
    {
     "name": "stdout",
     "output_type": "stream",
     "text": [
      "\n",
      "\n",
      "╒═════════╤═══════════╤═══════════╤═══════════╤═══════════╤═══════════╤═══════════╤═══════════╤═══════════╕\n",
      "│         │ 0 = 000   │ 1 = 001   │ 2 = 010   │ 3 = 011   │ 4 = 100   │ 5 = 101   │ 6 = 110   │ 7 = 111   │\n",
      "╞═════════╪═══════════╪═══════════╪═══════════╪═══════════╪═══════════╪═══════════╪═══════════╪═══════════╡\n",
      "│ 7 = 111 │ \u001b[48;2;247;55;26m\u001b[49m          │ \u001b[48;2;76;156;18m\u001b[49m          │ \u001b[48;2;174;161;255m\u001b[49m          │ \u001b[48;2;255;165;0m\u001b[49m          │ \u001b[48;2;252;198;0m\u001b[49m          │ \u001b[48;2;153;184;0m\u001b[49m          │ \u001b[48;2;242;208;0m\u001b[49m          │ \u001b[48;2;252;116;1m\u001b[49m          │\n",
      "├─────────┼───────────┼───────────┼───────────┼───────────┼───────────┼───────────┼───────────┼───────────┤\n",
      "│ 6 = 110 │ \u001b[48;2;247;55;26m\u001b[49m          │ \u001b[48;2;247;55;26m\u001b[49m          │ \u001b[48;2;191;199;0m\u001b[49m          │ \u001b[48;2;253;120;1m\u001b[49m          │ \u001b[48;2;100;163;7m\u001b[49m          │ \u001b[48;2;209;205;0m\u001b[49m          │ \u001b[48;2;254;193;0m\u001b[49m          │ \u001b[48;2;247;54;29m   \u001b[49m       │\n",
      "├─────────┼───────────┼───────────┼───────────┼───────────┼───────────┼───────────┼───────────┼───────────┤\n",
      "│ 5 = 101 │ \u001b[48;2;247;55;26m\u001b[49m          │ \u001b[48;2;225;209;0m\u001b[49m          │ \u001b[48;2;217;208;0m\u001b[49m          │ \u001b[48;2;247;54;29m   \u001b[49m       │ \u001b[48;2;174;161;255m\u001b[49m          │ \u001b[48;2;153;184;0m\u001b[49m          │ \u001b[48;2;249;94;5m\u001b[49m          │ \u001b[48;2;50;204;156m\u001b[49m          │\n",
      "├─────────┼───────────┼───────────┼───────────┼───────────┼───────────┼───────────┼───────────┼───────────┤\n",
      "│ 4 = 100 │ \u001b[48;2;247;55;26m\u001b[49m          │ \u001b[48;2;255;176;0m\u001b[49m          │ \u001b[48;2;248;80;8m\u001b[49m          │ \u001b[48;2;50;209;166m\u001b[49m          │ \u001b[48;2;209;205;0m\u001b[49m          │ \u001b[48;2;254;129;0m\u001b[49m          │ \u001b[48;2;247;54;29m   \u001b[49m       │ \u001b[48;2;43;160;62m\u001b[49m          │\n",
      "├─────────┼───────────┼───────────┼───────────┼───────────┼───────────┼───────────┼───────────┼───────────┤\n",
      "│ 3 = 011 │ \u001b[48;2;247;55;26m\u001b[49m          │ \u001b[48;2;252;112;2m\u001b[49m          │ \u001b[48;2;247;54;29m   \u001b[49m       │ \u001b[48;2;76;156;18m\u001b[49m          │ \u001b[48;2;46;134;255m\u001b[49m          │ \u001b[48;2;247;54;29m   \u001b[49m       │ \u001b[48;2;48;216;182m\u001b[49m          │ \u001b[48;2;72;155;21m\u001b[49m          │\n",
      "├─────────┼───────────┼───────────┼───────────┼───────────┼───────────┼───────────┼───────────┼───────────┤\n",
      "│ 2 = 010 │ \u001b[48;2;247;55;26m\u001b[49m          │ \u001b[48;2;247;54;29m   \u001b[49m       │ \u001b[48;2;47;219;187m\u001b[49m          │ \u001b[48;2;72;155;21m\u001b[49m          │ \u001b[48;2;252;116;1m\u001b[49m          │ \u001b[48;2;50;204;156m\u001b[49m          │ \u001b[48;2;44;158;58m\u001b[49m          │ \u001b[48;2;153;184;0m\u001b[49m          │\n",
      "├─────────┼───────────┼───────────┼───────────┼───────────┼───────────┼───────────┼───────────┼───────────┤\n",
      "│ 1 = 001 │ \u001b[48;2;247;55;26m\u001b[49m          │ \u001b[48;2;50;207;161m\u001b[49m          │ \u001b[48;2;42;228;211m\u001b[49m          │ \u001b[48;2;174;161;255m\u001b[49m          │ \u001b[48;2;247;54;29m   \u001b[49m       │ \u001b[48;2;153;184;0m\u001b[49m          │ \u001b[48;2;60;153;30m\u001b[49m          │ \u001b[48;2;233;209;0m\u001b[49m          │\n",
      "├─────────┼───────────┼───────────┼───────────┼───────────┼───────────┼───────────┼───────────┼───────────┤\n",
      "│ 0 = 000 │ \u001b[48;2;247;55;26m   \u001b[49m       │ \u001b[48;2;44;167;81m\u001b[49m          │ \u001b[48;2;68;154;24m\u001b[49m          │ \u001b[48;2;221;208;0m\u001b[49m          │ \u001b[48;2;50;204;156m\u001b[49m          │ \u001b[48;2;46;177;101m\u001b[49m          │ \u001b[48;2;153;184;0m\u001b[49m          │ \u001b[48;2;255;189;0m\u001b[49m          │\n",
      "╘═════════╧═══════════╧═══════════╧═══════════╧═══════════╧═══════════╧═══════════╧═══════════╧═══════════╛\n"
     ]
    }
   ],
   "source": [
    "grid_state(qc.run(), n_key, False, False)"
   ]
  },
  {
   "cell_type": "markdown",
   "id": "5f9b90bb-0b0d-4a44-a1fd-82c646038f73",
   "metadata": {},
   "source": [
    "We can represent the weight function with the following list of tuples:"
   ]
  },
  {
   "cell_type": "code",
   "execution_count": 21,
   "id": "30f1e3fc-26b2-440f-b2b4-368d1be8736a",
   "metadata": {},
   "outputs": [],
   "source": [
    "terms = [(3, [0]), (2, [1]), (1, [2])]"
   ]
  },
  {
   "cell_type": "markdown",
   "id": "751b3541-164c-437f-b40e-5922507bc150",
   "metadata": {},
   "source": [
    "We can encode the weight function using the code below:"
   ]
  },
  {
   "cell_type": "code",
   "execution_count": 22,
   "id": "deea1873-542f-4faf-846b-d82c82794fc0",
   "metadata": {},
   "outputs": [],
   "source": [
    "n_key = 3\n",
    "n_weight = 3\n",
    "\n",
    "key = QuantumRegister(n_key)\n",
    "weight = QuantumRegister(n_weight)\n",
    "qc = QuantumCircuit(key, weight)\n",
    "\n",
    "for i in range(n_key):\n",
    "    qc.h(key[i])\n",
    "\n",
    "for i in range(n_weight):\n",
    "    qc.h(weight[i])\n",
    "    \n",
    "for (coeff, vars) in terms:\n",
    "    for i in range(n_weight):\n",
    "        qc.cp(pi * 2 ** -i * coeff, key[vars[0]], weight[i])\n",
    "\n",
    "qc.iqft(weight[::-1], swap=False)      "
   ]
  },
  {
   "cell_type": "code",
   "execution_count": 23,
   "id": "9fabda6b-fa35-45d9-8812-4c4b2609786e",
   "metadata": {},
   "outputs": [
    {
     "name": "stdout",
     "output_type": "stream",
     "text": [
      "\n",
      "\n",
      "╒═════════╤═══════════╤═══════════╤═══════════╤═══════════╤═══════════╤═══════════╤═══════════╤═══════════╕\n",
      "│         │ 0 = 000   │ 1 = 001   │ 2 = 010   │ 3 = 011   │ 4 = 100   │ 5 = 101   │ 6 = 110   │ 7 = 111   │\n",
      "╞═════════╪═══════════╪═══════════╪═══════════╪═══════════╪═══════════╪═══════════╪═══════════╪═══════════╡\n",
      "│ 7 = 111 │ \u001b[48;2;247;55;26m\u001b[49m          │ \u001b[48;2;174;161;255m\u001b[49m          │ \u001b[48;2;76;156;18m\u001b[49m          │ \u001b[48;2;255;157;0m\u001b[49m          │ \u001b[48;2;252;198;0m\u001b[49m          │ \u001b[48;2;242;208;0m\u001b[49m          │ \u001b[48;2;153;184;0m\u001b[49m          │ \u001b[48;2;249;94;5m\u001b[49m          │\n",
      "├─────────┼───────────┼───────────┼───────────┼───────────┼───────────┼───────────┼───────────┼───────────┤\n",
      "│ 6 = 110 │ \u001b[48;2;247;55;26m\u001b[49m          │ \u001b[48;2;191;199;0m\u001b[49m          │ \u001b[48;2;247;55;26m\u001b[49m          │ \u001b[48;2;250;98;4m\u001b[49m          │ \u001b[48;2;100;163;7m\u001b[49m          │ \u001b[48;2;254;193;0m\u001b[49m          │ \u001b[48;2;209;205;0m\u001b[49m          │ \u001b[48;2;247;54;29m   \u001b[49m       │\n",
      "├─────────┼───────────┼───────────┼───────────┼───────────┼───────────┼───────────┼───────────┼───────────┤\n",
      "│ 5 = 101 │ \u001b[48;2;247;55;26m\u001b[49m          │ \u001b[48;2;217;208;0m\u001b[49m          │ \u001b[48;2;225;209;0m\u001b[49m          │ \u001b[48;2;247;54;29m   \u001b[49m       │ \u001b[48;2;174;161;255m\u001b[49m          │ \u001b[48;2;249;94;5m\u001b[49m          │ \u001b[48;2;153;184;0m\u001b[49m          │ \u001b[48;2;50;209;166m\u001b[49m          │\n",
      "├─────────┼───────────┼───────────┼───────────┼───────────┼───────────┼───────────┼───────────┼───────────┤\n",
      "│ 4 = 100 │ \u001b[48;2;247;55;26m\u001b[49m          │ \u001b[48;2;248;80;8m\u001b[49m          │ \u001b[48;2;255;176;0m\u001b[49m          │ \u001b[48;2;46;221;192m\u001b[49m          │ \u001b[48;2;209;205;0m\u001b[49m          │ \u001b[48;2;247;54;29m   \u001b[49m       │ \u001b[48;2;254;129;0m\u001b[49m          │ \u001b[48;2;44;158;58m\u001b[49m          │\n",
      "├─────────┼───────────┼───────────┼───────────┼───────────┼───────────┼───────────┼───────────┼───────────┤\n",
      "│ 3 = 011 │ \u001b[48;2;247;55;26m\u001b[49m          │ \u001b[48;2;247;54;29m   \u001b[49m       │ \u001b[48;2;252;112;2m\u001b[49m          │ \u001b[48;2;47;179;106m\u001b[49m          │ \u001b[48;2;46;134;255m\u001b[49m          │ \u001b[48;2;48;216;182m\u001b[49m          │ \u001b[48;2;247;54;29m   \u001b[49m       │ \u001b[48;2;85;158;13m\u001b[49m          │\n",
      "├─────────┼───────────┼───────────┼───────────┼───────────┼───────────┼───────────┼───────────┼───────────┤\n",
      "│ 2 = 010 │ \u001b[48;2;247;55;26m\u001b[49m          │ \u001b[48;2;47;219;187m\u001b[49m          │ \u001b[48;2;247;54;29m   \u001b[49m       │ \u001b[48;2;57;153;34m\u001b[49m          │ \u001b[48;2;252;116;1m\u001b[49m          │ \u001b[48;2;44;158;58m\u001b[49m          │ \u001b[48;2;50;204;156m\u001b[49m          │ \u001b[48;2;153;184;0m\u001b[49m          │\n",
      "├─────────┼───────────┼───────────┼───────────┼───────────┼───────────┼───────────┼───────────┼───────────┤\n",
      "│ 1 = 001 │ \u001b[48;2;247;55;26m\u001b[49m          │ \u001b[48;2;42;228;211m\u001b[49m          │ \u001b[48;2;50;207;161m\u001b[49m          │ \u001b[48;2;153;184;0m\u001b[49m          │ \u001b[48;2;247;54;29m   \u001b[49m       │ \u001b[48;2;60;153;30m\u001b[49m          │ \u001b[48;2;153;184;0m\u001b[49m          │ \u001b[48;2;254;193;0m\u001b[49m          │\n",
      "├─────────┼───────────┼───────────┼───────────┼───────────┼───────────┼───────────┼───────────┼───────────┤\n",
      "│ 0 = 000 │ \u001b[48;2;247;55;26m   \u001b[49m       │ \u001b[48;2;68;154;24m\u001b[49m          │ \u001b[48;2;44;167;81m\u001b[49m          │ \u001b[48;2;236;209;0m\u001b[49m          │ \u001b[48;2;50;204;156m\u001b[49m          │ \u001b[48;2;153;184;0m\u001b[49m          │ \u001b[48;2;46;177;101m\u001b[49m          │ \u001b[48;2;255;145;0m\u001b[49m          │\n",
      "╘═════════╧═══════════╧═══════════╧═══════════╧═══════════╧═══════════╧═══════════╧═══════════╧═══════════╛\n"
     ]
    }
   ],
   "source": [
    "grid_state(qc.run(), n_key, False, False)"
   ]
  },
  {
   "cell_type": "markdown",
   "id": "bcf04452-cddd-44d7-8b27-d949cb5ac6b0",
   "metadata": {},
   "source": [
    "### Encoding polynomials of binary variables (10.1.3)"
   ]
  },
  {
   "cell_type": "markdown",
   "id": "3cffb085-8dc5-47de-87a6-4a94661c14fa",
   "metadata": {},
   "source": [
    "The list of tuples used to encode the function $f(k) = k^2 + 2$ for $n = 2$:"
   ]
  },
  {
   "cell_type": "code",
   "execution_count": 24,
   "id": "055624f8-d9a7-49ac-8c87-abe9868b2c28",
   "metadata": {},
   "outputs": [],
   "source": [
    "terms = [(4, [1]), (4, [1, 0]), (1, [0]), (2, [])]"
   ]
  },
  {
   "cell_type": "markdown",
   "id": "fed7d8cd-1a4b-486f-a2db-796f2fc5c92c",
   "metadata": {},
   "source": [
    "Listing 10.1 Function to create the circuit that encodes a given term"
   ]
  },
  {
   "cell_type": "code",
   "execution_count": 25,
   "id": "99867665",
   "metadata": {},
   "outputs": [],
   "source": [
    "def encode_term(coeff, vars, circuit, key, value):\n",
    "    for i in range(len(value)):\n",
    "        if len(vars) > 1:\n",
    "            circuit.mcp(pi * 2 ** -i * coeff, [key[j] for j in vars], value[i])\n",
    "        elif len(vars) > 0:\n",
    "            circuit.cp(pi * 2 ** -i * coeff, key[vars[0]], value[i])\n",
    "        else:\n",
    "            circuit.p(pi * 2 ** -i * coeff, value[i])"
   ]
  },
  {
   "cell_type": "markdown",
   "id": "d7864377-9825-46cf-9c86-239aa2e9a3d8",
   "metadata": {},
   "source": [
    "Listing 10.2 Create a circuit for encoding a polynomial in a quantum state"
   ]
  },
  {
   "cell_type": "code",
   "execution_count": 26,
   "id": "58dfe8ba",
   "metadata": {},
   "outputs": [],
   "source": [
    "def build_polynomial_circuit(key_size, value_size, terms):\n",
    "    key = QuantumRegister(key_size)\n",
    "    value = QuantumRegister(value_size)\n",
    "    circuit = QuantumCircuit(key, value)\n",
    "\n",
    "    for i in range(len(key)):\n",
    "        circuit.h(key[i])\n",
    "\n",
    "    for i in range(len(value)):\n",
    "        circuit.h(value[i])\n",
    "\n",
    "    for (coeff, vars) in terms:\n",
    "        encode_term(coeff, vars, circuit, key, value)\n",
    "\n",
    "    circuit.iqft(value[::-1], swap=False)\n",
    "\n",
    "    return circuit"
   ]
  },
  {
   "cell_type": "markdown",
   "id": "f1019154-61d1-437c-b83d-795b2764c13e",
   "metadata": {},
   "source": [
    "Now we can encode our polynomial of binary variables. We will need $m = 4$ value qubits to encode the outputs."
   ]
  },
  {
   "cell_type": "code",
   "execution_count": 27,
   "id": "8d2a9387-06fc-4c26-9ed0-777464dbfdfb",
   "metadata": {},
   "outputs": [],
   "source": [
    "n_key = 2\n",
    "n_value = 4\n",
    "    \n",
    "qc = build_polynomial_circuit(n_key, n_value, terms)"
   ]
  },
  {
   "cell_type": "code",
   "execution_count": 28,
   "id": "c51e15c8-e745-4dbc-9b06-50e36f6f384f",
   "metadata": {},
   "outputs": [
    {
     "name": "stdout",
     "output_type": "stream",
     "text": [
      "\n",
      "\n",
      "╒═══════════╤══════════╤══════════╤══════════╤══════════╕\n",
      "│           │ 0 = 00   │ 1 = 01   │ 2 = 10   │ 3 = 11   │\n",
      "╞═══════════╪══════════╪══════════╪══════════╪══════════╡\n",
      "│ 15 = 1111 │ \u001b[48;2;47;219;187m\u001b[49m         │ \u001b[48;2;38;232;228m\u001b[49m         │ \u001b[48;2;177;194;0m\u001b[49m         │ \u001b[48;2;255;157;0m\u001b[49m         │\n",
      "├───────────┼──────────┼──────────┼──────────┼──────────┤\n",
      "│ 14 = 1110 │ \u001b[48;2;247;55;26m\u001b[49m         │ \u001b[48;2;81;157;16m\u001b[49m         │ \u001b[48;2;153;184;0m\u001b[49m         │ \u001b[48;2;254;137;0m\u001b[49m         │\n",
      "├───────────┼──────────┼──────────┼──────────┼──────────┤\n",
      "│ 13 = 1101 │ \u001b[48;2;43;160;62m\u001b[49m         │ \u001b[48;2;47;219;187m\u001b[49m         │ \u001b[48;2;167;190;0m\u001b[49m         │ \u001b[48;2;255;149;0m\u001b[49m         │\n",
      "├───────────┼──────────┼──────────┼──────────┼──────────┤\n",
      "│ 12 = 1100 │ \u001b[48;2;255;176;0m\u001b[49m         │ \u001b[48;2;255;176;0m\u001b[49m         │ \u001b[48;2;255;189;0m\u001b[49m         │ \u001b[48;2;248;85;7m\u001b[49m         │\n",
      "├───────────┼──────────┼──────────┼──────────┼──────────┤\n",
      "│ 11 = 1011 │ \u001b[48;2;104;165;6m\u001b[49m         │ \u001b[48;2;174;161;255m\u001b[49m         │ \u001b[48;2;255;172;0m\u001b[49m         │ \u001b[48;2;247;54;29m    \u001b[49m     │\n",
      "├───────────┼──────────┼──────────┼──────────┼──────────┤\n",
      "│ 10 = 1010 │ \u001b[48;2;153;184;0m\u001b[49m         │ \u001b[48;2;177;194;0m\u001b[49m         │ \u001b[48;2;250;61;47m\u001b[49m         │ \u001b[48;2;46;221;192m\u001b[49m         │\n",
      "├───────────┼──────────┼──────────┼──────────┼──────────┤\n",
      "│ 9 = 1001  │ \u001b[48;2;158;186;0m\u001b[49m         │ \u001b[48;2;153;184;0m\u001b[49m         │ \u001b[48;2;253;125;0m\u001b[49m         │ \u001b[48;2;44;225;202m\u001b[49m         │\n",
      "├───────────┼──────────┼──────────┼──────────┼──────────┤\n",
      "│ 8 = 1000  │ \u001b[48;2;148;182;0m\u001b[49m         │ \u001b[48;2;233;209;0m\u001b[49m         │ \u001b[48;2;254;129;0m\u001b[49m         │ \u001b[48;2;50;191;131m\u001b[49m         │\n",
      "├───────────┼──────────┼──────────┼──────────┼──────────┤\n",
      "│ 7 = 0111  │ \u001b[48;2;253;195;0m\u001b[49m         │ \u001b[48;2;246;56;23m\u001b[49m         │ \u001b[48;2;248;76;10m\u001b[49m         │ \u001b[48;2;47;179;106m\u001b[49m         │\n",
      "├───────────┼──────────┼──────────┼──────────┼──────────┤\n",
      "│ 6 = 0110  │ \u001b[48;2;247;55;26m\u001b[49m         │ \u001b[48;2;251;107;2m\u001b[49m         │ \u001b[48;2;247;54;29m    \u001b[49m     │ \u001b[48;2;90;160;11m\u001b[49m         │\n",
      "├───────────┼──────────┼──────────┼──────────┼──────────┤\n",
      "│ 5 = 0101  │ \u001b[48;2;248;80;8m\u001b[49m         │ \u001b[48;2;249;89;6m\u001b[49m         │ \u001b[48;2;44;225;202m\u001b[49m         │ \u001b[48;2;76;156;18m\u001b[49m         │\n",
      "├───────────┼──────────┼──────────┼──────────┼──────────┤\n",
      "│ 4 = 0100  │ \u001b[48;2;255;176;0m\u001b[49m         │ \u001b[48;2;250;98;4m\u001b[49m         │ \u001b[48;2;45;223;197m\u001b[49m         │ \u001b[48;2;148;182;0m\u001b[49m         │\n",
      "├───────────┼──────────┼──────────┼──────────┼──────────┤\n",
      "│ 3 = 0011  │ \u001b[48;2;246;61;18m\u001b[49m         │ \u001b[48;2;247;54;29m    \u001b[49m     │ \u001b[48;2;46;177;101m\u001b[49m         │ \u001b[48;2;153;184;0m\u001b[49m         │\n",
      "├───────────┼──────────┼──────────┼──────────┼──────────┤\n",
      "│ 2 = 0010  │ \u001b[48;2;247;54;29m    \u001b[49m     │ \u001b[48;2;37;232;231m\u001b[49m         │ \u001b[48;2;43;165;76m\u001b[49m         │ \u001b[48;2;200;203;0m\u001b[49m         │\n",
      "├───────────┼──────────┼──────────┼──────────┼──────────┤\n",
      "│ 1 = 0001  │ \u001b[48;2;48;214;177m\u001b[49m         │ \u001b[48;2;153;184;0m\u001b[49m         │ \u001b[48;2;47;155;49m\u001b[49m         │ \u001b[48;2;252;116;1m\u001b[49m         │\n",
      "├───────────┼──────────┼──────────┼──────────┼──────────┤\n",
      "│ 0 = 0000  │ \u001b[48;2;38;232;228m\u001b[49m         │ \u001b[48;2;50;194;136m\u001b[49m         │ \u001b[48;2;47;155;49m\u001b[49m         │ \u001b[48;2;255;186;0m\u001b[49m         │\n",
      "╘═══════════╧══════════╧══════════╧══════════╧══════════╛\n"
     ]
    }
   ],
   "source": [
    "grid_state(qc.run(), n_key, False, False)"
   ]
  },
  {
   "cell_type": "markdown",
   "id": "ab8d1d91-d50d-4017-baae-abc71de653b6",
   "metadata": {},
   "source": [
    "Let's look at another example.\n",
    "This time, let's consider the function $f(k) = k^2 - 5k + 7$ with integer inputs $\\{0, 1, 2, 3 \\}$ (we need $n = 2$ qubits to represend inputs)."
   ]
  },
  {
   "cell_type": "code",
   "execution_count": 29,
   "id": "43c43c9d-fb0e-4187-bbf1-df18a50f3729",
   "metadata": {},
   "outputs": [],
   "source": [
    "terms = [(-6, [1]), (4, [1, 0]), (-4, [0]), (7, [])]"
   ]
  },
  {
   "cell_type": "code",
   "execution_count": 30,
   "id": "82e6159d-9723-40ae-ba75-43cf8dc8c71a",
   "metadata": {},
   "outputs": [],
   "source": [
    "n_key = 2\n",
    "n_value = 3\n",
    "    \n",
    "qc = build_polynomial_circuit(n_key, n_value, terms)"
   ]
  },
  {
   "cell_type": "code",
   "execution_count": 31,
   "id": "a57730b5-552e-410f-af15-9dcb6f978a95",
   "metadata": {},
   "outputs": [
    {
     "name": "stdout",
     "output_type": "stream",
     "text": [
      "\n",
      "\n",
      "╒═════════╤══════════╤══════════╤══════════╤══════════╕\n",
      "│         │ 0 = 00   │ 1 = 01   │ 2 = 10   │ 3 = 11   │\n",
      "╞═════════╪══════════╪══════════╪══════════╪══════════╡\n",
      "│ 7 = 111 │ \u001b[48;2;247;54;29m    \u001b[49m     │ \u001b[48;2;247;54;29m\u001b[49m         │ \u001b[48;2;153;184;0m\u001b[49m         │ \u001b[48;2;153;184;0m\u001b[49m         │\n",
      "├─────────┼──────────┼──────────┼──────────┼──────────┤\n",
      "│ 6 = 110 │ \u001b[48;2;50;207;161m\u001b[49m         │ \u001b[48;2;195;201;0m\u001b[49m         │ \u001b[48;2;40;230;215m\u001b[49m         │ \u001b[48;2;40;230;215m\u001b[49m         │\n",
      "├─────────┼──────────┼──────────┼──────────┼──────────┤\n",
      "│ 5 = 101 │ \u001b[48;2;51;154;41m\u001b[49m         │ \u001b[48;2;255;153;0m\u001b[49m         │ \u001b[48;2;253;120;1m\u001b[49m         │ \u001b[48;2;253;120;1m\u001b[49m         │\n",
      "├─────────┼──────────┼──────────┼──────────┼──────────┤\n",
      "│ 4 = 100 │ \u001b[48;2;68;154;24m\u001b[49m         │ \u001b[48;2;253;120;1m\u001b[49m         │ \u001b[48;2;138;178;1m\u001b[49m         │ \u001b[48;2;138;178;1m\u001b[49m         │\n",
      "├─────────┼──────────┼──────────┼──────────┼──────────┤\n",
      "│ 3 = 011 │ \u001b[48;2;251;201;0m\u001b[49m         │ \u001b[48;2;247;54;29m    \u001b[49m     │ \u001b[48;2;153;184;0m\u001b[49m         │ \u001b[48;2;153;184;0m\u001b[49m         │\n",
      "├─────────┼──────────┼──────────┼──────────┼──────────┤\n",
      "│ 2 = 010 │ \u001b[48;2;229;209;0m\u001b[49m         │ \u001b[48;2;50;202;151m\u001b[49m         │ \u001b[48;2;255;149;0m\u001b[49m         │ \u001b[48;2;255;149;0m\u001b[49m         │\n",
      "├─────────┼──────────┼──────────┼──────────┼──────────┤\n",
      "│ 1 = 001 │ \u001b[48;2;255;141;0m\u001b[49m         │ \u001b[48;2;48;181;111m\u001b[49m         │ \u001b[48;2;247;54;29m    \u001b[49m     │ \u001b[48;2;247;54;29m    \u001b[49m     │\n",
      "├─────────┼──────────┼──────────┼──────────┼──────────┤\n",
      "│ 0 = 000 │ \u001b[48;2;251;103;3m\u001b[49m         │ \u001b[48;2;114;169;3m\u001b[49m         │ \u001b[48;2;50;196;141m\u001b[49m         │ \u001b[48;2;50;196;141m\u001b[49m         │\n",
      "╘═════════╧══════════╧══════════╧══════════╧══════════╛\n"
     ]
    }
   ],
   "source": [
    "grid_state(qc.run(), n_key, False, False)"
   ]
  },
  {
   "cell_type": "markdown",
   "id": "ef3e09a6-fc13-409c-bfd4-7d9e7d26b3c2",
   "metadata": {},
   "source": [
    "### Complexity of polynomial encoding circuits (10.1.4)"
   ]
  },
  {
   "cell_type": "markdown",
   "id": "da3d40fa-1eff-4162-8593-aade23eae3f8",
   "metadata": {},
   "source": [
    "For the example circuit above, the total number of gates is:"
   ]
  },
  {
   "cell_type": "code",
   "execution_count": 32,
   "id": "31fd6624-1c0c-437e-843b-21a8c069fe68",
   "metadata": {},
   "outputs": [],
   "source": [
    "n = 2\n",
    "m = 3\n",
    "terms = [(-6, [1]), (4, [1, 0]), (-4, [0]), (7, [])]"
   ]
  },
  {
   "cell_type": "code",
   "execution_count": 33,
   "id": "8bbbdf71-9812-4fff-9542-f27ce7adc628",
   "metadata": {},
   "outputs": [],
   "source": [
    "qc = build_polynomial_circuit(n, m, terms)\n",
    "t = len(terms)\n",
    "assert len(qc.transformations) == n + (t + 2)*m + m*(m - 1 )/2"
   ]
  },
  {
   "cell_type": "markdown",
   "id": "d28ebea6-8bbf-4d97-9008-2cb321971645",
   "metadata": {},
   "source": [
    "### Representing negative values (10.1.5)"
   ]
  },
  {
   "cell_type": "markdown",
   "id": "adc22f63-1cc5-40df-a31e-712d420193af",
   "metadata": {},
   "source": [
    "To encode the function $f(k) = k^2 - 3$ for integer inputs $\\{0, 1, 2, 3 \\}$, we express the function as a polynomial of binary variables:"
   ]
  },
  {
   "cell_type": "code",
   "execution_count": 34,
   "id": "adf31e17-ed8a-42ba-a165-d4f4981270f5",
   "metadata": {},
   "outputs": [],
   "source": [
    "terms = [(4, [1]), (4, [1, 0]), (1, [0]), (-3, [])]"
   ]
  },
  {
   "cell_type": "code",
   "execution_count": 35,
   "id": "7eb6b221-1a83-41b0-b1e5-25ecf9b41533",
   "metadata": {},
   "outputs": [],
   "source": [
    "n_key = 2\n",
    "n_value = 4\n",
    "    \n",
    "qc = build_polynomial_circuit(n_key, n_value, terms)"
   ]
  },
  {
   "cell_type": "code",
   "execution_count": 36,
   "id": "1cc11fff-4694-42fc-b403-6e8c01fee097",
   "metadata": {},
   "outputs": [
    {
     "name": "stdout",
     "output_type": "stream",
     "text": [
      "\n",
      "\n",
      "╒═══════════╤══════════╤══════════╤══════════╤══════════╕\n",
      "│           │ 0 = 00   │ 1 = 01   │ 2 = 10   │ 3 = 11   │\n",
      "╞═══════════╪══════════╪══════════╪══════════╪══════════╡\n",
      "│ 7 = 0111  │ \u001b[48;2;250;190;238m\u001b[49m         │ \u001b[48;2;247;64;16m\u001b[49m         │ \u001b[48;2;252;198;0m\u001b[49m         │ \u001b[48;2;247;72;12m\u001b[49m         │\n",
      "├───────────┼──────────┼──────────┼──────────┼──────────┤\n",
      "│ 6 = 0110  │ \u001b[48;2;231;189;253m\u001b[49m         │ \u001b[48;2;174;161;255m\u001b[49m         │ \u001b[48;2;213;207;0m\u001b[49m         │ \u001b[48;2;247;54;29m    \u001b[49m     │\n",
      "├───────────┼──────────┼──────────┼──────────┼──────────┤\n",
      "│ 5 = 0101  │ \u001b[48;2;174;161;255m\u001b[49m         │ \u001b[48;2;219;184;255m\u001b[49m         │ \u001b[48;2;255;178;207m\u001b[49m         │ \u001b[48;2;48;216;182m\u001b[49m         │\n",
      "├───────────┼──────────┼──────────┼──────────┼──────────┤\n",
      "│ 4 = 0100  │ \u001b[48;2;255;97;89m\u001b[49m         │ \u001b[48;2;38;231;240m\u001b[49m         │ \u001b[48;2;124;172;2m\u001b[49m         │ \u001b[48;2;50;209;166m\u001b[49m         │\n",
      "├───────────┼──────────┼──────────┼──────────┼──────────┤\n",
      "│ 3 = 0011  │ \u001b[48;2;89;129;255m\u001b[49m         │ \u001b[48;2;122;137;255m\u001b[49m         │ \u001b[48;2;46;134;255m\u001b[49m         │ \u001b[48;2;50;207;161m\u001b[49m         │\n",
      "├───────────┼──────────┼──────────┼──────────┼──────────┤\n",
      "│ 2 = 0010  │ \u001b[48;2;41;154;255m\u001b[49m         │ \u001b[48;2;174;161;255m\u001b[49m         │ \u001b[48;2;255;153;0m\u001b[49m         │ \u001b[48;2;47;179;106m\u001b[49m         │\n",
      "├───────────┼──────────┼──────────┼──────────┼──────────┤\n",
      "│ 1 = 0001  │ \u001b[48;2;43;136;255m\u001b[49m         │ \u001b[48;2;48;178;255m\u001b[49m         │ \u001b[48;2;247;54;29m    \u001b[49m     │ \u001b[48;2;138;178;1m\u001b[49m         │\n",
      "├───────────┼──────────┼──────────┼──────────┼──────────┤\n",
      "│ 0 = 0000  │ \u001b[48;2;39;145;255m\u001b[49m         │ \u001b[48;2;37;232;238m\u001b[49m         │ \u001b[48;2;39;232;224m\u001b[49m         │ \u001b[48;2;60;153;30m\u001b[49m         │\n",
      "├───────────┼──────────┼──────────┼──────────┼──────────┤\n",
      "│ -1 = 1111 │ \u001b[48;2;45;223;197m\u001b[49m         │ \u001b[48;2;48;178;255m\u001b[49m         │ \u001b[48;2;252;198;0m\u001b[49m         │ \u001b[48;2;200;203;0m\u001b[49m         │\n",
      "├───────────┼──────────┼──────────┼──────────┼──────────┤\n",
      "│ -2 = 1110 │ \u001b[48;2;39;231;220m\u001b[49m         │ \u001b[48;2;247;55;26m    \u001b[49m     │ \u001b[48;2;64;154;27m\u001b[49m         │ \u001b[48;2;174;161;255m\u001b[49m         │\n",
      "├───────────┼──────────┼──────────┼──────────┼──────────┤\n",
      "│ -3 = 1101 │ \u001b[48;2;247;55;26m    \u001b[49m     │ \u001b[48;2;252;68;56m\u001b[49m         │ \u001b[48;2;41;138;255m\u001b[49m         │ \u001b[48;2;255;179;0m\u001b[49m         │\n",
      "├───────────┼──────────┼──────────┼──────────┼──────────┤\n",
      "│ -4 = 1100 │ \u001b[48;2;252;68;56m\u001b[49m         │ \u001b[48;2;255;113;110m\u001b[49m         │ \u001b[48;2;255;88;79m\u001b[49m         │ \u001b[48;2;153;184;0m\u001b[49m         │\n",
      "├───────────┼──────────┼──────────┼──────────┼──────────┤\n",
      "│ -5 = 1011 │ \u001b[48;2;255;162;180m\u001b[49m         │ \u001b[48;2;142;145;255m\u001b[49m         │ \u001b[48;2;46;134;255m\u001b[49m         │ \u001b[48;2;249;203;0m\u001b[49m         │\n",
      "├───────────┼──────────┼──────────┼──────────┼──────────┤\n",
      "│ -6 = 1010 │ \u001b[48;2;255;148;158m\u001b[49m         │ \u001b[48;2;174;161;255m\u001b[49m         │ \u001b[48;2;174;161;255m\u001b[49m         │ \u001b[48;2;255;157;0m\u001b[49m         │\n",
      "├───────────┼──────────┼──────────┼──────────┼──────────┤\n",
      "│ -7 = 1001 │ \u001b[48;2;255;180;212m\u001b[49m         │ \u001b[48;2;255;84;74m\u001b[49m         │ \u001b[48;2;174;161;255m\u001b[49m         │ \u001b[48;2;253;125;0m\u001b[49m         │\n",
      "├───────────┼──────────┼──────────┼──────────┼──────────┤\n",
      "│ -8 = 1000 │ \u001b[48;2;166;156;255m\u001b[49m         │ \u001b[48;2;152;150;255m\u001b[49m         │ \u001b[48;2;255;179;0m\u001b[49m         │ \u001b[48;2;251;107;2m\u001b[49m         │\n",
      "╘═══════════╧══════════╧══════════╧══════════╧══════════╛\n"
     ]
    }
   ],
   "source": [
    "grid_state(qc.run(), n_key, neg = True, show_probs = False)"
   ]
  },
  {
   "cell_type": "markdown",
   "id": "2e108b94-10ca-4c69-a96a-840ca9597c5c",
   "metadata": {},
   "source": [
    "### Searching for function values (10.2)"
   ]
  },
  {
   "cell_type": "markdown",
   "id": "1c0c3dd9-abc9-4cfe-a8b6-dad4092caa17",
   "metadata": {},
   "source": [
    "The two functions defined below create oracles that match 1 or 0 in the position `tag_bit`:"
   ]
  },
  {
   "cell_type": "code",
   "execution_count": 37,
   "id": "28d65d1e",
   "metadata": {},
   "outputs": [],
   "source": [
    "def oracle_match_1(bits, tag_bit):\n",
    "    q = QuantumRegister(bits)\n",
    "    qc = QuantumCircuit(q)\n",
    "\n",
    "    qc.p(pi, tag_bit)\n",
    "\n",
    "    return qc\n",
    "\n",
    "\n",
    "def oracle_match_0(bits, tag_bit):\n",
    "    q = QuantumRegister(bits)\n",
    "    qc = QuantumCircuit(q)\n",
    "\n",
    "    qc.x(q[tag_bit])\n",
    "    qc.p(pi, tag_bit)\n",
    "    qc.x(q[tag_bit])\n",
    "\n",
    "    return qc"
   ]
  },
  {
   "cell_type": "markdown",
   "id": "091e41ef-366d-44b7-9556-c6239c5f4322",
   "metadata": {},
   "source": [
    "First, let's encode the function $f(k) = k + 1$ with $n = 2$ key qubits:"
   ]
  },
  {
   "cell_type": "code",
   "execution_count": 38,
   "id": "54da3f0e-cea6-4554-8590-59589b25f86f",
   "metadata": {},
   "outputs": [],
   "source": [
    "n_key = 2\n",
    "n_value = 3\n",
    "\n",
    "terms = [(2, [1]), (1, [0]), (1, [])]\n",
    "\n",
    "prepare = build_polynomial_circuit(n_key, n_value, terms)"
   ]
  },
  {
   "cell_type": "code",
   "execution_count": 39,
   "id": "cdd34980",
   "metadata": {},
   "outputs": [
    {
     "name": "stdout",
     "output_type": "stream",
     "text": [
      "\n",
      "\n",
      "╒═════════╤═══════════╤═══════════╤═══════════╤═══════════╕\n",
      "│         │ 0 = 00    │ 1 = 01    │ 2 = 10    │ 3 = 11    │\n",
      "╞═════════╪═══════════╪═══════════╪═══════════╪═══════════╡\n",
      "│ 7 = 111 │ \u001b[48;2;105;132;255m\u001b[49m          │ \u001b[48;2;134;176;1m\u001b[49m          │ \u001b[48;2;248;85;7m\u001b[49m          │ \u001b[48;2;177;194;0m\u001b[49m          │\n",
      "├─────────┼───────────┼───────────┼───────────┼───────────┤\n",
      "│ 6 = 110 │ \u001b[48;2;255;179;0m\u001b[49m          │ \u001b[48;2;153;184;0m\u001b[49m          │ \u001b[48;2;195;201;0m\u001b[49m          │ \u001b[48;2;255;179;0m\u001b[49m          │\n",
      "├─────────┼───────────┼───────────┼───────────┼───────────┤\n",
      "│ 5 = 101 │ \u001b[48;2;255;149;0m\u001b[49m          │ \u001b[48;2;177;194;0m\u001b[49m          │ \u001b[48;2;255;88;79m\u001b[49m          │ \u001b[48;2;251;107;2m\u001b[49m          │\n",
      "├─────────┼───────────┼───────────┼───────────┼───────────┤\n",
      "│ 4 = 100 │ \u001b[48;2;44;167;81m\u001b[49m          │ \u001b[48;2;255;141;0m\u001b[49m          │ \u001b[48;2;248;76;10m\u001b[49m          │ \u001b[48;2;247;54;29m    \u001b[49m 0.25 │\n",
      "├─────────┼───────────┼───────────┼───────────┼───────────┤\n",
      "│ 3 = 011 │ \u001b[48;2;217;208;0m\u001b[49m          │ \u001b[48;2;251;107;2m\u001b[49m          │ \u001b[48;2;247;54;29m    \u001b[49m 0.25 │ \u001b[48;2;50;209;166m\u001b[49m          │\n",
      "├─────────┼───────────┼───────────┼───────────┼───────────┤\n",
      "│ 2 = 010 │ \u001b[48;2;255;179;0m\u001b[49m          │ \u001b[48;2;247;54;29m    \u001b[49m 0.25 │ \u001b[48;2;50;202;151m\u001b[49m          │ \u001b[48;2;43;165;76m\u001b[49m          │\n",
      "├─────────┼───────────┼───────────┼───────────┼───────────┤\n",
      "│ 1 = 001 │ \u001b[48;2;247;54;29m    \u001b[49m 0.25 │ \u001b[48;2;50;209;166m\u001b[49m          │ \u001b[48;2;81;157;16m\u001b[49m          │ \u001b[48;2;134;176;1m\u001b[49m          │\n",
      "├─────────┼───────────┼───────────┼───────────┼───────────┤\n",
      "│ 0 = 000 │ \u001b[48;2;44;167;81m\u001b[49m          │ \u001b[48;2;49;189;126m\u001b[49m          │ \u001b[48;2;129;174;2m\u001b[49m          │ \u001b[48;2;153;184;0m\u001b[49m          │\n",
      "╘═════════╧═══════════╧═══════════╧═══════════╧═══════════╛\n"
     ]
    }
   ],
   "source": [
    "grid_state(prepare.run(), n_key, False, True)"
   ]
  },
  {
   "cell_type": "markdown",
   "id": "cafd2d80-b808-410c-8574-6c9271682651",
   "metadata": {},
   "source": [
    "Now, we can create an oracle that matches 1 in the first digit of the value register and use it to create a Grover operator using the function `grover_circuit` from chapter 9:"
   ]
  },
  {
   "cell_type": "code",
   "execution_count": 40,
   "id": "7512137a",
   "metadata": {},
   "outputs": [],
   "source": [
    "from algo import grover_circuit\n",
    "\n",
    "prepare = build_polynomial_circuit(n_key, n_value, terms)\n",
    "oracle = oracle_match_1(n_key + n_value, n_key + n_value - 1)\n",
    "\n",
    "qc = grover_circuit(prepare, oracle, 1)"
   ]
  },
  {
   "cell_type": "code",
   "execution_count": 41,
   "id": "e036276a-8f62-4792-82e7-2fae6c445624",
   "metadata": {},
   "outputs": [
    {
     "name": "stdout",
     "output_type": "stream",
     "text": [
      "\n",
      "\n",
      "╒═════════╤══════════╤══════════╤══════════╤═══════════════╕\n",
      "│         │ 0 = 00   │ 1 = 01   │ 2 = 10   │ 3 = 11        │\n",
      "╞═════════╪══════════╪══════════╪══════════╪═══════════════╡\n",
      "│ 7 = 111 │ \u001b[48;2;255;179;0m\u001b[49m         │ \u001b[48;2;234;190;252m\u001b[49m         │ \u001b[48;2;250;190;238m\u001b[49m         │ \u001b[48;2;116;136;255m\u001b[49m              │\n",
      "├─────────┼──────────┼──────────┼──────────┼───────────────┤\n",
      "│ 6 = 110 │ \u001b[48;2;238;191;250m\u001b[49m         │ \u001b[48;2;174;161;255m\u001b[49m         │ \u001b[48;2;105;132;255m\u001b[49m         │ \u001b[48;2;53;131;255m\u001b[49m              │\n",
      "├─────────┼──────────┼──────────┼──────────┼───────────────┤\n",
      "│ 5 = 101 │ \u001b[48;2;204;177;255m\u001b[49m         │ \u001b[48;2;94;130;255m\u001b[49m         │ \u001b[48;2;100;131;255m\u001b[49m         │ \u001b[48;2;47;206;255m\u001b[49m              │\n",
      "├─────────┼──────────┼──────────┼──────────┼───────────────┤\n",
      "│ 4 = 100 │ \u001b[48;2;255;109;105m\u001b[49m         │ \u001b[48;2;43;160;255m\u001b[49m         │ \u001b[48;2;47;209;254m\u001b[49m         │ \u001b[48;2;37;232;231m         \u001b[49m 1.0 │\n",
      "├─────────┼──────────┼──────────┼──────────┼───────────────┤\n",
      "│ 3 = 011 │ \u001b[48;2;57;153;34m\u001b[49m         │ \u001b[48;2;49;184;255m\u001b[49m         │ \u001b[48;2;158;186;0m\u001b[49m         │ \u001b[48;2;46;174;96m\u001b[49m              │\n",
      "├─────────┼──────────┼──────────┼──────────┼───────────────┤\n",
      "│ 2 = 010 │ \u001b[48;2;49;189;126m\u001b[49m         │ \u001b[48;2;158;186;0m\u001b[49m         │ \u001b[48;2;249;94;5m\u001b[49m         │ \u001b[48;2;255;187;226m\u001b[49m              │\n",
      "├─────────┼──────────┼──────────┼──────────┼───────────────┤\n",
      "│ 1 = 001 │ \u001b[48;2;158;186;0m\u001b[49m         │ \u001b[48;2;255;121;121m\u001b[49m         │ \u001b[48;2;236;209;0m\u001b[49m         │ \u001b[48;2;200;174;255m\u001b[49m              │\n",
      "├─────────┼──────────┼──────────┼──────────┼───────────────┤\n",
      "│ 0 = 000 │ \u001b[48;2;44;158;58m\u001b[49m         │ \u001b[48;2;60;153;30m\u001b[49m         │ \u001b[48;2;246;56;23m\u001b[49m         │ \u001b[48;2;174;161;255m\u001b[49m              │\n",
      "╘═════════╧══════════╧══════════╧══════════╧═══════════════╛\n"
     ]
    }
   ],
   "source": [
    "grid_state(qc.run(), n_key, False, True)"
   ]
  },
  {
   "cell_type": "markdown",
   "id": "e6c38415-5571-459e-a795-349cbdf783b4",
   "metadata": {},
   "source": [
    "Let's look at searching for negative values.\n",
    "For example, let's encode the function $f(k) = k^2 - 5$ for $n = 2$, and search for outputs less than -4."
   ]
  },
  {
   "cell_type": "code",
   "execution_count": 42,
   "id": "0bbc9087-1aa4-48cb-95c3-cdcce8b6d045",
   "metadata": {},
   "outputs": [],
   "source": [
    "n_key = 2\n",
    "n_value = 4\n",
    "\n",
    "terms = [(4, [1]), (4, [1, 0]), (1, [0]), (-5, [])]\n",
    "\n",
    "prepare = build_polynomial_circuit(n_key, n_value, terms)"
   ]
  },
  {
   "cell_type": "markdown",
   "id": "7694841e-3b18-4e78-9c7a-0e9db4c13bb1",
   "metadata": {},
   "source": [
    "We will need to define an oracle that matches 1 in the first digit and 0 in the second digit of the value register.\n",
    "We will use this oracle in our Grover iterate:"
   ]
  },
  {
   "cell_type": "code",
   "execution_count": 43,
   "id": "e6f927fe-c3b7-421f-a588-e1bf369f7a57",
   "metadata": {},
   "outputs": [],
   "source": [
    "q = QuantumRegister(n_key + n_value)\n",
    "oracle = QuantumCircuit(q)\n",
    "\n",
    "oracle.x(q[n_key + n_value - 2]) \n",
    "oracle.cp(pi, n_key + n_value - 2, n_key + n_value - 1)\n",
    "oracle.x(q[n_key + n_value - 2]) \n",
    "\n",
    "qc = grover_circuit(prepare, oracle, 1)"
   ]
  },
  {
   "cell_type": "code",
   "execution_count": 44,
   "id": "5f63b247-f760-4285-bf43-5d8a19d8c5ca",
   "metadata": {},
   "outputs": [
    {
     "name": "stdout",
     "output_type": "stream",
     "text": [
      "\n",
      "\n",
      "╒═══════════╤═══════════════╤══════════╤══════════╤══════════╕\n",
      "│           │ 0 = 00        │ 1 = 01   │ 2 = 10   │ 3 = 11   │\n",
      "╞═══════════╪═══════════════╪══════════╪══════════╪══════════╡\n",
      "│ 7 = 0111  │ \u001b[48;2;250;98;4m\u001b[49m              │ \u001b[48;2;54;153;38m\u001b[49m         │ \u001b[48;2;255;113;110m\u001b[49m         │ \u001b[48;2;255;187;226m\u001b[49m         │\n",
      "├───────────┼───────────────┼──────────┼──────────┼──────────┤\n",
      "│ 6 = 0110  │ \u001b[48;2;49;194;255m\u001b[49m              │ \u001b[48;2;51;154;41m\u001b[49m         │ \u001b[48;2;152;150;255m\u001b[49m         │ \u001b[48;2;62;129;255m\u001b[49m         │\n",
      "├───────────┼───────────────┼──────────┼──────────┼──────────┤\n",
      "│ 5 = 0101  │ \u001b[48;2;48;203;255m\u001b[49m              │ \u001b[48;2;48;184;116m\u001b[49m         │ \u001b[48;2;48;178;255m\u001b[49m         │ \u001b[48;2;47;206;255m\u001b[49m         │\n",
      "├───────────┼───────────────┼──────────┼──────────┼──────────┤\n",
      "│ 4 = 0100  │ \u001b[48;2;255;153;0m\u001b[49m              │ \u001b[48;2;248;55;36m\u001b[49m         │ \u001b[48;2;54;153;38m\u001b[49m         │ \u001b[48;2;174;161;255m\u001b[49m         │\n",
      "├───────────┼───────────────┼──────────┼──────────┼──────────┤\n",
      "│ 3 = 0011  │ \u001b[48;2;43;227;206m\u001b[49m              │ \u001b[48;2;183;165;255m\u001b[49m         │ \u001b[48;2;57;153;34m\u001b[49m         │ \u001b[48;2;40;140;255m\u001b[49m         │\n",
      "├───────────┼───────────────┼──────────┼──────────┼──────────┤\n",
      "│ 2 = 0010  │ \u001b[48;2;227;188;255m\u001b[49m              │ \u001b[48;2;62;129;255m\u001b[49m         │ \u001b[48;2;247;205;0m\u001b[49m         │ \u001b[48;2;255;144;153m\u001b[49m         │\n",
      "├───────────┼───────────────┼──────────┼──────────┼──────────┤\n",
      "│ 1 = 0001  │ \u001b[48;2;49;132;255m\u001b[49m              │ \u001b[48;2;38;230;243m\u001b[49m         │ \u001b[48;2;114;169;3m\u001b[49m         │ \u001b[48;2;255;145;0m\u001b[49m         │\n",
      "├───────────┼───────────────┼──────────┼──────────┼──────────┤\n",
      "│ 0 = 0000  │ \u001b[48;2;46;221;192m\u001b[49m              │ \u001b[48;2;255;186;0m\u001b[49m         │ \u001b[48;2;255;162;180m\u001b[49m         │ \u001b[48;2;132;141;255m\u001b[49m         │\n",
      "├───────────┼───────────────┼──────────┼──────────┼──────────┤\n",
      "│ -1 = 1111 │ \u001b[48;2;48;214;177m\u001b[49m              │ \u001b[48;2;204;204;0m\u001b[49m         │ \u001b[48;2;158;186;0m\u001b[49m         │ \u001b[48;2;252;116;1m\u001b[49m         │\n",
      "├───────────┼───────────────┼──────────┼──────────┼──────────┤\n",
      "│ -2 = 1110 │ \u001b[48;2;251;65;51m\u001b[49m              │ \u001b[48;2;204;204;0m\u001b[49m         │ \u001b[48;2;42;223;250m\u001b[49m         │ \u001b[48;2;247;72;12m\u001b[49m         │\n",
      "├───────────┼───────────────┼──────────┼──────────┼──────────┤\n",
      "│ -3 = 1101 │ \u001b[48;2;247;54;32m\u001b[49m              │ \u001b[48;2;42;228;211m\u001b[49m         │ \u001b[48;2;255;144;153m\u001b[49m         │ \u001b[48;2;44;158;58m\u001b[49m         │\n",
      "├───────────┼───────────────┼──────────┼──────────┼──────────┤\n",
      "│ -4 = 1100 │ \u001b[48;2;45;215;253m\u001b[49m              │ \u001b[48;2;39;232;224m\u001b[49m         │ \u001b[48;2;104;165;6m\u001b[49m         │ \u001b[48;2;255;189;0m\u001b[49m         │\n",
      "├───────────┼───────────────┼──────────┼──────────┼──────────┤\n",
      "│ -5 = 1011 │ \u001b[48;2;37;232;235m         \u001b[49m 1.0 │ \u001b[48;2;39;231;220m\u001b[49m         │ \u001b[48;2;43;163;72m\u001b[49m         │ \u001b[48;2;100;131;255m\u001b[49m         │\n",
      "├───────────┼───────────────┼──────────┼──────────┼──────────┤\n",
      "│ -6 = 1010 │ \u001b[48;2;48;214;177m\u001b[49m              │ \u001b[48;2;45;223;197m\u001b[49m         │ \u001b[48;2;217;208;0m\u001b[49m         │ \u001b[48;2;122;137;255m\u001b[49m         │\n",
      "├───────────┼───────────────┼──────────┼──────────┼──────────┤\n",
      "│ -7 = 1001 │ \u001b[48;2;50;191;131m\u001b[49m              │ \u001b[48;2;50;207;161m\u001b[49m         │ \u001b[48;2;255;125;126m\u001b[49m         │ \u001b[48;2;116;136;255m\u001b[49m         │\n",
      "├───────────┼───────────────┼──────────┼──────────┼──────────┤\n",
      "│ -8 = 1000 │ \u001b[48;2;49;189;126m\u001b[49m              │ \u001b[48;2;42;223;250m\u001b[49m         │ \u001b[48;2;43;165;76m\u001b[49m         │ \u001b[48;2;48;175;255m\u001b[49m         │\n",
      "╘═══════════╧═══════════════╧══════════╧══════════╧══════════╛\n"
     ]
    }
   ],
   "source": [
    "grid_state(qc.run(), n_key, True, True)"
   ]
  },
  {
   "cell_type": "markdown",
   "id": "1e10757f-1adb-4d47-9617-bcd5a93ad35c",
   "metadata": {},
   "source": [
    "### Finding zeros of polynomial functions (10.3)"
   ]
  },
  {
   "cell_type": "markdown",
   "id": "b84b0473-3cc1-43af-a0c9-73266500a089",
   "metadata": {},
   "source": [
    "Let's consider again a quadratic polynomial:\n",
    "\n",
    "$$\n",
    "p(k) = k^2 - 4\n",
    "$$\n",
    "\n",
    "for $0 \\le k< 8$. We can encode this function in a quantum state with the following code:"
   ]
  },
  {
   "cell_type": "code",
   "execution_count": 45,
   "id": "1df3f54c",
   "metadata": {},
   "outputs": [],
   "source": [
    "n_key = 2\n",
    "n_value = 4\n",
    "\n",
    "terms = [(4, [1]), (4, [1, 0]), (1, [0]), (-4, [])]\n",
    "\n",
    "qc = build_polynomial_circuit(n_key, n_value, terms)"
   ]
  },
  {
   "cell_type": "code",
   "execution_count": 46,
   "id": "e20eda51-a563-4147-9ef7-6ec48a5d8c83",
   "metadata": {},
   "outputs": [
    {
     "name": "stdout",
     "output_type": "stream",
     "text": [
      "\n",
      "\n",
      "╒═══════════╤═══════════╤═══════════╤═══════════╤═══════════╕\n",
      "│           │ 0 = 00    │ 1 = 01    │ 2 = 10    │ 3 = 11    │\n",
      "╞═══════════╪═══════════╪═══════════╪═══════════╪═══════════╡\n",
      "│ 7 = 0111  │ \u001b[48;2;255;185;222m\u001b[49m          │ \u001b[48;2;183;165;255m\u001b[49m          │ \u001b[48;2;251;103;3m\u001b[49m          │ \u001b[48;2;148;182;0m\u001b[49m          │\n",
      "├───────────┼───────────┼───────────┼───────────┼───────────┤\n",
      "│ 6 = 0110  │ \u001b[48;2;238;191;250m\u001b[49m          │ \u001b[48;2;227;188;255m\u001b[49m          │ \u001b[48;2;114;169;3m\u001b[49m          │ \u001b[48;2;247;72;12m\u001b[49m          │\n",
      "├───────────┼───────────┼───────────┼───────────┼───────────┤\n",
      "│ 5 = 0101  │ \u001b[48;2;208;179;255m\u001b[49m          │ \u001b[48;2;253;72;60m\u001b[49m          │ \u001b[48;2;255;133;137m\u001b[49m          │ \u001b[48;2;247;54;29m    \u001b[49m 0.25 │\n",
      "├───────────┼───────────┼───────────┼───────────┼───────────┤\n",
      "│ 4 = 0100  │ \u001b[48;2;174;161;255m\u001b[49m          │ \u001b[48;2;204;177;255m\u001b[49m          │ \u001b[48;2;77;128;255m\u001b[49m          │ \u001b[48;2;46;221;192m\u001b[49m          │\n",
      "├───────────┼───────────┼───────────┼───────────┼───────────┤\n",
      "│ 3 = 0011  │ \u001b[48;2;137;143;255m\u001b[49m          │ \u001b[48;2;44;225;202m\u001b[49m          │ \u001b[48;2;109;167;4m\u001b[49m          │ \u001b[48;2;48;181;111m\u001b[49m          │\n",
      "├───────────┼───────────┼───────────┼───────────┼───────────┤\n",
      "│ 2 = 0010  │ \u001b[48;2;94;130;255m\u001b[49m          │ \u001b[48;2;47;172;255m\u001b[49m          │ \u001b[48;2;249;94;5m\u001b[49m          │ \u001b[48;2;50;196;141m\u001b[49m          │\n",
      "├───────────┼───────────┼───────────┼───────────┼───────────┤\n",
      "│ 1 = 0001  │ \u001b[48;2;53;131;255m\u001b[49m          │ \u001b[48;2;183;165;255m\u001b[49m          │ \u001b[48;2;255;105;100m\u001b[49m          │ \u001b[48;2;48;214;177m\u001b[49m          │\n",
      "├───────────┼───────────┼───────────┼───────────┼───────────┤\n",
      "│ 0 = 0000  │ \u001b[48;2;40;148;255m\u001b[49m          │ \u001b[48;2;39;145;255m\u001b[49m          │ \u001b[48;2;247;54;29m    \u001b[49m 0.25 │ \u001b[48;2;45;157;54m\u001b[49m          │\n",
      "├───────────┼───────────┼───────────┼───────────┼───────────┤\n",
      "│ -1 = 1111 │ \u001b[48;2;47;172;255m\u001b[49m          │ \u001b[48;2;50;209;166m\u001b[49m          │ \u001b[48;2;49;197;255m\u001b[49m          │ \u001b[48;2;186;197;0m\u001b[49m          │\n",
      "├───────────┼───────────┼───────────┼───────────┼───────────┤\n",
      "│ -2 = 1110 │ \u001b[48;2;49;197;255m\u001b[49m          │ \u001b[48;2;42;223;250m\u001b[49m          │ \u001b[48;2;48;216;182m\u001b[49m          │ \u001b[48;2;158;186;0m\u001b[49m          │\n",
      "├───────────┼───────────┼───────────┼───────────┼───────────┤\n",
      "│ -3 = 1101 │ \u001b[48;2;42;223;250m\u001b[49m          │ \u001b[48;2;247;55;26m    \u001b[49m 0.25 │ \u001b[48;2;200;203;0m\u001b[49m          │ \u001b[48;2;153;184;0m\u001b[49m          │\n",
      "├───────────┼───────────┼───────────┼───────────┼───────────┤\n",
      "│ -4 = 1100 │ \u001b[48;2;247;55;26m    \u001b[49m 0.25 │ \u001b[48;2;254;76;65m\u001b[49m          │ \u001b[48;2;244;191;245m\u001b[49m          │ \u001b[48;2;255;172;0m\u001b[49m          │\n",
      "├───────────┼───────────┼───────────┼───────────┼───────────┤\n",
      "│ -5 = 1011 │ \u001b[48;2;252;68;56m\u001b[49m          │ \u001b[48;2;255;129;131m\u001b[49m          │ \u001b[48;2;48;175;255m\u001b[49m          │ \u001b[48;2;252;116;1m\u001b[49m          │\n",
      "├───────────┼───────────┼───────────┼───────────┼───────────┤\n",
      "│ -6 = 1010 │ \u001b[48;2;255;101;94m\u001b[49m          │ \u001b[48;2;255;185;222m\u001b[49m          │ \u001b[48;2;195;201;0m\u001b[49m          │ \u001b[48;2;233;209;0m\u001b[49m          │\n",
      "├───────────┼───────────┼───────────┼───────────┼───────────┤\n",
      "│ -7 = 1001 │ \u001b[48;2;255;133;137m\u001b[49m          │ \u001b[48;2;249;89;6m\u001b[49m          │ \u001b[48;2;49;212;171m\u001b[49m          │ \u001b[48;2;250;98;4m\u001b[49m          │\n",
      "├───────────┼───────────┼───────────┼───────────┼───────────┤\n",
      "│ -8 = 1000 │ \u001b[48;2;255;162;180m\u001b[49m          │ \u001b[48;2;204;177;255m\u001b[49m          │ \u001b[48;2;153;184;0m\u001b[49m          │ \u001b[48;2;255;157;0m\u001b[49m          │\n",
      "╘═══════════╧═══════════╧═══════════╧═══════════╧═══════════╛\n"
     ]
    }
   ],
   "source": [
    "grid_state(qc.run(), n_key, True, True)"
   ]
  },
  {
   "cell_type": "markdown",
   "id": "3c820afa-0ef7-4ed1-bda4-ccbcf0a717d6",
   "metadata": {},
   "source": [
    "Next, we can create an oracle that specifies outcomes with all zero digits in the value register.\n",
    "We can use the function below to create such an oracle:"
   ]
  },
  {
   "cell_type": "code",
   "execution_count": 47,
   "id": "e17525d3-8f0b-44ba-96a2-9ba8c16098fb",
   "metadata": {},
   "outputs": [],
   "source": [
    "def oracle_match_0_multi(bits, tag_bits):\n",
    "    q = QuantumRegister(bits)\n",
    "    qc = QuantumCircuit(q)\n",
    "\n",
    "    for t in tag_bits:\n",
    "        qc.x(q[t])\n",
    "\n",
    "    qc.mcp(pi, [q[t] for t in tag_bits[:-1]], q[len(q) - 1])\n",
    "\n",
    "    for t in tag_bits:\n",
    "        qc.x(q[t])\n",
    "\n",
    "    return qc"
   ]
  },
  {
   "cell_type": "markdown",
   "id": "35176e5d-81ee-449d-8edc-312e202456ba",
   "metadata": {},
   "source": [
    "We can create the oracle by passing each of the value register qubits as the `tag_bits`:"
   ]
  },
  {
   "cell_type": "code",
   "execution_count": 48,
   "id": "e3f26b60-c4e1-40d0-bf20-804458bfd4ec",
   "metadata": {},
   "outputs": [],
   "source": [
    "prepare = build_polynomial_circuit(n_key, n_value, terms)\n",
    "\n",
    "oracle = oracle_match_0_multi(\n",
    "    n_key + n_value,\n",
    "    [n_key + i for i in range(n_value)]\n",
    ")\n",
    "\n",
    "qc = grover_circuit(prepare, oracle, 1)"
   ]
  },
  {
   "cell_type": "code",
   "execution_count": 49,
   "id": "34d433be-6540-4c21-8426-823bff8c3082",
   "metadata": {},
   "outputs": [
    {
     "name": "stdout",
     "output_type": "stream",
     "text": [
      "\n",
      "\n",
      "╒═══════════╤══════════╤══════════╤═══════════════╤══════════╕\n",
      "│           │ 0 = 00   │ 1 = 01   │ 2 = 10        │ 3 = 11   │\n",
      "╞═══════════╪══════════╪══════════╪═══════════════╪══════════╡\n",
      "│ 7 = 0111  │ \u001b[48;2;255;97;89m\u001b[49m         │ \u001b[48;2;216;183;255m\u001b[49m         │ \u001b[48;2;247;191;242m\u001b[49m              │ \u001b[48;2;48;203;255m\u001b[49m         │\n",
      "├───────────┼──────────┼──────────┼───────────────┼──────────┤\n",
      "│ 6 = 0110  │ \u001b[48;2;37;232;238m\u001b[49m         │ \u001b[48;2;227;188;255m\u001b[49m         │ \u001b[48;2;47;209;254m\u001b[49m              │ \u001b[48;2;249;203;0m\u001b[49m         │\n",
      "├───────────┼──────────┼──────────┼───────────────┼──────────┤\n",
      "│ 5 = 0101  │ \u001b[48;2;248;76;10m\u001b[49m         │ \u001b[48;2;247;72;12m\u001b[49m         │ \u001b[48;2;60;153;30m\u001b[49m              │ \u001b[48;2;247;54;29m\u001b[49m         │\n",
      "├───────────┼──────────┼──────────┼───────────────┼──────────┤\n",
      "│ 4 = 0100  │ \u001b[48;2;129;174;2m\u001b[49m         │ \u001b[48;2;229;209;0m\u001b[49m         │ \u001b[48;2;68;154;24m\u001b[49m              │ \u001b[48;2;187;168;255m\u001b[49m         │\n",
      "├───────────┼──────────┼──────────┼───────────────┼──────────┤\n",
      "│ 3 = 0011  │ \u001b[48;2;39;232;224m\u001b[49m         │ \u001b[48;2;138;178;1m\u001b[49m         │ \u001b[48;2;254;193;0m\u001b[49m              │ \u001b[48;2;48;184;116m\u001b[49m         │\n",
      "├───────────┼──────────┼──────────┼───────────────┼──────────┤\n",
      "│ 2 = 0010  │ \u001b[48;2;255;80;69m\u001b[49m         │ \u001b[48;2;40;148;255m\u001b[49m         │ \u001b[48;2;42;157;255m\u001b[49m              │ \u001b[48;2;255;186;0m\u001b[49m         │\n",
      "├───────────┼──────────┼──────────┼───────────────┼──────────┤\n",
      "│ 1 = 0001  │ \u001b[48;2;49;184;255m\u001b[49m         │ \u001b[48;2;219;184;255m\u001b[49m         │ \u001b[48;2;247;72;12m\u001b[49m              │ \u001b[48;2;255;148;158m\u001b[49m         │\n",
      "├───────────┼──────────┼──────────┼───────────────┼──────────┤\n",
      "│ 0 = 0000  │ \u001b[48;2;255;179;0m\u001b[49m         │ \u001b[48;2;242;208;0m\u001b[49m         │ \u001b[48;2;37;232;235m         \u001b[49m 1.0 │ \u001b[48;2;255;169;191m\u001b[49m         │\n",
      "├───────────┼──────────┼──────────┼───────────────┼──────────┤\n",
      "│ -1 = 1111 │ \u001b[48;2;48;178;255m\u001b[49m         │ \u001b[48;2;124;172;2m\u001b[49m         │ \u001b[48;2;43;227;206m\u001b[49m              │ \u001b[48;2;248;85;7m\u001b[49m         │\n",
      "├───────────┼──────────┼──────────┼───────────────┼──────────┤\n",
      "│ -2 = 1110 │ \u001b[48;2;50;207;161m\u001b[49m         │ \u001b[48;2;255;125;126m\u001b[49m         │ \u001b[48;2;255;155;169m\u001b[49m              │ \u001b[48;2;191;199;0m\u001b[49m         │\n",
      "├───────────┼──────────┼──────────┼───────────────┼──────────┤\n",
      "│ -3 = 1101 │ \u001b[48;2;38;232;228m\u001b[49m         │ \u001b[48;2;158;186;0m\u001b[49m         │ \u001b[48;2;44;158;58m\u001b[49m              │ \u001b[48;2;42;223;250m\u001b[49m         │\n",
      "├───────────┼──────────┼──────────┼───────────────┼──────────┤\n",
      "│ -4 = 1100 │ \u001b[48;2;174;161;255m\u001b[49m         │ \u001b[48;2;255;165;186m\u001b[49m         │ \u001b[48;2;236;209;0m\u001b[49m              │ \u001b[48;2;255;97;89m\u001b[49m         │\n",
      "├───────────┼──────────┼──────────┼───────────────┼──────────┤\n",
      "│ -5 = 1011 │ \u001b[48;2;255;80;69m\u001b[49m         │ \u001b[48;2;116;136;255m\u001b[49m         │ \u001b[48;2;242;208;0m\u001b[49m              │ \u001b[48;2;254;76;65m\u001b[49m         │\n",
      "├───────────┼──────────┼──────────┼───────────────┼──────────┤\n",
      "│ -6 = 1010 │ \u001b[48;2;255;117;115m\u001b[49m         │ \u001b[48;2;49;181;255m\u001b[49m         │ \u001b[48;2;255;88;79m\u001b[49m              │ \u001b[48;2;255;113;110m\u001b[49m         │\n",
      "├───────────┼──────────┼──────────┼───────────────┼──────────┤\n",
      "│ -7 = 1001 │ \u001b[48;2;255;172;197m\u001b[49m         │ \u001b[48;2;250;98;4m\u001b[49m         │ \u001b[48;2;72;128;255m\u001b[49m              │ \u001b[48;2;49;155;45m\u001b[49m         │\n",
      "├───────────┼──────────┼──────────┼───────────────┼──────────┤\n",
      "│ -8 = 1000 │ \u001b[48;2;255;162;180m\u001b[49m         │ \u001b[48;2;114;169;3m\u001b[49m         │ \u001b[48;2;247;55;26m\u001b[49m              │ \u001b[48;2;238;191;250m\u001b[49m         │\n",
      "╘═══════════╧══════════╧══════════╧═══════════════╧══════════╛\n"
     ]
    }
   ],
   "source": [
    "grid_state(qc.run(), n_key, True, True)"
   ]
  }
 ],
 "metadata": {
  "kernelspec": {
   "display_name": "Python 3 (ipykernel)",
   "language": "python",
   "name": "python3"
  },
  "language_info": {
   "codemirror_mode": {
    "name": "ipython",
    "version": 3
   },
   "file_extension": ".py",
   "mimetype": "text/x-python",
   "name": "python",
   "nbconvert_exporter": "python",
   "pygments_lexer": "ipython3",
   "version": "3.9.13"
  }
 },
 "nbformat": 4,
 "nbformat_minor": 5
}
