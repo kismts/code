{
 "cells": [
  {
   "cell_type": "code",
   "execution_count": 1,
   "id": "27ceefe4",
   "metadata": {
    "ExecuteTime": {
     "end_time": "2024-12-23T15:17:21.251925Z",
     "start_time": "2024-12-23T15:17:21.237963Z"
    }
   },
   "outputs": [],
   "source": [
    "import sys;\n",
    "sys.path.insert(0, '..')"
   ]
  },
  {
   "cell_type": "markdown",
   "id": "2f1d8f87-76e6-4f54-91a3-2e2e116f3a08",
   "metadata": {
    "tags": []
   },
   "source": [
    "## Chapter 5 Code Snippets and Listings"
   ]
  },
  {
   "cell_type": "markdown",
   "id": "82d69d54-033c-4c56-8173-899995d5e870",
   "metadata": {
    "tags": []
   },
   "source": [
    "### Phase oracles (section 5.1.1)"
   ]
  },
  {
   "cell_type": "markdown",
   "id": "6dfd5853",
   "metadata": {},
   "source": [
    "A *phase oracle* rotates the amplitudes of the \"good\" outcomes by $180^\\circ$. Rotating a complex number by $180^\\circ$ is the same as multiplying it by -1.\n",
    "\n",
    "We will start with a classical implementation of phase oracles.\n"
   ]
  },
  {
   "cell_type": "markdown",
   "id": "9d3bc407",
   "metadata": {},
   "source": [
    "The good outcomes can be specified classically with a predicate that returns `True` for a good outcome and `False` otherwise. For example, if we have a problem with one good outcome, 3, we can define the predicate below:"
   ]
  },
  {
   "cell_type": "code",
   "execution_count": 2,
   "id": "e1c31d38ec91387",
   "metadata": {
    "ExecuteTime": {
     "end_time": "2024-12-23T15:17:21.260159Z",
     "start_time": "2024-12-23T15:17:21.255754Z"
    }
   },
   "outputs": [],
   "source": [
    "predicate = lambda k: True if k == 3 else False"
   ]
  },
  {
   "cell_type": "markdown",
   "id": "abe21e31",
   "metadata": {},
   "source": [
    "Say we have 8 possible outcomes ($n = 3$). We can use the `predicate` function to list the good outcomes:"
   ]
  },
  {
   "cell_type": "code",
   "execution_count": 3,
   "id": "31a0aa3ac2112f72",
   "metadata": {
    "ExecuteTime": {
     "end_time": "2024-12-23T15:17:21.350876Z",
     "start_time": "2024-12-23T15:17:21.348678Z"
    }
   },
   "outputs": [
    {
     "name": "stdout",
     "output_type": "stream",
     "text": [
      "\n",
      "Good outcomes: [3]\n"
     ]
    }
   ],
   "source": [
    "n = 3\n",
    "print(f'\\nGood outcomes: {[k for k in range(2**n) if predicate(k)]}')"
   ]
  },
  {
   "cell_type": "markdown",
   "id": "179a5342",
   "metadata": {},
   "source": [
    "We can use this predicate to implement an oracle that takes any state and multiplies the amplitudes of the good states by -1:"
   ]
  },
  {
   "cell_type": "code",
   "execution_count": 4,
   "id": "acd5b3184e84088d",
   "metadata": {
    "ExecuteTime": {
     "end_time": "2024-12-23T15:17:21.372276Z",
     "start_time": "2024-12-23T15:17:21.370270Z"
    }
   },
   "outputs": [],
   "source": [
    "def classical_phase_oracle(state, predicate):\n",
    "    for item in range(len(state)):\n",
    "        if predicate(item):\n",
    "            state[item] *= -1"
   ]
  },
  {
   "cell_type": "markdown",
   "id": "d639a8a2",
   "metadata": {},
   "source": [
    "Let's start with an example state with $n = 3$ qubits in a uniform superposition where the magnitudes of all amplitudes are equal."
   ]
  },
  {
   "cell_type": "code",
   "execution_count": 5,
   "id": "33c7e0a663291e7f",
   "metadata": {
    "ExecuteTime": {
     "end_time": "2024-12-23T15:17:21.393531Z",
     "start_time": "2024-12-23T15:17:21.391687Z"
    }
   },
   "outputs": [],
   "source": [
    "from math import sqrt\n",
    "\n",
    "n = 3\n",
    "state = [1/sqrt(2**n) for _ in range(2**n)]"
   ]
  },
  {
   "cell_type": "code",
   "execution_count": 6,
   "id": "6c6af93f831e184f",
   "metadata": {
    "ExecuteTime": {
     "end_time": "2024-12-23T15:17:21.854082Z",
     "start_time": "2024-12-23T15:17:21.402965Z"
    }
   },
   "outputs": [
    {
     "name": "stdout",
     "output_type": "stream",
     "text": [
      "\n",
      "Outcome  Binary  Amplitude           Direction  Magnitude  Amplitude Bar             Probability\n",
      "------------------------------------------------------------------------------------------------\n",
      "0        000     0.3536 + i0.0000       0.00°   0.3536     \u001b[38;2;246;54;26m████████                \u001b[39m  0.125 \n",
      "1        001     0.3536 + i0.0000       0.00°   0.3536     \u001b[38;2;246;54;26m████████                \u001b[39m  0.125 \n",
      "2        010     0.3536 + i0.0000       0.00°   0.3536     \u001b[38;2;246;54;26m████████                \u001b[39m  0.125 \n",
      "3        011     0.3536 + i0.0000       0.00°   0.3536     \u001b[38;2;246;54;26m████████                \u001b[39m  0.125 \n",
      "4        100     0.3536 + i0.0000       0.00°   0.3536     \u001b[38;2;246;54;26m████████                \u001b[39m  0.125 \n",
      "5        101     0.3536 + i0.0000       0.00°   0.3536     \u001b[38;2;246;54;26m████████                \u001b[39m  0.125 \n",
      "6        110     0.3536 + i0.0000       0.00°   0.3536     \u001b[38;2;246;54;26m████████                \u001b[39m  0.125 \n",
      "7        111     0.3536 + i0.0000       0.00°   0.3536     \u001b[38;2;246;54;26m████████                \u001b[39m  0.125 \n",
      "\n"
     ]
    }
   ],
   "source": [
    "from util import print_state_table\n",
    "\n",
    "print_state_table(state)"
   ]
  },
  {
   "cell_type": "markdown",
   "id": "9457f435",
   "metadata": {},
   "source": [
    "We can apply the classical phase oracle to this state with the following code:"
   ]
  },
  {
   "cell_type": "code",
   "execution_count": 7,
   "id": "dbd1990f261100b2",
   "metadata": {
    "ExecuteTime": {
     "end_time": "2024-12-23T15:17:21.859663Z",
     "start_time": "2024-12-23T15:17:21.858003Z"
    }
   },
   "outputs": [],
   "source": [
    "classical_phase_oracle(state, predicate)"
   ]
  },
  {
   "cell_type": "code",
   "execution_count": 8,
   "id": "36574196f3d2b5e5",
   "metadata": {
    "ExecuteTime": {
     "end_time": "2024-12-23T15:17:21.878246Z",
     "start_time": "2024-12-23T15:17:21.875184Z"
    }
   },
   "outputs": [
    {
     "name": "stdout",
     "output_type": "stream",
     "text": [
      "\n",
      "State after oracle is applied, changing the direction of good outcomes\n",
      "\n",
      "Outcome  Binary  Amplitude           Direction  Magnitude  Amplitude Bar             Probability\n",
      "------------------------------------------------------------------------------------------------\n",
      "0        000     0.3536 + i0.0000       0.00°   0.3536     \u001b[38;2;246;54;26m████████                \u001b[39m  0.125 \n",
      "1        001     0.3536 + i0.0000       0.00°   0.3536     \u001b[38;2;246;54;26m████████                \u001b[39m  0.125 \n",
      "2        010     0.3536 + i0.0000       0.00°   0.3536     \u001b[38;2;246;54;26m████████                \u001b[39m  0.125 \n",
      "3        011    -0.3536 + i0.0000     180.00°   0.3536     \u001b[38;2;37;232;234m████████                \u001b[39m  0.125 \n",
      "4        100     0.3536 + i0.0000       0.00°   0.3536     \u001b[38;2;246;54;26m████████                \u001b[39m  0.125 \n",
      "5        101     0.3536 + i0.0000       0.00°   0.3536     \u001b[38;2;246;54;26m████████                \u001b[39m  0.125 \n",
      "6        110     0.3536 + i0.0000       0.00°   0.3536     \u001b[38;2;246;54;26m████████                \u001b[39m  0.125 \n",
      "7        111     0.3536 + i0.0000       0.00°   0.3536     \u001b[38;2;246;54;26m████████                \u001b[39m  0.125 \n",
      "\n"
     ]
    }
   ],
   "source": [
    "print('\\nState after oracle is applied, changing the direction of good outcomes')\n",
    "print_state_table(state)"
   ]
  },
  {
   "cell_type": "markdown",
   "id": "a806a998-67c5-4168-b9f6-0af6e114a350",
   "metadata": {},
   "source": [
    "### Bit oracles (section 5.1.2)"
   ]
  },
  {
   "cell_type": "markdown",
   "id": "8f341bff",
   "metadata": {},
   "source": [
    "A *bit oracle* entangles the good outcomes with an additional qubit, which we will call the \"tag bit\".\n",
    "\n",
    "The function `c_bit_oracle` is a classical implementation of a bit oracle:"
   ]
  },
  {
   "cell_type": "code",
   "execution_count": 9,
   "id": "5cd606f6",
   "metadata": {
    "ExecuteTime": {
     "end_time": "2024-12-23T15:17:21.888533Z",
     "start_time": "2024-12-23T15:17:21.886386Z"
    }
   },
   "outputs": [],
   "source": [
    "def classical_bit_oracle(state, predicate):\n",
    "    N = len(state)\n",
    "    # Adding a qubit doubles the number of possible outcomes, and therefore the number of amplitudes\n",
    "    state = state + [0 for _ in range(N)]\n",
    "    # We find the amplitude corresponding to the outcome with 1 in the tag bit position by adding N to the amplitude index\n",
    "    for item in range(N):\n",
    "        if predicate(item):\n",
    "            state[N + item] = state[item]\n",
    "            state[item] = 0\n",
    "    return state"
   ]
  },
  {
   "cell_type": "markdown",
   "id": "1c78aca2",
   "metadata": {},
   "source": [
    "Let's apply this oracle to a state with $n = 3$ qubits, where 3 is the good state:"
   ]
  },
  {
   "cell_type": "code",
   "execution_count": 10,
   "id": "076f89a9-5ba8-4c6a-8cae-2045e0ae0c08",
   "metadata": {
    "ExecuteTime": {
     "end_time": "2024-12-23T15:17:21.913086Z",
     "start_time": "2024-12-23T15:17:21.911044Z"
    }
   },
   "outputs": [],
   "source": [
    "predicate = lambda k: True if k == 3 else False\n",
    "\n",
    "n = 3\n",
    "state = [1/sqrt(2**n) for _ in range(2**n)]\n",
    "\n",
    "tag_state = classical_bit_oracle(state, predicate)"
   ]
  },
  {
   "cell_type": "code",
   "execution_count": 11,
   "id": "b9043356-5dbf-4057-8160-dcebed523606",
   "metadata": {
    "ExecuteTime": {
     "end_time": "2024-12-23T15:17:21.929451Z",
     "start_time": "2024-12-23T15:17:21.926090Z"
    }
   },
   "outputs": [
    {
     "name": "stdout",
     "output_type": "stream",
     "text": [
      "\n",
      "Outcome  Binary  Amplitude           Direction  Magnitude  Amplitude Bar             Probability\n",
      "------------------------------------------------------------------------------------------------\n",
      "0        0000    0.3536 + i0.0000       0.00°   0.3536     \u001b[38;2;246;54;26m████████                \u001b[39m  0.125 \n",
      "1        0001    0.3536 + i0.0000       0.00°   0.3536     \u001b[38;2;246;54;26m████████                \u001b[39m  0.125 \n",
      "2        0010    0.3536 + i0.0000       0.00°   0.3536     \u001b[38;2;246;54;26m████████                \u001b[39m  0.125 \n",
      "3        0011    0.0000 + i0.0000               0          \u001b[38;2;246;54;26m                        \u001b[39m  0     \n",
      "4        0100    0.3536 + i0.0000       0.00°   0.3536     \u001b[38;2;246;54;26m████████                \u001b[39m  0.125 \n",
      "5        0101    0.3536 + i0.0000       0.00°   0.3536     \u001b[38;2;246;54;26m████████                \u001b[39m  0.125 \n",
      "6        0110    0.3536 + i0.0000       0.00°   0.3536     \u001b[38;2;246;54;26m████████                \u001b[39m  0.125 \n",
      "7        0111    0.3536 + i0.0000       0.00°   0.3536     \u001b[38;2;246;54;26m████████                \u001b[39m  0.125 \n",
      "8        1000    0.0000 + i0.0000               0          \u001b[38;2;246;54;26m                        \u001b[39m  0     \n",
      "9        1001    0.0000 + i0.0000               0          \u001b[38;2;246;54;26m                        \u001b[39m  0     \n",
      "10       1010    0.0000 + i0.0000               0          \u001b[38;2;246;54;26m                        \u001b[39m  0     \n",
      "11       1011    0.3536 + i0.0000       0.00°   0.3536     \u001b[38;2;246;54;26m████████                \u001b[39m  0.125 \n",
      "12       1100    0.0000 + i0.0000               0          \u001b[38;2;246;54;26m                        \u001b[39m  0     \n",
      "13       1101    0.0000 + i0.0000               0          \u001b[38;2;246;54;26m                        \u001b[39m  0     \n",
      "14       1110    0.0000 + i0.0000               0          \u001b[38;2;246;54;26m                        \u001b[39m  0     \n",
      "15       1111    0.0000 + i0.0000               0          \u001b[38;2;246;54;26m                        \u001b[39m  0     \n",
      "\n"
     ]
    }
   ],
   "source": [
    "print_state_table(tag_state)"
   ]
  },
  {
   "cell_type": "markdown",
   "id": "a4fca773",
   "metadata": {},
   "source": [
    "We can also apply this oracle to a random state generated using our `generate_state` function:"
   ]
  },
  {
   "cell_type": "code",
   "execution_count": 12,
   "id": "b6b22387",
   "metadata": {
    "ExecuteTime": {
     "end_time": "2024-12-23T15:17:21.948530Z",
     "start_time": "2024-12-23T15:17:21.946649Z"
    }
   },
   "outputs": [],
   "source": [
    "from util import generate_state\n",
    "\n",
    "n = 3\n",
    "state = generate_state(n, seed=777)"
   ]
  },
  {
   "cell_type": "code",
   "execution_count": 13,
   "id": "4fe8b61e-3aa4-461e-a3d7-58228ddef0b5",
   "metadata": {
    "ExecuteTime": {
     "end_time": "2024-12-23T15:17:21.963584Z",
     "start_time": "2024-12-23T15:17:21.960980Z"
    }
   },
   "outputs": [
    {
     "name": "stdout",
     "output_type": "stream",
     "text": [
      "\n",
      "Outcome  Binary  Amplitude           Direction  Magnitude  Amplitude Bar             Probability\n",
      "------------------------------------------------------------------------------------------------\n",
      "0        000    -0.1673 - i0.1616    -135.99°   0.2327     \u001b[38;2;40;150;255m█████                   \u001b[39m  0.0541\n",
      "1        001    -0.2493 + i0.2074     140.24°   0.3243     \u001b[38;2;45;174;95m███████                 \u001b[39m  0.1052\n",
      "2        010    -0.0715 + i0.2862     104.30°   0.295      \u001b[38;2;109;166;4m███████                 \u001b[39m  0.087 \n",
      "3        011     0.2521 - i0.0108      -2.45°   0.2524     \u001b[38;2;247;53;32m██████                  \u001b[39m  0.0637\n",
      "4        100     0.2543 - i0.1212     -25.48°   0.2817     \u001b[38;2;255;112;109m██████                  \u001b[39m  0.0793\n",
      "5        101    -0.1503 - i0.3937    -110.89°   0.4214     \u001b[38;2;99;131;255m██████████              \u001b[39m  0.1776\n",
      "6        110     0.3562 - i0.3016     -40.26°   0.4667     \u001b[38;2;255;151;163m███████████             \u001b[39m  0.2178\n",
      "7        111     0.3692 + i0.2811      37.28°   0.464      \u001b[38;2;255;156;0m███████████             \u001b[39m  0.2153\n",
      "\n"
     ]
    }
   ],
   "source": [
    "print_state_table(state)"
   ]
  },
  {
   "cell_type": "code",
   "execution_count": 14,
   "id": "0cd23f5a",
   "metadata": {
    "ExecuteTime": {
     "end_time": "2024-12-23T15:17:21.975097Z",
     "start_time": "2024-12-23T15:17:21.973459Z"
    }
   },
   "outputs": [],
   "source": [
    "state = classical_bit_oracle(state, predicate)"
   ]
  },
  {
   "cell_type": "code",
   "execution_count": 15,
   "id": "3bf4a867-3ead-4aec-a200-9991b347407e",
   "metadata": {
    "ExecuteTime": {
     "end_time": "2024-12-23T15:17:22.001122Z",
     "start_time": "2024-12-23T15:17:21.997429Z"
    }
   },
   "outputs": [
    {
     "name": "stdout",
     "output_type": "stream",
     "text": [
      "\n",
      "Outcome  Binary  Amplitude           Direction  Magnitude  Amplitude Bar             Probability\n",
      "------------------------------------------------------------------------------------------------\n",
      "0        0000   -0.1673 - i0.1616    -135.99°   0.2327     \u001b[38;2;40;150;255m█████                   \u001b[39m  0.0541\n",
      "1        0001   -0.2493 + i0.2074     140.24°   0.3243     \u001b[38;2;45;174;95m███████                 \u001b[39m  0.1052\n",
      "2        0010   -0.0715 + i0.2862     104.30°   0.295      \u001b[38;2;109;166;4m███████                 \u001b[39m  0.087 \n",
      "3        0011    0.0000 + i0.0000               0          \u001b[38;2;246;54;26m                        \u001b[39m  0     \n",
      "4        0100    0.2543 - i0.1212     -25.48°   0.2817     \u001b[38;2;255;112;109m██████                  \u001b[39m  0.0793\n",
      "5        0101   -0.1503 - i0.3937    -110.89°   0.4214     \u001b[38;2;99;131;255m██████████              \u001b[39m  0.1776\n",
      "6        0110    0.3562 - i0.3016     -40.26°   0.4667     \u001b[38;2;255;151;163m███████████             \u001b[39m  0.2178\n",
      "7        0111    0.3692 + i0.2811      37.28°   0.464      \u001b[38;2;255;156;0m███████████             \u001b[39m  0.2153\n",
      "8        1000    0.0000 + i0.0000               0          \u001b[38;2;246;54;26m                        \u001b[39m  0     \n",
      "9        1001    0.0000 + i0.0000               0          \u001b[38;2;246;54;26m                        \u001b[39m  0     \n",
      "10       1010    0.0000 + i0.0000               0          \u001b[38;2;246;54;26m                        \u001b[39m  0     \n",
      "11       1011    0.2521 - i0.0108      -2.45°   0.2524     \u001b[38;2;247;53;32m██████                  \u001b[39m  0.0637\n",
      "12       1100    0.0000 + i0.0000               0          \u001b[38;2;246;54;26m                        \u001b[39m  0     \n",
      "13       1101    0.0000 + i0.0000               0          \u001b[38;2;246;54;26m                        \u001b[39m  0     \n",
      "14       1110    0.0000 + i0.0000               0          \u001b[38;2;246;54;26m                        \u001b[39m  0     \n",
      "15       1111    0.0000 + i0.0000               0          \u001b[38;2;246;54;26m                        \u001b[39m  0     \n",
      "\n"
     ]
    }
   ],
   "source": [
    "print_state_table(state)"
   ]
  },
  {
   "cell_type": "markdown",
   "id": "01f22110-8efc-411f-a0da-626d138a0bf9",
   "metadata": {},
   "source": [
    "### Creating quantum circuits from building blocks (section 5.2.1)"
   ]
  },
  {
   "cell_type": "markdown",
   "id": "9a8209a4",
   "metadata": {},
   "source": [
    "**Note**: The methods `append` from listing 5.1 and `c_append` from listing 5.2 have been added to the `QuantumCircuit` class in sim_circuit.py."
   ]
  },
  {
   "cell_type": "markdown",
   "id": "3aa4ad11",
   "metadata": {},
   "source": [
    "For example, let's create an example three-qubit register, and a circuit with one X-gate applied to target qubit 0:"
   ]
  },
  {
   "cell_type": "code",
   "execution_count": 16,
   "id": "66b314c2",
   "metadata": {
    "ExecuteTime": {
     "end_time": "2024-12-23T15:17:22.018406Z",
     "start_time": "2024-12-23T15:17:22.012920Z"
    },
    "collapsed": false,
    "jupyter": {
     "outputs_hidden": false
    }
   },
   "outputs": [],
   "source": [
    "from sim_circuit import *\n",
    "\n",
    "n = 3\n",
    "q = QuantumRegister(n)\n",
    "qc = QuantumCircuit(q)\n",
    "qc.x(0)"
   ]
  },
  {
   "cell_type": "markdown",
   "id": "cb821870",
   "metadata": {},
   "source": [
    "Next, we will use the `uniform` function from chapter 4.\n",
    "This function creates a circuit for encoding the uniform distribution in a state with `n` qubits.\n"
   ]
  },
  {
   "cell_type": "code",
   "execution_count": 17,
   "id": "2c6cd7be",
   "metadata": {
    "ExecuteTime": {
     "end_time": "2024-12-23T15:17:22.031087Z",
     "start_time": "2024-12-23T15:17:22.029290Z"
    },
    "collapsed": false,
    "jupyter": {
     "outputs_hidden": false
    }
   },
   "outputs": [],
   "source": [
    "def uniform(n):\n",
    "    q = QuantumRegister(n)\n",
    "    qc = QuantumCircuit(q)\n",
    "\n",
    "    for i in range(len(q)):\n",
    "        qc.h(q[i])\n",
    "\n",
    "    return qc"
   ]
  },
  {
   "cell_type": "markdown",
   "id": "efe2f5b3",
   "metadata": {},
   "source": [
    "We can apply the circuit defined in `uniform` to our three-qubit register using the `append` method:"
   ]
  },
  {
   "cell_type": "code",
   "execution_count": 18,
   "id": "ec59993b",
   "metadata": {
    "ExecuteTime": {
     "end_time": "2024-12-23T15:17:22.041199Z",
     "start_time": "2024-12-23T15:17:22.039506Z"
    },
    "collapsed": false,
    "jupyter": {
     "outputs_hidden": false
    }
   },
   "outputs": [],
   "source": [
    "n = 3\n",
    "uniform_qc = uniform(n)\n",
    "qc.append(uniform_qc, q) # Apply the circuit to the register q"
   ]
  },
  {
   "cell_type": "markdown",
   "id": "528056ed",
   "metadata": {
    "jp-MarkdownHeadingCollapsed": true
   },
   "source": [
    "### Phase oracle (section 5.2.2)"
   ]
  },
  {
   "cell_type": "markdown",
   "id": "58335cb5-edd3-4cbf-b9ad-7ddf255c73bb",
   "metadata": {},
   "source": [
    "Listing 5.3 Function to create a phase oracle quantum circuit for a given number of qubits `n` and a set of good outcomes `items`"
   ]
  },
  {
   "cell_type": "code",
   "execution_count": 19,
   "id": "fdd5a91db4116142",
   "metadata": {
    "ExecuteTime": {
     "end_time": "2024-12-23T15:17:22.048973Z",
     "start_time": "2024-12-23T15:17:22.046687Z"
    }
   },
   "outputs": [],
   "source": [
    "from math import pi\n",
    "\n",
    "    \n",
    "def is_bit_not_set(m, k):\n",
    "    return not (m & (1 << k))\n",
    "\n",
    "def phase_oracle_match(n, items):\n",
    "    q = QuantumRegister(n)\n",
    "    qc = QuantumCircuit(q)\n",
    "\n",
    "    for m in items:\n",
    "        for i in range(n):\n",
    "            if is_bit_not_set(m, i):\n",
    "                qc.x(q[i])\n",
    "\n",
    "        qc.mcp(pi, [q[i] for i in range(len(q) - 1)], q[len(q) - 1])\n",
    "\n",
    "        for i in range(n):\n",
    "            if is_bit_not_set(m, i):\n",
    "                qc.x(q[i])\n",
    "    return qc"
   ]
  },
  {
   "cell_type": "markdown",
   "id": "bcb1d70d-e7eb-400f-8aca-2e0f83694cf4",
   "metadata": {},
   "source": [
    "Let's use this function to create the oracle circuit for $n = 3$ and a single good outcome 3:"
   ]
  },
  {
   "cell_type": "code",
   "execution_count": 20,
   "id": "7c64000b-6958-45a3-b580-375e45f4cf3a",
   "metadata": {
    "ExecuteTime": {
     "end_time": "2024-12-23T15:17:22.060285Z",
     "start_time": "2024-12-23T15:17:22.058490Z"
    }
   },
   "outputs": [],
   "source": [
    "n = 3\n",
    "items = [3]\n",
    "\n",
    "oracle_circuit = phase_oracle_match(n, items)"
   ]
  },
  {
   "cell_type": "code",
   "execution_count": 21,
   "id": "db64ca55-7ea3-4a99-8ce8-9b443a0465e9",
   "metadata": {
    "ExecuteTime": {
     "end_time": "2024-12-23T15:17:22.327914Z",
     "start_time": "2024-12-23T15:17:22.068888Z"
    }
   },
   "outputs": [
    {
     "name": "stdout",
     "output_type": "stream",
     "text": [
      "                      \n",
      "q_0: ──────■──────────\n",
      "           │          \n",
      "q_1: ──────■──────────\n",
      "     ┌───┐ │P(π) ┌───┐\n",
      "q_2: ┤ X ├─■─────┤ X ├\n",
      "     └───┘       └───┘\n"
     ]
    }
   ],
   "source": [
    "from util_qiskit import print_circuit\n",
    "\n",
    "print_circuit(oracle_circuit)"
   ]
  },
  {
   "cell_type": "markdown",
   "id": "2163f622-770d-417e-b7d4-16b6644dcdb3",
   "metadata": {},
   "source": [
    "We can create a state in equal superposition and apply the oracle circuit defined above:"
   ]
  },
  {
   "cell_type": "code",
   "execution_count": 22,
   "id": "96da22f9-b4e7-40d4-828f-b9737f2c490a",
   "metadata": {
    "ExecuteTime": {
     "end_time": "2024-12-23T15:17:22.342272Z",
     "start_time": "2024-12-23T15:17:22.340272Z"
    }
   },
   "outputs": [],
   "source": [
    "q = QuantumRegister(n)\n",
    "qc = QuantumCircuit(q)\n",
    "\n",
    "for i in range(n):\n",
    "    qc.h(q[i])"
   ]
  },
  {
   "cell_type": "code",
   "execution_count": 23,
   "id": "ff50dbb4-11ee-4686-9f68-a19d4ab0a4c5",
   "metadata": {
    "ExecuteTime": {
     "end_time": "2024-12-23T15:17:22.349906Z",
     "start_time": "2024-12-23T15:17:22.347766Z"
    }
   },
   "outputs": [],
   "source": [
    "qc.append(oracle_circuit, QuantumRegister(n))"
   ]
  },
  {
   "cell_type": "code",
   "execution_count": 24,
   "id": "702a457d-2c8c-4372-b437-98ce3e1d5f1e",
   "metadata": {
    "ExecuteTime": {
     "end_time": "2024-12-23T15:17:22.362241Z",
     "start_time": "2024-12-23T15:17:22.358679Z"
    }
   },
   "outputs": [
    {
     "name": "stdout",
     "output_type": "stream",
     "text": [
      "\n",
      "Outcome  Binary  Amplitude           Direction  Magnitude  Amplitude Bar             Probability\n",
      "------------------------------------------------------------------------------------------------\n",
      "0        000     0.3536 + i0.0000       0.00°   0.3536     \u001b[38;2;246;54;26m████████                \u001b[39m  0.125 \n",
      "1        001     0.3536 + i0.0000       0.00°   0.3536     \u001b[38;2;246;54;26m████████                \u001b[39m  0.125 \n",
      "2        010     0.3536 + i0.0000       0.00°   0.3536     \u001b[38;2;246;54;26m████████                \u001b[39m  0.125 \n",
      "3        011    -0.3536 + i0.0000     180.00°   0.3536     \u001b[38;2;37;232;234m████████                \u001b[39m  0.125 \n",
      "4        100     0.3536 + i0.0000       0.00°   0.3536     \u001b[38;2;246;54;26m████████                \u001b[39m  0.125 \n",
      "5        101     0.3536 + i0.0000       0.00°   0.3536     \u001b[38;2;246;54;26m████████                \u001b[39m  0.125 \n",
      "6        110     0.3536 + i0.0000       0.00°   0.3536     \u001b[38;2;246;54;26m████████                \u001b[39m  0.125 \n",
      "7        111     0.3536 + i0.0000       0.00°   0.3536     \u001b[38;2;246;54;26m████████                \u001b[39m  0.125 \n",
      "\n"
     ]
    }
   ],
   "source": [
    "print_state_table(qc.run())"
   ]
  },
  {
   "cell_type": "markdown",
   "id": "49e099b1-2aca-41ec-af1d-701ca83c7d01",
   "metadata": {},
   "source": [
    "Let's create an oracle for $n = 3$ and associated to good outcomes 1, 3, and 5:"
   ]
  },
  {
   "cell_type": "code",
   "execution_count": 25,
   "id": "54463c9a-a7a4-48ee-ad83-3ab1274b38e7",
   "metadata": {
    "ExecuteTime": {
     "end_time": "2024-12-23T15:17:22.374608Z",
     "start_time": "2024-12-23T15:17:22.372945Z"
    }
   },
   "outputs": [],
   "source": [
    "n = 3\n",
    "items = [1, 3, 5]\n",
    "\n",
    "oracle_circuit = phase_oracle_match(n, items)"
   ]
  },
  {
   "cell_type": "code",
   "execution_count": 26,
   "id": "d1ae3c75-bf5b-49c7-bfa6-27e205bfc6de",
   "metadata": {
    "ExecuteTime": {
     "end_time": "2024-12-23T15:17:22.398544Z",
     "start_time": "2024-12-23T15:17:22.395184Z"
    }
   },
   "outputs": [
    {
     "name": "stdout",
     "output_type": "stream",
     "text": [
      "                                                   \n",
      "q_0: ──────■────────────────■───────────■──────────\n",
      "     ┌───┐ │     ┌───┐      │     ┌───┐ │     ┌───┐\n",
      "q_1: ┤ X ├─■─────┤ X ├──────■─────┤ X ├─■─────┤ X ├\n",
      "     ├───┤ │P(π) ├───┤┌───┐ │P(π) ├───┤ │P(π) └───┘\n",
      "q_2: ┤ X ├─■─────┤ X ├┤ X ├─■─────┤ X ├─■──────────\n",
      "     └───┘       └───┘└───┘       └───┘            \n"
     ]
    }
   ],
   "source": [
    "print_circuit(oracle_circuit)"
   ]
  },
  {
   "cell_type": "markdown",
   "id": "a184a156-5987-4ae7-a669-2c03bdc935b8",
   "metadata": {},
   "source": [
    "Let's create a circuit which prepares the state and applies the oracle:"
   ]
  },
  {
   "cell_type": "code",
   "execution_count": 27,
   "id": "fdf70adc-ebe8-4427-ab09-0dcf09680e22",
   "metadata": {
    "ExecuteTime": {
     "end_time": "2024-12-23T15:17:22.408073Z",
     "start_time": "2024-12-23T15:17:22.406236Z"
    }
   },
   "outputs": [],
   "source": [
    "q = QuantumRegister(n)\n",
    "qc = QuantumCircuit(q)\n",
    "\n",
    "for i in range(n):\n",
    "    qc.h(q[i])\n",
    "    \n",
    "qc.append(oracle_circuit, QuantumRegister(n))    "
   ]
  },
  {
   "cell_type": "code",
   "execution_count": 28,
   "id": "c07467ac-77c9-4222-9e29-e6511e4cf5b3",
   "metadata": {
    "ExecuteTime": {
     "end_time": "2024-12-23T15:17:22.431419Z",
     "start_time": "2024-12-23T15:17:22.428058Z"
    }
   },
   "outputs": [
    {
     "name": "stdout",
     "output_type": "stream",
     "text": [
      "\n",
      "Outcome  Binary  Amplitude           Direction  Magnitude  Amplitude Bar             Probability\n",
      "------------------------------------------------------------------------------------------------\n",
      "0        000     0.3536 + i0.0000       0.00°   0.3536     \u001b[38;2;246;54;26m████████                \u001b[39m  0.125 \n",
      "1        001    -0.3536 + i0.0000     180.00°   0.3536     \u001b[38;2;37;232;234m████████                \u001b[39m  0.125 \n",
      "2        010     0.3536 + i0.0000       0.00°   0.3536     \u001b[38;2;246;54;26m████████                \u001b[39m  0.125 \n",
      "3        011    -0.3536 + i0.0000     180.00°   0.3536     \u001b[38;2;37;232;234m████████                \u001b[39m  0.125 \n",
      "4        100     0.3536 + i0.0000       0.00°   0.3536     \u001b[38;2;246;54;26m████████                \u001b[39m  0.125 \n",
      "5        101    -0.3536 + i0.0000     180.00°   0.3536     \u001b[38;2;37;232;234m████████                \u001b[39m  0.125 \n",
      "6        110     0.3536 + i0.0000       0.00°   0.3536     \u001b[38;2;246;54;26m████████                \u001b[39m  0.125 \n",
      "7        111     0.3536 + i0.0000       0.00°   0.3536     \u001b[38;2;246;54;26m████████                \u001b[39m  0.125 \n",
      "\n"
     ]
    }
   ],
   "source": [
    "print_state_table(qc.run())"
   ]
  },
  {
   "cell_type": "markdown",
   "id": "6613d149-bfe3-4ecf-b97e-f2a6b4a362c4",
   "metadata": {
    "jp-MarkdownHeadingCollapsed": true
   },
   "source": [
    "### Bit oracle (section 5.2.3)"
   ]
  },
  {
   "cell_type": "markdown",
   "id": "7986ca27-7816-4943-8cce-8db95d6cb56d",
   "metadata": {},
   "source": [
    "Listing 5.4 Function to create a bit oracle quantum circuit for a given number of qubits `n` and a set of good outcomes `items`"
   ]
  },
  {
   "cell_type": "code",
   "execution_count": 29,
   "id": "956dd3d3",
   "metadata": {
    "ExecuteTime": {
     "end_time": "2024-12-23T15:17:22.442258Z",
     "start_time": "2024-12-23T15:17:22.440095Z"
    }
   },
   "outputs": [],
   "source": [
    "def bit_oracle_match(n, items):\n",
    "    q = QuantumRegister(n)\n",
    "    a = QuantumRegister(1)\n",
    "    qc = QuantumCircuit(q, a)\n",
    "\n",
    "    for m in items:\n",
    "        for i in range(n):\n",
    "            if is_bit_not_set(m, i):\n",
    "                qc.x(q[i])\n",
    "\n",
    "        qc.mcx([q[i] for i in range(len(q))], a[0])\n",
    "\n",
    "        for i in range(n):\n",
    "            if is_bit_not_set(m, i):\n",
    "                qc.x(q[i])\n",
    "    return qc"
   ]
  },
  {
   "cell_type": "markdown",
   "id": "6432bd51-3781-4891-bb77-99ebcc43a423",
   "metadata": {},
   "source": [
    "Let's create the bit oracle circuit and apply it to our familiar example, where a state with $n = 3$ qubits is prepared using Hadamard gates and the good item is 3."
   ]
  },
  {
   "cell_type": "code",
   "execution_count": 30,
   "id": "a5e42a14-6eb3-445a-ac9c-270f7f79e0cb",
   "metadata": {
    "ExecuteTime": {
     "end_time": "2024-12-23T15:17:22.462906Z",
     "start_time": "2024-12-23T15:17:22.460059Z"
    }
   },
   "outputs": [],
   "source": [
    "n = 3\n",
    "items = [3]\n",
    "\n",
    "oracle_circuit = bit_oracle_match(n, items)\n",
    "\n",
    "q = QuantumRegister(n)\n",
    "a = QuantumRegister(1)\n",
    "qc = QuantumCircuit(q, a)\n",
    "\n",
    "for i in range(n):\n",
    "    qc.h(q[i])\n",
    "\n",
    "qc.append(oracle_circuit, QuantumRegister(n + 1)) # <1>"
   ]
  },
  {
   "cell_type": "code",
   "execution_count": 31,
   "id": "fb6e12f2-a953-4404-afa4-9942bacc1a80",
   "metadata": {
    "ExecuteTime": {
     "end_time": "2024-12-23T15:17:22.478234Z",
     "start_time": "2024-12-23T15:17:22.475732Z"
    }
   },
   "outputs": [
    {
     "name": "stdout",
     "output_type": "stream",
     "text": [
      "                     \n",
      "q0_0: ───────■───────\n",
      "             │       \n",
      "q0_1: ───────■───────\n",
      "      ┌───┐  │  ┌───┐\n",
      "q0_2: ┤ X ├──■──┤ X ├\n",
      "      └───┘┌─┴─┐└───┘\n",
      "  q1: ─────┤ X ├─────\n",
      "           └───┘     \n"
     ]
    }
   ],
   "source": [
    "print_circuit(oracle_circuit)"
   ]
  },
  {
   "cell_type": "code",
   "execution_count": 32,
   "id": "458dcdfd-bf70-405a-a13d-32f8c999557a",
   "metadata": {
    "ExecuteTime": {
     "end_time": "2024-12-23T15:17:22.486663Z",
     "start_time": "2024-12-23T15:17:22.483310Z"
    }
   },
   "outputs": [
    {
     "name": "stdout",
     "output_type": "stream",
     "text": [
      "\n",
      "Outcome  Binary  Amplitude           Direction  Magnitude  Amplitude Bar             Probability\n",
      "------------------------------------------------------------------------------------------------\n",
      "0        0000    0.3536 + i0.0000       0.00°   0.3536     \u001b[38;2;246;54;26m████████                \u001b[39m  0.125 \n",
      "1        0001    0.3536 + i0.0000       0.00°   0.3536     \u001b[38;2;246;54;26m████████                \u001b[39m  0.125 \n",
      "2        0010    0.3536 + i0.0000       0.00°   0.3536     \u001b[38;2;246;54;26m████████                \u001b[39m  0.125 \n",
      "3        0011    0.0000 + i0.0000               0.0        \u001b[38;2;246;54;26m                        \u001b[39m  0.0   \n",
      "4        0100    0.3536 + i0.0000       0.00°   0.3536     \u001b[38;2;246;54;26m████████                \u001b[39m  0.125 \n",
      "5        0101    0.3536 + i0.0000       0.00°   0.3536     \u001b[38;2;246;54;26m████████                \u001b[39m  0.125 \n",
      "6        0110    0.3536 + i0.0000       0.00°   0.3536     \u001b[38;2;246;54;26m████████                \u001b[39m  0.125 \n",
      "7        0111    0.3536 + i0.0000       0.00°   0.3536     \u001b[38;2;246;54;26m████████                \u001b[39m  0.125 \n",
      "8        1000    0.0000 + i0.0000               0.0        \u001b[38;2;246;54;26m                        \u001b[39m  0.0   \n",
      "9        1001    0.0000 + i0.0000               0.0        \u001b[38;2;246;54;26m                        \u001b[39m  0.0   \n",
      "10       1010    0.0000 + i0.0000               0.0        \u001b[38;2;246;54;26m                        \u001b[39m  0.0   \n",
      "11       1011    0.3536 + i0.0000       0.00°   0.3536     \u001b[38;2;246;54;26m████████                \u001b[39m  0.125 \n",
      "12       1100    0.0000 + i0.0000               0.0        \u001b[38;2;246;54;26m                        \u001b[39m  0.0   \n",
      "13       1101    0.0000 + i0.0000               0.0        \u001b[38;2;246;54;26m                        \u001b[39m  0.0   \n",
      "14       1110    0.0000 + i0.0000               0.0        \u001b[38;2;246;54;26m                        \u001b[39m  0.0   \n",
      "15       1111    0.0000 + i0.0000               0.0        \u001b[38;2;246;54;26m                        \u001b[39m  0.0   \n",
      "\n"
     ]
    }
   ],
   "source": [
    "print_state_table(qc.run())"
   ]
  },
  {
   "cell_type": "markdown",
   "id": "d814b47b-7935-4656-b387-0704e3d8fc69",
   "metadata": {},
   "source": [
    "Next, let's create a bit oracle for the same state with three good outcomes:"
   ]
  },
  {
   "cell_type": "code",
   "execution_count": 33,
   "id": "59214499-6456-4c5a-9907-86e8b07f9c12",
   "metadata": {
    "ExecuteTime": {
     "end_time": "2024-12-23T15:17:22.503299Z",
     "start_time": "2024-12-23T15:17:22.501393Z"
    }
   },
   "outputs": [],
   "source": [
    "n = 3\n",
    "items = [1, 3, 5]\n",
    "\n",
    "oracle_circuit = bit_oracle_match(n, items)\n",
    "\n",
    "q = QuantumRegister(n)\n",
    "a = QuantumRegister(1)\n",
    "qc = QuantumCircuit(q, a)\n",
    "\n",
    "for i in range(n):\n",
    "    qc.h(q[i])\n",
    "\n",
    "qc.append(oracle_circuit, QuantumRegister(n+1))"
   ]
  },
  {
   "cell_type": "code",
   "execution_count": 34,
   "id": "dcdf07cc-abfe-4b9c-8154-1ed59337a65d",
   "metadata": {
    "ExecuteTime": {
     "end_time": "2024-12-23T15:17:22.519167Z",
     "start_time": "2024-12-23T15:17:22.515923Z"
    }
   },
   "outputs": [
    {
     "name": "stdout",
     "output_type": "stream",
     "text": [
      "                                              \n",
      "q2_0: ───────■──────────────■─────────■───────\n",
      "      ┌───┐  │  ┌───┐       │  ┌───┐  │  ┌───┐\n",
      "q2_1: ┤ X ├──■──┤ X ├───────■──┤ X ├──■──┤ X ├\n",
      "      ├───┤  │  ├───┤┌───┐  │  ├───┤  │  └───┘\n",
      "q2_2: ┤ X ├──■──┤ X ├┤ X ├──■──┤ X ├──■───────\n",
      "      └───┘┌─┴─┐└───┘└───┘┌─┴─┐└───┘┌─┴─┐     \n",
      "  q3: ─────┤ X ├──────────┤ X ├─────┤ X ├─────\n",
      "           └───┘          └───┘     └───┘     \n"
     ]
    }
   ],
   "source": [
    "print_circuit(oracle_circuit)"
   ]
  },
  {
   "cell_type": "code",
   "execution_count": 35,
   "id": "6635a540-2a32-4bce-bdc1-206509eedad4",
   "metadata": {
    "ExecuteTime": {
     "end_time": "2024-12-23T15:17:22.535959Z",
     "start_time": "2024-12-23T15:17:22.533056Z"
    }
   },
   "outputs": [
    {
     "name": "stdout",
     "output_type": "stream",
     "text": [
      "\n",
      "Outcome  Binary  Amplitude           Direction  Magnitude  Amplitude Bar             Probability\n",
      "------------------------------------------------------------------------------------------------\n",
      "0        0000    0.3536 + i0.0000       0.00°   0.3536     \u001b[38;2;246;54;26m████████                \u001b[39m  0.125 \n",
      "1        0001    0.0000 + i0.0000               0.0        \u001b[38;2;246;54;26m                        \u001b[39m  0.0   \n",
      "2        0010    0.3536 + i0.0000       0.00°   0.3536     \u001b[38;2;246;54;26m████████                \u001b[39m  0.125 \n",
      "3        0011    0.0000 + i0.0000               0.0        \u001b[38;2;246;54;26m                        \u001b[39m  0.0   \n",
      "4        0100    0.3536 + i0.0000       0.00°   0.3536     \u001b[38;2;246;54;26m████████                \u001b[39m  0.125 \n",
      "5        0101    0.0000 + i0.0000               0.0        \u001b[38;2;246;54;26m                        \u001b[39m  0.0   \n",
      "6        0110    0.3536 + i0.0000       0.00°   0.3536     \u001b[38;2;246;54;26m████████                \u001b[39m  0.125 \n",
      "7        0111    0.3536 + i0.0000       0.00°   0.3536     \u001b[38;2;246;54;26m████████                \u001b[39m  0.125 \n",
      "8        1000    0.0000 + i0.0000               0.0        \u001b[38;2;246;54;26m                        \u001b[39m  0.0   \n",
      "9        1001    0.3536 + i0.0000       0.00°   0.3536     \u001b[38;2;246;54;26m████████                \u001b[39m  0.125 \n",
      "10       1010    0.0000 + i0.0000               0.0        \u001b[38;2;246;54;26m                        \u001b[39m  0.0   \n",
      "11       1011    0.3536 + i0.0000       0.00°   0.3536     \u001b[38;2;246;54;26m████████                \u001b[39m  0.125 \n",
      "12       1100    0.0000 + i0.0000               0.0        \u001b[38;2;246;54;26m                        \u001b[39m  0.0   \n",
      "13       1101    0.3536 + i0.0000       0.00°   0.3536     \u001b[38;2;246;54;26m████████                \u001b[39m  0.125 \n",
      "14       1110    0.0000 + i0.0000               0.0        \u001b[38;2;246;54;26m                        \u001b[39m  0.0   \n",
      "15       1111    0.0000 + i0.0000               0.0        \u001b[38;2;246;54;26m                        \u001b[39m  0.0   \n",
      "\n"
     ]
    }
   ],
   "source": [
    "print_state_table(qc.run())"
   ]
  },
  {
   "cell_type": "markdown",
   "id": "bf528e66-2a70-4b5a-b22d-2a4f0028680d",
   "metadata": {
    "jp-MarkdownHeadingCollapsed": true
   },
   "source": [
    "### From a phase oracle to a bit oracle (5.3.1)"
   ]
  },
  {
   "cell_type": "markdown",
   "id": "ac8f47a9-9569-494d-83d4-8401e583131b",
   "metadata": {},
   "source": [
    "If we have a phase oracle circuit defined using the `QuantumCircuit` class in our simulator, we can use it to create a bit oracle circuit using the function below:"
   ]
  },
  {
   "cell_type": "code",
   "execution_count": 36,
   "id": "c7911ba8",
   "metadata": {
    "ExecuteTime": {
     "end_time": "2024-12-23T15:17:22.561008Z",
     "start_time": "2024-12-23T15:17:22.558826Z"
    }
   },
   "outputs": [],
   "source": [
    "def phase_to_bit_oracle(oracle_circuit):\n",
    "    n = sum(oracle_circuit.regs) # Get the number of qubits used for the phase oracle\n",
    "    q = QuantumRegister(n)\n",
    "    a = QuantumRegister(1)\n",
    "    qc = QuantumCircuit(q, a)\n",
    "    qc.h(a[0])\n",
    "    qc.c_append(oracle_circuit, a[0], q) # Apply the phase oracle circuit controlled on the ancilla qubit\n",
    "    qc.h(a[0])\n",
    "\n",
    "    return qc"
   ]
  },
  {
   "cell_type": "markdown",
   "id": "c8fbbb6a-6c8f-41ae-877f-54a90cb98b14",
   "metadata": {},
   "source": [
    "For example, let's create the phase oracle circuit for $n = 3$ qubits and good outcomes 1, 3, and 5:"
   ]
  },
  {
   "cell_type": "code",
   "execution_count": 37,
   "id": "0a45a1b6-a475-4c1f-94a6-6e72df0569e3",
   "metadata": {
    "ExecuteTime": {
     "end_time": "2024-12-23T15:17:22.578506Z",
     "start_time": "2024-12-23T15:17:22.576718Z"
    }
   },
   "outputs": [],
   "source": [
    "n = 3\n",
    "items = [1, 3, 5]\n",
    "oracle_circuit = phase_oracle_match(n, items)"
   ]
  },
  {
   "cell_type": "code",
   "execution_count": 38,
   "id": "41cfdf35",
   "metadata": {
    "ExecuteTime": {
     "end_time": "2024-12-23T15:17:22.592303Z",
     "start_time": "2024-12-23T15:17:22.589317Z"
    }
   },
   "outputs": [
    {
     "name": "stdout",
     "output_type": "stream",
     "text": [
      "                                                   \n",
      "q_0: ──────■────────────────■───────────■──────────\n",
      "     ┌───┐ │     ┌───┐      │     ┌───┐ │     ┌───┐\n",
      "q_1: ┤ X ├─■─────┤ X ├──────■─────┤ X ├─■─────┤ X ├\n",
      "     ├───┤ │P(π) ├───┤┌───┐ │P(π) ├───┤ │P(π) └───┘\n",
      "q_2: ┤ X ├─■─────┤ X ├┤ X ├─■─────┤ X ├─■──────────\n",
      "     └───┘       └───┘└───┘       └───┘            \n"
     ]
    }
   ],
   "source": [
    "print_circuit(oracle_circuit)"
   ]
  },
  {
   "cell_type": "markdown",
   "id": "0607b7fe-5383-4369-a543-e5acbc9438df",
   "metadata": {},
   "source": [
    "Let's use the `generate_state` function to generate a random state with $n = 3$ qubits and an ancilla qubit:"
   ]
  },
  {
   "cell_type": "code",
   "execution_count": 39,
   "id": "f77f0aa3",
   "metadata": {
    "ExecuteTime": {
     "end_time": "2024-12-23T15:17:22.612298Z",
     "start_time": "2024-12-23T15:17:22.610561Z"
    }
   },
   "outputs": [],
   "source": [
    "state = generate_state(n, seed=777) + [0 for _ in range(2**n)]"
   ]
  },
  {
   "cell_type": "code",
   "execution_count": 40,
   "id": "7d8284aa-efcf-435b-a80b-58c888223597",
   "metadata": {
    "ExecuteTime": {
     "end_time": "2024-12-23T15:17:22.625803Z",
     "start_time": "2024-12-23T15:17:22.622836Z"
    }
   },
   "outputs": [
    {
     "name": "stdout",
     "output_type": "stream",
     "text": [
      "\n",
      "Outcome  Binary  Amplitude           Direction  Magnitude  Amplitude Bar             Probability\n",
      "------------------------------------------------------------------------------------------------\n",
      "0        0000   -0.1673 - i0.1616    -135.99°   0.2327     \u001b[38;2;40;150;255m█████                   \u001b[39m  0.0541\n",
      "1        0001   -0.2493 + i0.2074     140.24°   0.3243     \u001b[38;2;45;174;95m███████                 \u001b[39m  0.1052\n",
      "2        0010   -0.0715 + i0.2862     104.30°   0.295      \u001b[38;2;109;166;4m███████                 \u001b[39m  0.087 \n",
      "3        0011    0.2521 - i0.0108      -2.45°   0.2524     \u001b[38;2;247;53;32m██████                  \u001b[39m  0.0637\n",
      "4        0100    0.2543 - i0.1212     -25.48°   0.2817     \u001b[38;2;255;112;109m██████                  \u001b[39m  0.0793\n",
      "5        0101   -0.1503 - i0.3937    -110.89°   0.4214     \u001b[38;2;99;131;255m██████████              \u001b[39m  0.1776\n",
      "6        0110    0.3562 - i0.3016     -40.26°   0.4667     \u001b[38;2;255;151;163m███████████             \u001b[39m  0.2178\n",
      "7        0111    0.3692 + i0.2811      37.28°   0.464      \u001b[38;2;255;156;0m███████████             \u001b[39m  0.2153\n",
      "8        1000    0.0000 + i0.0000               0          \u001b[38;2;246;54;26m                        \u001b[39m  0     \n",
      "9        1001    0.0000 + i0.0000               0          \u001b[38;2;246;54;26m                        \u001b[39m  0     \n",
      "10       1010    0.0000 + i0.0000               0          \u001b[38;2;246;54;26m                        \u001b[39m  0     \n",
      "11       1011    0.0000 + i0.0000               0          \u001b[38;2;246;54;26m                        \u001b[39m  0     \n",
      "12       1100    0.0000 + i0.0000               0          \u001b[38;2;246;54;26m                        \u001b[39m  0     \n",
      "13       1101    0.0000 + i0.0000               0          \u001b[38;2;246;54;26m                        \u001b[39m  0     \n",
      "14       1110    0.0000 + i0.0000               0          \u001b[38;2;246;54;26m                        \u001b[39m  0     \n",
      "15       1111    0.0000 + i0.0000               0          \u001b[38;2;246;54;26m                        \u001b[39m  0     \n",
      "\n"
     ]
    }
   ],
   "source": [
    "print_state_table(state)"
   ]
  },
  {
   "cell_type": "markdown",
   "id": "8c151c0a-778c-4cbf-8917-011fb5a63043",
   "metadata": {},
   "source": [
    "**Note:** In this chapter, we add the method `initialize` to the `QuantumCircuit` class in sim_circuit.py, which allows us to write the state in a `QuantumCircuit` class instance."
   ]
  },
  {
   "cell_type": "code",
   "execution_count": 41,
   "id": "df670bf3-5fe0-48f9-a9c7-31398759c2e8",
   "metadata": {
    "ExecuteTime": {
     "end_time": "2024-12-23T15:17:22.638551Z",
     "start_time": "2024-12-23T15:17:22.636568Z"
    }
   },
   "outputs": [],
   "source": [
    "q = QuantumRegister(n)\n",
    "a = QuantumRegister(1)\n",
    "\n",
    "qc = QuantumCircuit(q, a)\n",
    "qc.initialize(state.copy())\n",
    "\n",
    "qc.append(phase_to_bit_oracle(oracle_circuit), QuantumRegister(n+1))"
   ]
  },
  {
   "cell_type": "code",
   "execution_count": 42,
   "id": "b22d4d55-1ab5-41ea-9654-31c34b72e011",
   "metadata": {
    "ExecuteTime": {
     "end_time": "2024-12-23T15:17:22.660092Z",
     "start_time": "2024-12-23T15:17:22.657138Z"
    }
   },
   "outputs": [
    {
     "name": "stdout",
     "output_type": "stream",
     "text": [
      "\n",
      "Outcome  Binary  Amplitude           Direction  Magnitude  Amplitude Bar             Probability\n",
      "------------------------------------------------------------------------------------------------\n",
      "0        0000   -0.1673 - i0.1616    -135.99°   0.2327     \u001b[38;2;40;150;255m█████                   \u001b[39m  0.0541\n",
      "1        0001    0.0000 + i0.0000               0.0        \u001b[38;2;77;128;255m                        \u001b[39m  0.0   \n",
      "2        0010   -0.0715 + i0.2862     104.30°   0.295      \u001b[38;2;109;166;4m███████                 \u001b[39m  0.087 \n",
      "3        0011    0.0000 + i0.0000               0.0        \u001b[38;2;152;184;0m                        \u001b[39m  0.0   \n",
      "4        0100    0.2543 - i0.1212     -25.48°   0.2817     \u001b[38;2;255;112;109m██████                  \u001b[39m  0.0793\n",
      "5        0101    0.0000 + i0.0000               0.0        \u001b[38;2;246;54;26m                        \u001b[39m  0.0   \n",
      "6        0110    0.3562 - i0.3016     -40.26°   0.4667     \u001b[38;2;255;151;163m███████████             \u001b[39m  0.2178\n",
      "7        0111    0.3692 + i0.2811      37.28°   0.464      \u001b[38;2;255;156;0m███████████             \u001b[39m  0.2153\n",
      "8        1000    0.0000 + i0.0000               0.0        \u001b[38;2;246;54;26m                        \u001b[39m  0.0   \n",
      "9        1001   -0.2493 + i0.2074     140.24°   0.3243     \u001b[38;2;45;174;95m███████                 \u001b[39m  0.1052\n",
      "10       1010    0.0000 + i0.0000               0.0        \u001b[38;2;246;54;26m                        \u001b[39m  0.0   \n",
      "11       1011    0.2521 - i0.0108      -2.45°   0.2524     \u001b[38;2;247;53;32m██████                  \u001b[39m  0.0637\n",
      "12       1100    0.0000 + i0.0000               0.0        \u001b[38;2;246;54;26m                        \u001b[39m  0.0   \n",
      "13       1101   -0.1503 - i0.3937    -110.89°   0.4214     \u001b[38;2;99;131;255m██████████              \u001b[39m  0.1776\n",
      "14       1110    0.0000 + i0.0000               0.0        \u001b[38;2;246;54;26m                        \u001b[39m  0.0   \n",
      "15       1111    0.0000 + i0.0000               0.0        \u001b[38;2;246;54;26m                        \u001b[39m  0.0   \n",
      "\n"
     ]
    }
   ],
   "source": [
    "print_state_table(qc.run())"
   ]
  },
  {
   "cell_type": "markdown",
   "id": "d94a4bd7-e439-4b38-9142-b11295dc3a0d",
   "metadata": {
    "jp-MarkdownHeadingCollapsed": true
   },
   "source": [
    "### From a bit oracle to a phase oracle (section 5.3.2)"
   ]
  },
  {
   "cell_type": "markdown",
   "id": "e33268aa-4834-4802-bb73-11910e338fcb",
   "metadata": {},
   "source": [
    "We can use the following function to create a circuit which will act as a phase oracle, where the parameter `oracle_circuit` is a bit oracle:"
   ]
  },
  {
   "cell_type": "code",
   "execution_count": 43,
   "id": "8a29f35f",
   "metadata": {
    "ExecuteTime": {
     "end_time": "2024-12-23T15:17:22.677816Z",
     "start_time": "2024-12-23T15:17:22.675895Z"
    }
   },
   "outputs": [],
   "source": [
    "def bit_to_phase_oracle(oracle_circuit):\n",
    "    n = sum(oracle_circuit.regs)\n",
    "    q = QuantumRegister(n)\n",
    "    qc = QuantumCircuit(q)\n",
    "    qc.append(oracle_circuit, q)\n",
    "    qc.p(pi, q[len(q)-1])\n",
    "    qc.append(oracle_circuit, q)\n",
    "\n",
    "    return qc"
   ]
  },
  {
   "cell_type": "markdown",
   "id": "a4cfb6fd-90f4-4b97-9e27-7379d4544ba1",
   "metadata": {},
   "source": [
    "Let's create the bit oracle circuit for our example problem where $n = 3$ qubits and good outcomes are 1, 3, and 5:"
   ]
  },
  {
   "cell_type": "code",
   "execution_count": 44,
   "id": "8e0193ac-d916-4ed9-8814-07fb20fb3ff8",
   "metadata": {
    "ExecuteTime": {
     "end_time": "2024-12-23T15:17:22.706581Z",
     "start_time": "2024-12-23T15:17:22.704047Z"
    }
   },
   "outputs": [],
   "source": [
    "n = 3\n",
    "items = [1, 3, 5]\n",
    "oracle_circuit = bit_oracle_match(n, items)"
   ]
  },
  {
   "cell_type": "code",
   "execution_count": 45,
   "id": "bab647a0-fc35-4634-913f-100d65ab368f",
   "metadata": {
    "ExecuteTime": {
     "end_time": "2024-12-23T15:17:22.719919Z",
     "start_time": "2024-12-23T15:17:22.716804Z"
    }
   },
   "outputs": [
    {
     "name": "stdout",
     "output_type": "stream",
     "text": [
      "                                              \n",
      "q4_0: ───────■──────────────■─────────■───────\n",
      "      ┌───┐  │  ┌───┐       │  ┌───┐  │  ┌───┐\n",
      "q4_1: ┤ X ├──■──┤ X ├───────■──┤ X ├──■──┤ X ├\n",
      "      ├───┤  │  ├───┤┌───┐  │  ├───┤  │  └───┘\n",
      "q4_2: ┤ X ├──■──┤ X ├┤ X ├──■──┤ X ├──■───────\n",
      "      └───┘┌─┴─┐└───┘└───┘┌─┴─┐└───┘┌─┴─┐     \n",
      "  q5: ─────┤ X ├──────────┤ X ├─────┤ X ├─────\n",
      "           └───┘          └───┘     └───┘     \n"
     ]
    }
   ],
   "source": [
    "print_circuit(oracle_circuit)"
   ]
  },
  {
   "cell_type": "markdown",
   "id": "89b03de9-999a-4f68-b1a0-7d832b81f180",
   "metadata": {},
   "source": [
    "Let's generate a random state and use the bit oracle above to create a phase oracle:"
   ]
  },
  {
   "cell_type": "code",
   "execution_count": 46,
   "id": "0a4058fa",
   "metadata": {
    "ExecuteTime": {
     "end_time": "2024-12-23T15:17:22.740201Z",
     "start_time": "2024-12-23T15:17:22.737435Z"
    }
   },
   "outputs": [],
   "source": [
    "n = 3\n",
    "items = [1, 3, 5]\n",
    "oracle_circuit = bit_oracle_match(n, items)\n",
    "\n",
    "state = generate_state(n, seed=777) + [0 for _ in range(2**n)]\n",
    "\n",
    "q = QuantumRegister(n)\n",
    "a = QuantumRegister(1)\n",
    "\n",
    "qc = QuantumCircuit(q, a)\n",
    "qc.initialize(state.copy())\n",
    "\n",
    "qc.append(bit_to_phase_oracle(oracle_circuit), QuantumRegister(n+1))"
   ]
  },
  {
   "cell_type": "code",
   "execution_count": 47,
   "id": "61b2d789-4a69-404f-a3ba-1468dce00d4c",
   "metadata": {
    "ExecuteTime": {
     "end_time": "2024-12-23T15:17:22.756702Z",
     "start_time": "2024-12-23T15:17:22.753749Z"
    }
   },
   "outputs": [
    {
     "name": "stdout",
     "output_type": "stream",
     "text": [
      "\n",
      "Outcome  Binary  Amplitude           Direction  Magnitude  Amplitude Bar             Probability\n",
      "------------------------------------------------------------------------------------------------\n",
      "0        0000   -0.1673 - i0.1616    -135.99°   0.2327     \u001b[38;2;40;150;255m█████                   \u001b[39m  0.0541\n",
      "1        0001    0.2493 - i0.2074     -39.76°   0.3243     \u001b[38;2;255;151;163m███████                 \u001b[39m  0.1052\n",
      "2        0010   -0.0715 + i0.2862     104.30°   0.295      \u001b[38;2;109;166;4m███████                 \u001b[39m  0.087 \n",
      "3        0011   -0.2521 + i0.0108     177.55°   0.2524     \u001b[38;2;37;232;227m██████                  \u001b[39m  0.0637\n",
      "4        0100    0.2543 - i0.1212     -25.48°   0.2817     \u001b[38;2;255;112;109m██████                  \u001b[39m  0.0793\n",
      "5        0101    0.1503 + i0.3937      69.11°   0.4214     \u001b[38;2;221;208;0m██████████              \u001b[39m  0.1776\n",
      "6        0110    0.3562 - i0.3016     -40.26°   0.4667     \u001b[38;2;255;151;163m███████████             \u001b[39m  0.2178\n",
      "7        0111    0.3692 + i0.2811      37.28°   0.464      \u001b[38;2;255;156;0m███████████             \u001b[39m  0.2153\n",
      "8        1000    0.0000 + i0.0000               0.0        \u001b[38;2;246;54;26m                        \u001b[39m  0.0   \n",
      "9        1001    0.0000 + i0.0000               0.0        \u001b[38;2;246;54;26m                        \u001b[39m  0.0   \n",
      "10       1010    0.0000 + i0.0000               0.0        \u001b[38;2;246;54;26m                        \u001b[39m  0.0   \n",
      "11       1011    0.0000 + i0.0000               0.0        \u001b[38;2;246;54;26m                        \u001b[39m  0.0   \n",
      "12       1100    0.0000 + i0.0000               0.0        \u001b[38;2;246;54;26m                        \u001b[39m  0.0   \n",
      "13       1101    0.0000 + i0.0000               0.0        \u001b[38;2;246;54;26m                        \u001b[39m  0.0   \n",
      "14       1110    0.0000 + i0.0000               0.0        \u001b[38;2;246;54;26m                        \u001b[39m  0.0   \n",
      "15       1111    0.0000 + i0.0000               0.0        \u001b[38;2;246;54;26m                        \u001b[39m  0.0   \n",
      "\n"
     ]
    }
   ],
   "source": [
    "print_state_table(qc.run())"
   ]
  },
  {
   "cell_type": "markdown",
   "id": "0f819fd8-6081-47b1-88ac-a2080e30f80f",
   "metadata": {},
   "source": [
    "### Fibonacci numbers and the golden ratio with good outcomes (section 5.4)"
   ]
  },
  {
   "cell_type": "markdown",
   "id": "ad15a90b-1792-4b7c-9789-e13e48258a5d",
   "metadata": {},
   "source": [
    "We can compute the $n^{th}$ number in the Fibonacci sequence (denoted by $F_n$) using the recursive Python function below:"
   ]
  },
  {
   "cell_type": "code",
   "execution_count": 48,
   "id": "244ab812-2f2b-41c2-b16e-b1aacacb3782",
   "metadata": {
    "ExecuteTime": {
     "end_time": "2024-12-23T15:17:22.763935Z",
     "start_time": "2024-12-23T15:17:22.761923Z"
    }
   },
   "outputs": [],
   "source": [
    "def recursive_fib(n):\n",
    "    if n <= 1:\n",
    "        return n\n",
    "    else:\n",
    "        return recursive_fib(n - 1) + recursive_fib(n - 2)"
   ]
  },
  {
   "cell_type": "markdown",
   "id": "c3292c6a-42d3-4227-8d7d-e570f291b85d",
   "metadata": {},
   "source": [
    "We can use the recursive function to create a list of the first 10 Fibonacci numbers:"
   ]
  },
  {
   "cell_type": "code",
   "execution_count": 49,
   "id": "32563f55-aa82-4c19-8fec-8b928ad744a6",
   "metadata": {
    "ExecuteTime": {
     "end_time": "2024-12-23T15:17:22.778705Z",
     "start_time": "2024-12-23T15:17:22.774961Z"
    }
   },
   "outputs": [
    {
     "data": {
      "text/plain": [
       "[0, 1, 1, 2, 3, 5, 8, 13, 21, 34]"
      ]
     },
     "execution_count": 49,
     "metadata": {},
     "output_type": "execute_result"
    }
   ],
   "source": [
    "[recursive_fib(n) for n in range(10)]"
   ]
  },
  {
   "cell_type": "markdown",
   "id": "6e253af7-c83e-4660-a1f5-5fa44e39576e",
   "metadata": {},
   "source": [
    "We can create a circuit that identifies the good outcomes and makes the bad outcomes impossible. The function `fib_circuit` creates this circuit for a given number of qubits $n > 0$:"
   ]
  },
  {
   "cell_type": "code",
   "execution_count": 50,
   "id": "4656cadb",
   "metadata": {
    "ExecuteTime": {
     "end_time": "2024-12-23T15:17:22.792479Z",
     "start_time": "2024-12-23T15:17:22.790444Z"
    }
   },
   "outputs": [],
   "source": [
    "from math import asin\n",
    "\n",
    "def fib_circuit(n):\n",
    "    theta = 2*asin((sqrt(5) - 1)/2)\n",
    "\n",
    "    q = QuantumRegister(n)\n",
    "    qc = QuantumCircuit(q)\n",
    "\n",
    "    for i in range(n):\n",
    "        qc.ry(theta, q[i])\n",
    "\n",
    "    for i in range(n - 1):\n",
    "        qc.cry(-theta, q[i], q[i + 1])\n",
    "\n",
    "    return qc"
   ]
  },
  {
   "cell_type": "markdown",
   "id": "a860e029-f0bd-4514-98f8-c4d33be41ad3",
   "metadata": {},
   "source": [
    "Let's create the circuit for one qubit:"
   ]
  },
  {
   "cell_type": "code",
   "execution_count": 51,
   "id": "db819d1e-6771-4c18-9225-ad31670c7cca",
   "metadata": {
    "ExecuteTime": {
     "end_time": "2024-12-23T15:17:22.817023Z",
     "start_time": "2024-12-23T15:17:22.815312Z"
    }
   },
   "outputs": [],
   "source": [
    "qc = fib_circuit(1)"
   ]
  },
  {
   "cell_type": "code",
   "execution_count": 52,
   "id": "3c8af13f-1be5-48fb-8418-60fd9f60b598",
   "metadata": {
    "ExecuteTime": {
     "end_time": "2024-12-23T15:17:22.836168Z",
     "start_time": "2024-12-23T15:17:22.834068Z"
    }
   },
   "outputs": [
    {
     "name": "stdout",
     "output_type": "stream",
     "text": [
      "\n",
      "Outcome  Binary  Amplitude           Direction  Magnitude  Amplitude Bar             Probability\n",
      "------------------------------------------------------------------------------------------------\n",
      "0        0       0.7862 + i0.0000       0.00°   0.7862     \u001b[38;2;246;54;26m██████████████████      \u001b[39m  0.618 \n",
      "1        1       0.6180 + i0.0000       0.00°   0.618      \u001b[38;2;246;54;26m██████████████          \u001b[39m  0.382 \n",
      "\n"
     ]
    }
   ],
   "source": [
    "print_state_table(qc.run())"
   ]
  },
  {
   "cell_type": "markdown",
   "id": "677b0034-f187-4413-a77c-e018cedb197f",
   "metadata": {},
   "source": [
    "For a given number of qubits $n$ we can see that:\n",
    "\n",
    "* There are $F_{n+1}$ good outcomes with the first binary digit 0 (top half of the state table), and the amplitudes corresponding to these outcomes are all equal.\n",
    "* There are $F_n$ good outcomes with the first binary digit 1 (bottom half of the state table), and the amplitudes corresponding to these outcomes are all equal."
   ]
  },
  {
   "cell_type": "markdown",
   "id": "260784dd-004e-421d-b5bb-355ade639a33",
   "metadata": {},
   "source": [
    "We can check that the ratio of the probability of a good outcome that starts with 0 and that of a good outcome that starts with 1 is the golden ratio:"
   ]
  },
  {
   "cell_type": "code",
   "execution_count": 53,
   "id": "d53811dc-a37b-4d3f-97cd-06c612bfe001",
   "metadata": {
    "ExecuteTime": {
     "end_time": "2024-12-23T15:17:22.853958Z",
     "start_time": "2024-12-23T15:17:22.851796Z"
    }
   },
   "outputs": [],
   "source": [
    "from util import is_close\n",
    "\n",
    "qc = fib_circuit(2)\n",
    "state = qc.run()\n",
    "\n",
    "assert is_close(abs(state[0])**2/abs(state[2])**2, (1+sqrt(5))/2) # <1>\n",
    "assert is_close(abs(state[1])**2/abs(state[2])**2, (1+sqrt(5))/2) # <2>"
   ]
  },
  {
   "cell_type": "code",
   "execution_count": 54,
   "id": "fac701f6-6cf9-4abe-bb52-36c007257942",
   "metadata": {
    "ExecuteTime": {
     "end_time": "2024-12-23T15:17:22.871261Z",
     "start_time": "2024-12-23T15:17:22.868707Z"
    }
   },
   "outputs": [
    {
     "name": "stdout",
     "output_type": "stream",
     "text": [
      "\n",
      "Outcome  Binary  Amplitude           Direction  Magnitude  Amplitude Bar             Probability\n",
      "------------------------------------------------------------------------------------------------\n",
      "0        00      0.6180 + i0.0000       0.00°   0.618      \u001b[38;2;246;54;26m██████████████          \u001b[39m  0.382 \n",
      "1        01      0.6180 + i0.0000       0.00°   0.618      \u001b[38;2;246;54;26m██████████████          \u001b[39m  0.382 \n",
      "2        10      0.4859 + i0.0000       0.00°   0.4859     \u001b[38;2;246;54;26m███████████             \u001b[39m  0.2361\n",
      "3        11      0.0000 + i0.0000               0.0        \u001b[38;2;37;232;234m                        \u001b[39m  0.0   \n",
      "\n"
     ]
    }
   ],
   "source": [
    "print_state_table(state)"
   ]
  },
  {
   "cell_type": "markdown",
   "id": "f56902b3-310c-47e4-b7ed-ae69ab553482",
   "metadata": {},
   "source": [
    "3 qubit example:"
   ]
  },
  {
   "cell_type": "code",
   "execution_count": 55,
   "id": "ad5d6138-915b-44da-bdab-d567d83f5092",
   "metadata": {
    "ExecuteTime": {
     "end_time": "2024-12-23T15:17:22.880475Z",
     "start_time": "2024-12-23T15:17:22.878015Z"
    }
   },
   "outputs": [
    {
     "name": "stdout",
     "output_type": "stream",
     "text": [
      "\n",
      "Outcome  Binary  Amplitude           Direction  Magnitude  Amplitude Bar             Probability\n",
      "------------------------------------------------------------------------------------------------\n",
      "0        000     0.4859 + i0.0000       0.00°   0.4859     \u001b[38;2;246;54;26m███████████             \u001b[39m  0.2361\n",
      "1        001     0.4859 + i0.0000       0.00°   0.4859     \u001b[38;2;246;54;26m███████████             \u001b[39m  0.2361\n",
      "2        010     0.4859 + i0.0000       0.00°   0.4859     \u001b[38;2;246;54;26m███████████             \u001b[39m  0.2361\n",
      "3        011     0.0000 + i0.0000               0.0        \u001b[38;2;37;232;234m                        \u001b[39m  0.0   \n",
      "4        100     0.3820 + i0.0000       0.00°   0.382      \u001b[38;2;246;54;26m█████████               \u001b[39m  0.1459\n",
      "5        101     0.3820 + i0.0000       0.00°   0.382      \u001b[38;2;246;54;26m█████████               \u001b[39m  0.1459\n",
      "6        110     0.0000 + i0.0000               0.0        \u001b[38;2;246;54;26m                        \u001b[39m  0.0   \n",
      "7        111     0.0000 + i0.0000               0.0        \u001b[38;2;37;232;234m                        \u001b[39m  0.0   \n",
      "\n"
     ]
    }
   ],
   "source": [
    "qc = fib_circuit(3)\n",
    "print_state_table(qc.run())"
   ]
  }
 ],
 "metadata": {
  "kernelspec": {
   "display_name": "Python 3 (ipykernel)",
   "language": "python",
   "name": "python3"
  },
  "language_info": {
   "codemirror_mode": {
    "name": "ipython",
    "version": 3
   },
   "file_extension": ".py",
   "mimetype": "text/x-python",
   "name": "python",
   "nbconvert_exporter": "python",
   "pygments_lexer": "ipython3",
   "version": "3.12.4"
  }
 },
 "nbformat": 4,
 "nbformat_minor": 5
}
