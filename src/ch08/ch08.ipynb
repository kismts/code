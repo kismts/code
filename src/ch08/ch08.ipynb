{
 "cells": [
  {
   "cell_type": "code",
   "execution_count": 1,
   "id": "cd7541a4",
   "metadata": {
    "ExecuteTime": {
     "end_time": "2023-11-02T00:21:47.451647Z",
     "start_time": "2023-11-02T00:21:46.058897Z"
    }
   },
   "outputs": [],
   "source": [
    "import sys;\n",
    "sys.path.insert(0, '..')"
   ]
  },
  {
   "cell_type": "markdown",
   "id": "fc59a292-28ed-4213-82d5-a3c1a80ba3e9",
   "metadata": {},
   "source": [
    "## Chapter 8 Code Snippets and Listings"
   ]
  },
  {
   "cell_type": "markdown",
   "id": "a16fd867-51e1-45d1-9b17-bd4d0d3dcdee",
   "metadata": {},
   "source": [
    "### Encoding a periodic signal using discrete sinc quantum states (section 8.2)"
   ]
  },
  {
   "cell_type": "markdown",
   "id": "9c2ed87e",
   "metadata": {},
   "source": [
    " Listing 8.1 Create a circuit for encoding a geometric sequence state"
   ]
  },
  {
   "cell_type": "code",
   "execution_count": 2,
   "id": "0711283a",
   "metadata": {
    "ExecuteTime": {
     "end_time": "2023-11-02T00:21:47.458595Z",
     "start_time": "2023-11-02T00:21:47.454171Z"
    }
   },
   "outputs": [],
   "source": [
    "from sim_circuit import QuantumRegister, QuantumCircuit\n",
    "\n",
    "def geometric_sequence_circuit(n, theta):\n",
    "\n",
    "    N = 2**n\n",
    "\n",
    "    q = QuantumRegister(n)\n",
    "    qc = QuantumCircuit(q)\n",
    "\n",
    "    for j in range(n): # iterates through all n qubits\n",
    "        qc.h(q[j])\n",
    "\n",
    "    for j in range(n): # iterates through all n qubits\n",
    "        qc.p(2 ** j * theta, q[j])\n",
    "\n",
    "    return qc"
   ]
  },
  {
   "cell_type": "markdown",
   "id": "57ca6608-b66e-4a5f-a06e-6abf5cac809f",
   "metadata": {},
   "source": [
    "### Phase-to-magnitude frequency encoding with the IQFT (8.2.1)"
   ]
  },
  {
   "cell_type": "markdown",
   "id": "1e1727f9",
   "metadata": {},
   "source": [
    "Listing 8.2 Create the circuit for encoding a frequency in a quantum state"
   ]
  },
  {
   "cell_type": "code",
   "execution_count": 3,
   "id": "70a7602d",
   "metadata": {
    "ExecuteTime": {
     "end_time": "2023-11-02T00:21:47.468222Z",
     "start_time": "2023-11-02T00:21:47.459832Z"
    }
   },
   "outputs": [],
   "source": [
    "from math import pi\n",
    "\n",
    "def encode_frequency(n, v):\n",
    "    q = QuantumRegister(n)\n",
    "    qc = QuantumCircuit(q)\n",
    "\n",
    "    for j in range(n):\n",
    "        qc.h(q[j])\n",
    "\n",
    "    for j in range(n):\n",
    "        qc.p(2 * pi / 2 ** (n - j) * v, q[j])\n",
    "\n",
    "    qc.report('geometric_sequence')\n",
    "\n",
    "    qc.append_iqft(q)\n",
    "\n",
    "    qc.report('iqft')\n",
    "\n",
    "    return qc"
   ]
  },
  {
   "cell_type": "markdown",
   "id": "8e192df5-7d76-495f-9d15-30d95109dce0",
   "metadata": {},
   "source": [
    "### Some useful numerical forms of the frequency encoding pattern (8.2.2)"
   ]
  },
  {
   "cell_type": "markdown",
   "id": "1aa5f051-2bf0-4a36-89a8-31c67a7cd10f",
   "metadata": {},
   "source": [
    "For example, let's create a three-qubit state with the frequency $v =  4.3$:"
   ]
  },
  {
   "cell_type": "code",
   "execution_count": 4,
   "id": "4d993693",
   "metadata": {
    "ExecuteTime": {
     "end_time": "2023-11-02T00:21:47.468693Z",
     "start_time": "2023-11-02T00:21:47.462936Z"
    }
   },
   "outputs": [],
   "source": [
    "n = 3\n",
    "v = 4.3\n",
    "qc = encode_frequency(n, v)\n",
    "state = qc.run()"
   ]
  },
  {
   "cell_type": "markdown",
   "id": "c70f6c7b-4151-453f-93d9-90b2d63effec",
   "metadata": {},
   "source": [
    "Let's check that the magnitudes of the state match the $\\vert \\text{sincd}_n((v-k) \\pi) \\vert$ function for $n = 3$ and $v = 4.3$, as defined above.\n",
    "\n",
    "We will use the function `prod` defined below to compute each product of cosines:"
   ]
  },
  {
   "cell_type": "code",
   "execution_count": 5,
   "id": "96260e0c",
   "metadata": {
    "ExecuteTime": {
     "end_time": "2023-11-02T00:21:47.480713Z",
     "start_time": "2023-11-02T00:21:47.468127Z"
    }
   },
   "outputs": [],
   "source": [
    "def prod(iterable):\n",
    "    p = 1\n",
    "    for n in iterable:\n",
    "        p *= n\n",
    "    return p"
   ]
  },
  {
   "cell_type": "markdown",
   "id": "0d945147-09af-4e5b-82d8-1a173a89d178",
   "metadata": {},
   "source": [
    "We can use the following `assert` statement to check the magnitudes of the example state:"
   ]
  },
  {
   "cell_type": "code",
   "execution_count": 6,
   "id": "f5fef2bb",
   "metadata": {
    "ExecuteTime": {
     "end_time": "2023-11-02T00:21:47.482006Z",
     "start_time": "2023-11-02T00:21:47.472165Z"
    }
   },
   "outputs": [],
   "source": [
    "from math import cos\n",
    "from util import all_close\n",
    "\n",
    "N = 2**n\n",
    "assert all_close([abs(state[k]) for k in range(N)], [\n",
    "    abs(prod(cos((v - k) * pi / 2 ** (m + 1)) for m in range(n))) for k in\n",
    "    range(N)])"
   ]
  },
  {
   "cell_type": "markdown",
   "id": "07e65ead-33ea-4287-bd82-9dd58bb3698f",
   "metadata": {},
   "source": [
    "We can create a phased discrete sinc state using the following function:"
   ]
  },
  {
   "cell_type": "code",
   "execution_count": 7,
   "id": "a2eea255",
   "metadata": {
    "ExecuteTime": {
     "end_time": "2023-11-02T00:21:47.495289Z",
     "start_time": "2023-11-02T00:21:47.476191Z"
    }
   },
   "outputs": [],
   "source": [
    "from util import cis\n",
    "\n",
    "def phased_sincd(n, v):\n",
    "    N = 2 ** n\n",
    "    return [prod(\n",
    "        cos((v - k) * pi / 2 ** (j + 1)) * cis((v - k) * pi / 2 ** (j + 1))\n",
    "        for j in range(n)) for k in range(2 ** n)]"
   ]
  },
  {
   "cell_type": "markdown",
   "id": "c3f5848c-3e9d-41f7-8722-63fd9e1a7f83",
   "metadata": {},
   "source": [
    "Let's double-check that the outcome of this function for `n = 3` and `v = 4.3` matches the example state created using the `encode_frequency` function above:"
   ]
  },
  {
   "cell_type": "code",
   "execution_count": 8,
   "id": "24f4d588",
   "metadata": {
    "ExecuteTime": {
     "end_time": "2023-11-02T00:21:47.499263Z",
     "start_time": "2023-11-02T00:21:47.479171Z"
    }
   },
   "outputs": [],
   "source": [
    "assert all_close(state, phased_sincd(3, 4.3))"
   ]
  },
  {
   "cell_type": "markdown",
   "id": "4ee71e25-f2ed-4602-9eb4-67ca1684b08f",
   "metadata": {},
   "source": [
    "Therefore, the product of complex numbers\n",
    "\n",
    "$$\\prod_{m = 0}^{n-1} \\text{cis} \\left( (v - k) \\frac{\\pi}{2^{m + 1}} \\right)$$\n",
    "\n",
    "can also be expressed as\n",
    "\n",
    "$$\\text{cis} \\left(\\sum_{m = 0}^{n - 1} (v - k) \\frac{\\pi}{2^{m + 1}} \\right) = \\text{cis} \\left((N - 1) (v - k) \\frac{\\pi}{N} \\right)$$\n",
    "\n",
    "where $N = 2^n$.\n",
    "\n",
    "We can use this cis expression, combined with the product of cosines, to create a phased discrete sinc quantum state with the following Python code:"
   ]
  },
  {
   "cell_type": "code",
   "execution_count": 9,
   "id": "148ad29d",
   "metadata": {
    "ExecuteTime": {
     "end_time": "2023-11-02T00:21:47.507019Z",
     "start_time": "2023-11-02T00:21:47.482600Z"
    }
   },
   "outputs": [],
   "source": [
    "def phased_sincd_combined_cis(n, v):\n",
    "    N = 2 ** n\n",
    "    return [prod(cos((v - k) * pi / 2 ** (m + 1)) for m in range(n)) * cis(\n",
    "        (N - 1) / N * (v - k) * pi) for k in range(2 ** n)]"
   ]
  },
  {
   "cell_type": "markdown",
   "id": "128aec25-83c4-4d7a-a713-7782ef2c096a",
   "metadata": {},
   "source": [
    "Let's check that this form also creates the phased discrete sinc state with `n = 3` and `v = 4.3`:"
   ]
  },
  {
   "cell_type": "code",
   "execution_count": 10,
   "id": "e89be182",
   "metadata": {
    "ExecuteTime": {
     "end_time": "2023-11-02T00:21:47.507152Z",
     "start_time": "2023-11-02T00:21:47.485466Z"
    }
   },
   "outputs": [],
   "source": [
    "assert all_close(state, phased_sincd_combined_cis(3, 4.3))"
   ]
  },
  {
   "cell_type": "markdown",
   "id": "2661f37c-482b-4637-b23f-1b919f3e7410",
   "metadata": {},
   "source": [
    "### Reversed qubit implementation of phased discrete sinc quantum states (8.2.3)"
   ]
  },
  {
   "cell_type": "markdown",
   "id": "76b8e712",
   "metadata": {},
   "source": [
    "Listing 8.3 Create the circuit for the reversed geometric sequence state"
   ]
  },
  {
   "cell_type": "code",
   "execution_count": 11,
   "id": "0b82bb50",
   "metadata": {
    "ExecuteTime": {
     "end_time": "2023-11-02T00:21:47.507198Z",
     "start_time": "2023-11-02T00:21:47.489573Z"
    }
   },
   "outputs": [],
   "source": [
    "def geom_alt(n, v):\n",
    "    q = QuantumRegister(n)\n",
    "    qc = QuantumCircuit(q)\n",
    "\n",
    "    for j in range(n):\n",
    "        qc.h(q[j])\n",
    "\n",
    "    for j in range(n):\n",
    "        qc.p(pi * 2 ** -j * v, q[j])\n",
    "\n",
    "    return qc"
   ]
  },
  {
   "cell_type": "markdown",
   "id": "ca012ac1-e34a-4e52-a280-f52f309f91b7",
   "metadata": {},
   "source": [
    "In the function above, the angle parameter is defined with $2^{n - j}\\theta = \\frac{2^n \\theta}{2^j} = \\frac{2^n}{2^j}\\frac{v \\pi}{2^n} = \\frac{v \\pi}{2^j}$"
   ]
  },
  {
   "cell_type": "markdown",
   "id": "fb1e1a9e",
   "metadata": {},
   "source": [
    "Listing 8.4 Create the frequency encoding circuit with reversed qubit order"
   ]
  },
  {
   "cell_type": "code",
   "execution_count": 12,
   "id": "97bdd172",
   "metadata": {
    "ExecuteTime": {
     "end_time": "2023-11-02T00:21:47.511370Z",
     "start_time": "2023-11-02T00:21:47.493380Z"
    }
   },
   "outputs": [],
   "source": [
    "def encode_frequency_q_alt(n, v):\n",
    "    q = QuantumRegister(n)\n",
    "    qc = QuantumCircuit(q)\n",
    "\n",
    "    for j in range(n):\n",
    "        qc.h(q[j])\n",
    "        qc.p(pi * 2 ** -j * v, q[j])\n",
    "\n",
    "    qc.report('signal')\n",
    "\n",
    "    qc.append_iqft(q, reversed=True, swap=False) # applies the IQFT to qubit in reverse order and skip the qubit swapping in the IQFT\n",
    "\n",
    "    qc.report('iqft')\n",
    "\n",
    "    return qc"
   ]
  },
  {
   "cell_type": "markdown",
   "id": "f31c8741-4307-4f33-88fb-7c34d5d519e4",
   "metadata": {},
   "source": [
    "### Discrete sinc as a sequence of coin flips (8.3)"
   ]
  },
  {
   "cell_type": "markdown",
   "id": "782aff90-4d6b-485d-b1fd-05b99bb44797",
   "metadata": {},
   "source": [
    "We can also model the discrete sinc distribution as a sequence of coin tosses. If the total number of tosses is $n$, the bias of the coin tossed at trial $0 \\le m < n$ depends on the previous toss results. If the decimal representation of the binary number formed with the previous flips is $0 \\le k < 2^m$, the probabilities of getting 0 or 1 in the $m^{th}$ flip are $\\cos^2\\left((v-k)\\frac{\\pi}{2^{m+1}}\\right)$ and $\\sin^2\\left((v-k)\\frac{\\pi}{2^{m+1}}\\right)$, respectively."
   ]
  },
  {
   "cell_type": "code",
   "execution_count": 13,
   "id": "759a9859",
   "metadata": {
    "ExecuteTime": {
     "end_time": "2023-11-02T00:21:47.520467Z",
     "start_time": "2023-11-02T00:21:47.498508Z"
    }
   },
   "outputs": [],
   "source": [
    "from util import is_close\n",
    "from math import sin\n",
    "\n",
    "def discrete_sinc_by_digit(n , v):\n",
    "\n",
    "    probs = [_ for _ in range(2**n)]\n",
    "    for l in range(2**n): # iterates through all the possible sequences (binary strings) of outcomes for n trials\n",
    "        s = bin(l)[2:].zfill(n)\n",
    "        assert(len(s) == n)\n",
    "        p = 1\n",
    "        k = 0\n",
    "        for m in range(n): # iterates through each digit in the possible sequence (binary string) of outcomes\n",
    "            if s[m] == '0':\n",
    "                p *= cos((v - k)*pi/2**(m+1))**2\n",
    "            else:\n",
    "                p *= sin((v - k)*pi/2**(m+1))**2\n",
    "                k += 2**m\n",
    "\n",
    "        probs[k] = p\n",
    "\n",
    "    return probs"
   ]
  },
  {
   "cell_type": "markdown",
   "id": "631e0fa6-3173-45c4-9246-38c8e20b4e49",
   "metadata": {},
   "source": [
    "Let's validate these probabilities for `n = 3` and `v = 4.7`:"
   ]
  },
  {
   "cell_type": "code",
   "execution_count": 14,
   "id": "51504173",
   "metadata": {
    "ExecuteTime": {
     "end_time": "2023-11-02T00:21:47.520599Z",
     "start_time": "2023-11-02T00:21:47.504314Z"
    }
   },
   "outputs": [],
   "source": [
    "n = 3\n",
    "v = 4.7\n",
    "\n",
    "probs = discrete_sinc_by_digit(n, v)\n",
    "for k in range(len(probs)):\n",
    "    assert is_close(probs[k], prod(cos((v-k)*pi/2**(j+1)) for j in range(n))**2)"
   ]
  },
  {
   "cell_type": "markdown",
   "id": "31937a41-4334-4112-a0c6-eb55e3b9e104",
   "metadata": {},
   "source": [
    "We can also compute the probabilities for each possible sequence of outcomes with the following recursive function:"
   ]
  },
  {
   "cell_type": "code",
   "execution_count": 15,
   "id": "aa027651",
   "metadata": {
    "ExecuteTime": {
     "end_time": "2023-11-02T00:21:47.534996Z",
     "start_time": "2023-11-02T00:21:47.508553Z"
    }
   },
   "outputs": [],
   "source": [
    "def recursive_discrete_sinc(n, v):\n",
    "    if n == 1:\n",
    "        return [cos(v*pi/2)**2, sin(v*pi/2)**2]\n",
    "\n",
    "    p = recursive_discrete_sinc(n-1, v)\n",
    "\n",
    "    return [p[k] * cos((v - k) * pi / 2 ** n) ** 2 for k in\n",
    "            range(2 ** (n - 1))] + [p[k] * sin((v - k) * pi / 2 ** n) ** 2\n",
    "                                    for k in range(2 ** (n - 1))]"
   ]
  },
  {
   "cell_type": "markdown",
   "id": "d2fd452f-417e-468c-af4d-e75773eb3942",
   "metadata": {},
   "source": [
    "We can also model a sequence of `n` coin tosses with probabilities defined by `n` and the frequency `v` several times and examine the frequency we observe each possible sequence. The function below can be used to simulate a given number (`count`) of `n` coin tosses:"
   ]
  },
  {
   "cell_type": "code",
   "execution_count": 16,
   "id": "1c424cc1",
   "metadata": {
    "ExecuteTime": {
     "end_time": "2023-11-02T00:21:47.539788Z",
     "start_time": "2023-11-02T00:21:47.512410Z"
    }
   },
   "outputs": [],
   "source": [
    "import numpy as np\n",
    "\n",
    "def discrete_sinc_coin_flips(n, v, count=10000):\n",
    "    samples = []\n",
    "    for _ in range(count):\n",
    "        k = 0\n",
    "        for m in range(n):\n",
    "            flip = np.random.binomial(1, sin((v-k)*pi/2**(m+1))**2)\n",
    "            k += flip*2**m\n",
    "\n",
    "        samples.append(k)\n",
    "\n",
    "    return samples"
   ]
  },
  {
   "cell_type": "markdown",
   "id": "89c9dacd-90a4-48e9-9b2d-bcffe0745d17",
   "metadata": {},
   "source": [
    "### Raised cosine (8.4.1)"
   ]
  },
  {
   "cell_type": "markdown",
   "id": "f12552b8",
   "metadata": {},
   "source": [
    "Listing 8.5 Create the circuit for encoding the raised cosine distribution"
   ]
  },
  {
   "cell_type": "code",
   "execution_count": 17,
   "id": "43a1f8d9",
   "metadata": {
    "ExecuteTime": {
     "end_time": "2023-11-02T00:21:47.554019Z",
     "start_time": "2023-11-02T00:21:47.516199Z"
    }
   },
   "outputs": [],
   "source": [
    "def raised_cosine(n, mu):\n",
    "    N = 2 ** n\n",
    "    assert (0 <= mu < 2 ** n)\n",
    "\n",
    "    q = QuantumRegister(n)\n",
    "    qc = QuantumCircuit(q)\n",
    "\n",
    "    qc.h(q[n - 1])\n",
    "    qc.p(-pi * mu / N * 2, q[n - 1])\n",
    "\n",
    "    qc.report('fourier_coefficients')\n",
    "\n",
    "    qc.append_qft(q, reversed=True, swap=False) # <1>\n",
    "\n",
    "    qc.report('qft')\n",
    "\n",
    "    return qc"
   ]
  },
  {
   "cell_type": "markdown",
   "id": "5ac1cde5-0c9a-4ab0-be79-edd4d4feaf8b",
   "metadata": {},
   "source": [
    "For example, let's use this function to encode the raised cosine distribution in the probabilities of a three-qubit state with $\\mu = 3.25$:"
   ]
  },
  {
   "cell_type": "code",
   "execution_count": 18,
   "id": "a5d1ed63",
   "metadata": {
    "ExecuteTime": {
     "end_time": "2023-11-02T00:21:47.576299Z",
     "start_time": "2023-11-02T00:21:47.519655Z"
    }
   },
   "outputs": [],
   "source": [
    "qc = raised_cosine(3, 3.25)\n",
    "state = qc.run()"
   ]
  },
  {
   "cell_type": "code",
   "execution_count": 19,
   "id": "df625685",
   "metadata": {
    "ExecuteTime": {
     "end_time": "2023-11-02T00:21:47.788590Z",
     "start_time": "2023-11-02T00:21:47.521855Z"
    }
   },
   "outputs": [
    {
     "name": "stdout",
     "output_type": "stream",
     "text": [
      "\n",
      "Outcome  Binary  Amplitude           Magnitude  Direction  Amplitude Bar             Probability\n",
      "------------------------------------------------------------------------------------------------\n",
      "0        000     0.0421 - i0.1389    0.1451      -73.86°   \u001b[38;2;223;186;255m███                     \u001b[39m  0.0211\n",
      "1        001     0.2012 - i0.2452    0.3172      -50.37°   \u001b[38;2;255;174;201m███████                 \u001b[39m  0.1006\n",
      "2        010     0.3889 - i0.2079    0.441       -28.87°   \u001b[38;2;255;116;115m██████████              \u001b[39m  0.1944\n",
      "3        011     0.4952 - i0.0488    0.4976       -5.37°   \u001b[38;2;248;56;39m███████████             \u001b[39m  0.2476\n",
      "4        100     0.4579 + i0.1389    0.4785       16.87°   \u001b[38;2;249;93;4m███████████             \u001b[39m  0.2289\n",
      "5        101     0.2988 + i0.2452    0.3865       39.37°   \u001b[38;2;255;160;0m█████████               \u001b[39m  0.1494\n",
      "6        110     0.1111 + i0.2079    0.2357       61.88°   \u001b[38;2;239;208;0m█████                   \u001b[39m  0.0556\n",
      "7        111     0.0048 + i0.0488    0.049        84.38°   \u001b[38;2;171;191;0m█                       \u001b[39m  0.0024\n",
      "\n"
     ]
    }
   ],
   "source": [
    "from util import print_state_table\n",
    "\n",
    "print_state_table(state)"
   ]
  },
  {
   "cell_type": "markdown",
   "id": "3c71521b-71c0-47d3-8df2-98a5ef122a27",
   "metadata": {},
   "source": [
    "We can use the following code to check that the amplitudes of the state match the expected amplitudes:"
   ]
  },
  {
   "cell_type": "code",
   "execution_count": 20,
   "id": "431ff19f",
   "metadata": {
    "ExecuteTime": {
     "end_time": "2023-11-02T00:21:47.790249Z",
     "start_time": "2023-11-02T00:21:47.785011Z"
    }
   },
   "outputs": [],
   "source": [
    "from math import sqrt\n",
    "\n",
    "N = 8\n",
    "mu = 3.25\n",
    "a = [sqrt(2/N) * cos((k - mu)*pi/N) * cis((k-mu)*pi/N) for k in range(N)]\n",
    "assert all_close(state, a)"
   ]
  },
  {
   "cell_type": "markdown",
   "id": "c28adef9-c138-4376-83f8-5dc8def6bd9d",
   "metadata": {},
   "source": [
    "We can also check that the probabilities align with the raised cosine distribution for $s = 2^{n - 2} = \\frac{N}{2}$:"
   ]
  },
  {
   "cell_type": "code",
   "execution_count": 21,
   "id": "94143b93",
   "metadata": {
    "ExecuteTime": {
     "end_time": "2023-11-02T00:21:47.802372Z",
     "start_time": "2023-11-02T00:21:47.790134Z"
    }
   },
   "outputs": [],
   "source": [
    "s = N / 2\n",
    "p = [1 / (2 * s) * (1 + cos((x - mu) / s * pi)) for x in range(N)]\n",
    "p1 = [1 / s * cos((x - mu) / (2 * s) * pi) ** 2 for x in range(N)]\n",
    "\n",
    "probs = [2/N*(cos((k - mu)*pi/N))**2 for k in range(N)] \n",
    "\n",
    "assert all_close(p, probs)\n",
    "assert all_close(p1, probs)"
   ]
  },
  {
   "cell_type": "markdown",
   "id": "6d9225d3-fc75-4d3c-90a7-0e87a8716a5f",
   "metadata": {},
   "source": [
    "### Other trigonometric functions (8.4.2)"
   ]
  },
  {
   "cell_type": "markdown",
   "id": "37758a5c-95f0-4ed5-933e-b414980c3ff9",
   "metadata": {},
   "source": [
    "We can prepare a state so that the resulting amplitudes will have the probability distribution\n",
    "\n",
    "$$p(k) = \\frac{8}{3N} \\sin^4 \\left( k \\frac{\\pi}{N} \\right)$$\n",
    "\n",
    "for $0 \\le k < N$. We call this the $sin^4$ probability distribution."
   ]
  },
  {
   "cell_type": "markdown",
   "id": "bde1b887",
   "metadata": {},
   "source": [
    "Listing 8.6 Create the circuit for encoding the $sin^4$ probability distribution"
   ]
  },
  {
   "cell_type": "code",
   "execution_count": 22,
   "id": "0bd2f96c",
   "metadata": {
    "ExecuteTime": {
     "end_time": "2023-11-02T00:21:47.803309Z",
     "start_time": "2023-11-02T00:21:47.794837Z"
    }
   },
   "outputs": [],
   "source": [
    "from math import acos\n",
    "\n",
    "def sin_4(n):\n",
    "    theta = acos(sqrt(2 / 3))\n",
    "    q = QuantumRegister(n)\n",
    "    qc = QuantumCircuit(q)\n",
    "\n",
    "    qc.ry(2 * theta, q[n - 1])\n",
    "    qc.p(pi, q[n - 1])\n",
    "    qc.cry(pi / 2, q[n - 1], q[0])\n",
    "\n",
    "    for i in range(1, n - 1):\n",
    "        qc.cx(q[0], q[i])\n",
    "\n",
    "    qc.report('frequencies')\n",
    "\n",
    "    qc.append_qft(q, reversed=True, swap=False)\n",
    "\n",
    "    qc.report('qft')\n",
    "\n",
    "    return qc"
   ]
  },
  {
   "cell_type": "markdown",
   "id": "870019e3-3577-4ad6-afe8-565107013813",
   "metadata": {},
   "source": [
    "Let's create an example with `n = 3` qubits:"
   ]
  },
  {
   "cell_type": "code",
   "execution_count": 23,
   "id": "08104d29",
   "metadata": {
    "ExecuteTime": {
     "end_time": "2023-11-02T00:21:47.803357Z",
     "start_time": "2023-11-02T00:21:47.798182Z"
    }
   },
   "outputs": [],
   "source": [
    "n = 3           \n",
    "N = 2 ** n      \n",
    "qc = sin_4(n)   \n",
    "state = qc.run()"
   ]
  },
  {
   "cell_type": "code",
   "execution_count": 24,
   "id": "e2bee256",
   "metadata": {
    "ExecuteTime": {
     "end_time": "2023-11-02T00:21:48.028753Z",
     "start_time": "2023-11-02T00:21:47.802538Z"
    }
   },
   "outputs": [
    {
     "name": "stdout",
     "output_type": "stream",
     "text": [
      "\n",
      "Outcome  Binary  Amplitude           Magnitude  Direction  Amplitude Bar             Probability\n",
      "------------------------------------------------------------------------------------------------\n",
      "0        000     0.0000 + i0.0000    0.0                   \u001b[38;2;255;145;0m                        \u001b[39m  0.0   \n",
      "1        001     0.0846 + i0.0000    0.0846        0.00°   \u001b[38;2;246;54;26m██                      \u001b[39m  0.0071\n",
      "2        010     0.2887 + i0.0000    0.2887        0.00°   \u001b[38;2;246;53;29m██████                  \u001b[39m  0.0833\n",
      "3        011     0.4928 + i0.0000    0.4928        0.00°   \u001b[38;2;246;53;29m███████████             \u001b[39m  0.2429\n",
      "4        100     0.5774 + i0.0000    0.5774        0.00°   \u001b[38;2;246;53;29m█████████████           \u001b[39m  0.3333\n",
      "5        101     0.4928 + i0.0000    0.4928        0.00°   \u001b[38;2;246;53;29m███████████             \u001b[39m  0.2429\n",
      "6        110     0.2887 + i0.0000    0.2887        0.00°   \u001b[38;2;246;54;26m██████                  \u001b[39m  0.0833\n",
      "7        111     0.0846 + i0.0000    0.0846        0.00°   \u001b[38;2;246;54;26m██                      \u001b[39m  0.0071\n",
      "\n"
     ]
    }
   ],
   "source": [
    "print_state_table(state)"
   ]
  },
  {
   "cell_type": "markdown",
   "id": "e0ef5c01-1a5f-4f2e-bef2-674643c66c98",
   "metadata": {},
   "source": [
    "We can check that the probabilities of the resulting state reflect the encoded probability distribution using the following code:"
   ]
  },
  {
   "cell_type": "code",
   "execution_count": 25,
   "id": "58c49c1b",
   "metadata": {
    "ExecuteTime": {
     "end_time": "2023-11-02T00:21:48.034293Z",
     "start_time": "2023-11-02T00:21:48.027064Z"
    }
   },
   "outputs": [],
   "source": [
    "s = [sqrt(8 / (3 * N)) * (sin(k * pi / N)) ** 2 for k in range(N)]\n",
    "assert all_close(state, s)\n",
    "p = [8 / 3 / N * (sin(k * pi / N)) ** 4 for k in range(N)] # <1>\n",
    "assert all_close([abs(state[k])**2 for k in range(N)], p)"
   ]
  }
 ],
 "metadata": {
  "kernelspec": {
   "display_name": "Python 3 (ipykernel)",
   "language": "python",
   "name": "python3"
  },
  "language_info": {
   "codemirror_mode": {
    "name": "ipython",
    "version": 3
   },
   "file_extension": ".py",
   "mimetype": "text/x-python",
   "name": "python",
   "nbconvert_exporter": "python",
   "pygments_lexer": "ipython3",
   "version": "3.9.13"
  }
 },
 "nbformat": 4,
 "nbformat_minor": 5
}
