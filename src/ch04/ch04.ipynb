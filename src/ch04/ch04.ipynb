{
 "cells": [
  {
   "cell_type": "code",
   "execution_count": 1,
   "id": "9ed84014",
   "metadata": {
    "ExecuteTime": {
     "end_time": "2023-11-01T18:42:26.349711Z",
     "start_time": "2023-11-01T18:42:24.974200Z"
    },
    "pycharm": {
     "is_executing": true
    }
   },
   "outputs": [],
   "source": [
    "import sys;\n",
    "sys.path.insert(0, '..')"
   ]
  },
  {
   "cell_type": "markdown",
   "id": "c821cda1",
   "metadata": {},
   "source": [
    "## Chapter 4 Code Snippets and Listings"
   ]
  },
  {
   "cell_type": "markdown",
   "id": "93544c11",
   "metadata": {},
   "source": [
    "### Two-qubit states (section 4.2.1)"
   ]
  },
  {
   "cell_type": "markdown",
   "id": "792ed183",
   "metadata": {
    "collapsed": false,
    "jupyter": {
     "outputs_hidden": false
    }
   },
   "source": [
    "A two-qubit quantum state can be represented as a list of four complex numbers.\n",
    "We can encode the general form of a two-qubit state using the Python list below:"
   ]
  },
  {
   "cell_type": "code",
   "execution_count": 2,
   "id": "561ec404",
   "metadata": {
    "ExecuteTime": {
     "end_time": "2023-11-01T18:42:26.356823Z",
     "start_time": "2023-11-01T18:42:26.352865Z"
    }
   },
   "outputs": [],
   "source": [
    "from math import sqrt, cos, sin\n",
    "\n",
    "[p0, p1, p2, p3] = [1, 0, 0, 0]\n",
    "[theta0, theta1, theta2, theta3] = [0, 0, 0, 0]\n",
    "\n",
    "state = [sqrt(p0) * (cos(theta0) + 1j * sin(theta0)),\n",
    "         sqrt(p1) * (cos(theta1) + 1j * sin(theta1)),\n",
    "         sqrt(p2) * (cos(theta2) + 1j * sin(theta2)),\n",
    "         sqrt(p3) * (cos(theta3) + 1j * sin(theta3))]"
   ]
  },
  {
   "cell_type": "markdown",
   "id": "87592bad",
   "metadata": {
    "collapsed": false,
    "jupyter": {
     "outputs_hidden": false
    }
   },
   "source": [
    "We can use the built-in `random` package in Python to generate example probabilities and directions:"
   ]
  },
  {
   "cell_type": "code",
   "execution_count": 3,
   "id": "ed2762ec",
   "metadata": {
    "ExecuteTime": {
     "end_time": "2023-11-01T18:42:26.363848Z",
     "start_time": "2023-11-01T18:42:26.357684Z"
    }
   },
   "outputs": [],
   "source": [
    "import random\n",
    "from math import pi\n",
    "\n",
    "random.seed(123456789) # chooses a seed so that we get reproducible results\n",
    "\n",
    "probs = [random.random() for _ in range(4)] # generates 4 random numbers\n",
    "total = sum(probs)\n",
    "probs = [p/total for p in probs] # normalizes each amplitude so that the probabilities add up to 1\n",
    "\n",
    "angles = [random.uniform(0, 2*pi) for _ in range(4)] # generates 4 random angles in radians\n",
    "\n",
    "state = [sqrt(p)*(cos(a) + 1j*sin(a)) for (p, a) in zip(probs, angles)] # builds the quantum state list"
   ]
  },
  {
   "cell_type": "code",
   "execution_count": 4,
   "id": "c2ad9e95",
   "metadata": {
    "ExecuteTime": {
     "end_time": "2023-11-01T18:42:26.526065Z",
     "start_time": "2023-11-01T18:42:26.363086Z"
    }
   },
   "outputs": [
    {
     "name": "stdout",
     "output_type": "stream",
     "text": [
      "\n",
      "Outcome  Binary  Amplitude           Magnitude  Direction  Amplitude Bar             Probability\n",
      "------------------------------------------------------------------------------------------------\n",
      "0        00      0.1743 - i0.4266    0.4609      -67.22°   \u001b[38;2;234;189;251m███████████             \u001b[39m  0.2124\n",
      "1        01     -0.3383 + i0.2551    0.4237      142.98°   \u001b[38;2;47;178;105m██████████              \u001b[39m  0.1795\n",
      "2        10      0.5293 - i0.2208    0.5735      -22.36°   \u001b[38;2;255;104;99m█████████████           \u001b[39m  0.3289\n",
      "3        11     -0.1973 - i0.4902    0.5284     -111.80°   \u001b[38;2;94;130;255m████████████            \u001b[39m  0.2792\n",
      "\n"
     ]
    }
   ],
   "source": [
    "from util import print_state_table\n",
    "\n",
    "print_state_table(state)"
   ]
  },
  {
   "cell_type": "markdown",
   "id": "7eed6dbb",
   "metadata": {
    "collapsed": false,
    "jupyter": {
     "outputs_hidden": false
    }
   },
   "source": [
    "**Product states: composing a state from two independent single-qubit states**"
   ]
  },
  {
   "cell_type": "markdown",
   "id": "3f0695a8",
   "metadata": {
    "collapsed": false,
    "jupyter": {
     "outputs_hidden": false
    }
   },
   "source": [
    "Shortcut `cis` function:"
   ]
  },
  {
   "cell_type": "code",
   "execution_count": 5,
   "id": "ca0d5892",
   "metadata": {
    "ExecuteTime": {
     "end_time": "2023-11-01T18:42:26.533602Z",
     "start_time": "2023-11-01T18:42:26.529666Z"
    }
   },
   "outputs": [],
   "source": [
    "def cis(theta):\n",
    "    return cos(theta) + 1j*sin(theta)"
   ]
  },
  {
   "cell_type": "markdown",
   "id": "3a4a5fe2",
   "metadata": {
    "collapsed": false,
    "jupyter": {
     "outputs_hidden": false
    }
   },
   "source": [
    "The first state has probability $p = 0.75$ for outcome 0, and directions $\\theta_0 = 0^\\circ$ and $\\theta_1 = 60^\\circ$:"
   ]
  },
  {
   "cell_type": "code",
   "execution_count": 6,
   "id": "cb957766",
   "metadata": {
    "ExecuteTime": {
     "end_time": "2023-11-01T18:42:26.540578Z",
     "start_time": "2023-11-01T18:42:26.534649Z"
    }
   },
   "outputs": [
    {
     "name": "stdout",
     "output_type": "stream",
     "text": [
      "[(0.86603+0j), (0.25+0.43301j)]\n"
     ]
    }
   ],
   "source": [
    "p = 0.75\n",
    "theta0 = 0\n",
    "theta1 = 60/(180/pi) # converts to radians\n",
    "first_state = [sqrt(p)*cis(theta0), sqrt(1-p)*cis(theta1)]\n",
    "print([round(amp.real, 5)+1j*round(amp.imag, 5) for amp in first_state])"
   ]
  },
  {
   "cell_type": "markdown",
   "id": "6b1e8bd5",
   "metadata": {
    "collapsed": false,
    "jupyter": {
     "outputs_hidden": false
    }
   },
   "source": [
    "The second state has $q = 0.5$ as the probability for outcome 0, and directions $\\phi_0 = 0^\\circ$ and $\\phi_1 = -120^\\circ$:"
   ]
  },
  {
   "cell_type": "code",
   "execution_count": 7,
   "id": "21097c7f",
   "metadata": {
    "ExecuteTime": {
     "end_time": "2023-11-01T18:42:26.544459Z",
     "start_time": "2023-11-01T18:42:26.539074Z"
    }
   },
   "outputs": [
    {
     "name": "stdout",
     "output_type": "stream",
     "text": [
      "[(0.70711+0j), (-0.35355-0.61237j)]\n"
     ]
    }
   ],
   "source": [
    "q = 0.5\n",
    "phi0 = 0\n",
    "phi1 = -120/(180/pi)\n",
    "second_state = [sqrt(q)*cis(phi0), sqrt(1-q)*cis(phi1)]\n",
    "print([round(amp.real, 5)+1j*round(amp.imag, 5) for amp in second_state])"
   ]
  },
  {
   "cell_type": "markdown",
   "id": "062adae0",
   "metadata": {
    "collapsed": false,
    "jupyter": {
     "outputs_hidden": false
    }
   },
   "source": [
    "If we create a two-qubit state from these two single-qubit states, the new amplitudes will be all the possible products of the two pairs of amplitudes:"
   ]
  },
  {
   "cell_type": "code",
   "execution_count": 8,
   "id": "e7ccb39e",
   "metadata": {
    "ExecuteTime": {
     "end_time": "2023-11-01T18:42:26.589340Z",
     "start_time": "2023-11-01T18:42:26.550685Z"
    }
   },
   "outputs": [
    {
     "name": "stdout",
     "output_type": "stream",
     "text": [
      "[(0.61237+0j), (-0.30619-0.53033j), (0.17678+0.30619j), (0.17678-0.30619j)]\n"
     ]
    }
   ],
   "source": [
    "new_state = [first_state[0]*second_state[0], first_state[0]*second_state[1],\n",
    "             first_state[1]*second_state[0], first_state[1]*second_state[1]]\n",
    "print([round(amp.real, 5)+1j*round(amp.imag, 5) for amp in new_state])"
   ]
  },
  {
   "cell_type": "markdown",
   "id": "a0d7dfa7",
   "metadata": {
    "collapsed": false,
    "jupyter": {
     "outputs_hidden": false
    }
   },
   "source": [
    "Alternate definition:"
   ]
  },
  {
   "cell_type": "code",
   "execution_count": 9,
   "id": "bd2c1ef1",
   "metadata": {
    "ExecuteTime": {
     "end_time": "2023-11-01T18:42:26.589731Z",
     "start_time": "2023-11-01T18:42:26.554633Z"
    }
   },
   "outputs": [
    {
     "name": "stdout",
     "output_type": "stream",
     "text": [
      "[(0.61237+0j), (-0.30619-0.53033j), (0.17678+0.30619j), (0.17678-0.30619j)]\n"
     ]
    }
   ],
   "source": [
    "new_state = [sqrt(p*q)*cis(theta0 + phi0), sqrt(p*(1-q))*cis(theta0 + phi1),\n",
    "            sqrt((1-p)*q)*cis(theta1 + phi0), sqrt((1-p)*(1-q))*cis(theta1 + phi1)]\n",
    "print([round(amp.real, 5)+1j*round(amp.imag, 5) for amp in new_state])"
   ]
  },
  {
   "cell_type": "markdown",
   "id": "1244fb83",
   "metadata": {
    "collapsed": false,
    "jupyter": {
     "outputs_hidden": false
    }
   },
   "source": [
    "**Examples of non-product states: Bell states**"
   ]
  },
  {
   "cell_type": "code",
   "execution_count": 10,
   "id": "9bf57bb2",
   "metadata": {
    "ExecuteTime": {
     "end_time": "2023-11-01T18:42:26.687028Z",
     "start_time": "2023-11-01T18:42:26.557369Z"
    }
   },
   "outputs": [],
   "source": [
    "bell_state1 = [sqrt(0.5), 0.0, 0.0, sqrt(0.5)]\n",
    "\n",
    "bell_state2 = [sqrt(0.5), 0.0, 0.0, -sqrt(0.5)]"
   ]
  },
  {
   "cell_type": "code",
   "execution_count": 11,
   "id": "f9b34e3e",
   "metadata": {
    "ExecuteTime": {
     "end_time": "2023-11-01T18:42:26.816335Z",
     "start_time": "2023-11-01T18:42:26.685918Z"
    }
   },
   "outputs": [
    {
     "name": "stdout",
     "output_type": "stream",
     "text": [
      "\n",
      "Outcome  Binary  Amplitude           Magnitude  Direction  Amplitude Bar             Probability\n",
      "------------------------------------------------------------------------------------------------\n",
      "0        00      0.7071 + i0.0000    0.7071        0.00°   \u001b[38;2;246;54;26m████████████████        \u001b[39m  0.5   \n",
      "1        01      0.0000 + i0.0000    0.0                   \u001b[38;2;246;54;26m                        \u001b[39m  0.0   \n",
      "2        10      0.0000 + i0.0000    0.0                   \u001b[38;2;246;54;26m                        \u001b[39m  0.0   \n",
      "3        11      0.7071 + i0.0000    0.7071        0.00°   \u001b[38;2;246;54;26m████████████████        \u001b[39m  0.5   \n",
      "\n"
     ]
    }
   ],
   "source": [
    "print_state_table(bell_state1)"
   ]
  },
  {
   "cell_type": "code",
   "execution_count": 12,
   "id": "50ce84a9",
   "metadata": {
    "ExecuteTime": {
     "end_time": "2023-11-01T18:42:26.820130Z",
     "start_time": "2023-11-01T18:42:26.814605Z"
    }
   },
   "outputs": [
    {
     "name": "stdout",
     "output_type": "stream",
     "text": [
      "\n",
      "Outcome  Binary  Amplitude           Magnitude  Direction  Amplitude Bar             Probability\n",
      "------------------------------------------------------------------------------------------------\n",
      "0        00      0.7071 + i0.0000    0.7071        0.00°   \u001b[38;2;246;54;26m████████████████        \u001b[39m  0.5   \n",
      "1        01      0.0000 + i0.0000    0.0                   \u001b[38;2;246;54;26m                        \u001b[39m  0.0   \n",
      "2        10      0.0000 + i0.0000    0.0                   \u001b[38;2;246;54;26m                        \u001b[39m  0.0   \n",
      "3        11     -0.7071 + i0.0000    0.7071      180.00°   \u001b[38;2;37;232;234m████████████████        \u001b[39m  0.5   \n",
      "\n"
     ]
    }
   ],
   "source": [
    "print_state_table(bell_state2)"
   ]
  },
  {
   "cell_type": "code",
   "execution_count": 13,
   "id": "f1570190",
   "metadata": {
    "ExecuteTime": {
     "end_time": "2023-11-01T18:42:26.981762Z",
     "start_time": "2023-11-01T18:42:26.862219Z"
    }
   },
   "outputs": [],
   "source": [
    "bell_state3 = [0.0, sqrt(0.5), sqrt(0.5), 0.0]\n",
    "\n",
    "bell_state4 = [0.0, sqrt(0.5), -sqrt(0.5), 0.0]"
   ]
  },
  {
   "cell_type": "code",
   "execution_count": 14,
   "id": "a8651486",
   "metadata": {
    "ExecuteTime": {
     "end_time": "2023-11-01T18:42:27.109345Z",
     "start_time": "2023-11-01T18:42:26.983880Z"
    }
   },
   "outputs": [
    {
     "name": "stdout",
     "output_type": "stream",
     "text": [
      "\n",
      "Outcome  Binary  Amplitude           Magnitude  Direction  Amplitude Bar             Probability\n",
      "------------------------------------------------------------------------------------------------\n",
      "0        00      0.0000 + i0.0000    0.0                   \u001b[38;2;246;54;26m                        \u001b[39m  0.0   \n",
      "1        01      0.7071 + i0.0000    0.7071        0.00°   \u001b[38;2;246;54;26m████████████████        \u001b[39m  0.5   \n",
      "2        10      0.7071 + i0.0000    0.7071        0.00°   \u001b[38;2;246;54;26m████████████████        \u001b[39m  0.5   \n",
      "3        11      0.0000 + i0.0000    0.0                   \u001b[38;2;246;54;26m                        \u001b[39m  0.0   \n",
      "\n"
     ]
    }
   ],
   "source": [
    "print_state_table(bell_state3)"
   ]
  },
  {
   "cell_type": "code",
   "execution_count": 15,
   "id": "7d528e2b",
   "metadata": {
    "ExecuteTime": {
     "end_time": "2023-11-01T18:20:20.827819Z",
     "start_time": "2023-11-01T18:20:20.701067Z"
    }
   },
   "outputs": [
    {
     "name": "stdout",
     "output_type": "stream",
     "text": [
      "\n",
      "Outcome  Binary  Amplitude           Magnitude  Direction  Amplitude Bar             Probability\n",
      "------------------------------------------------------------------------------------------------\n",
      "0        00      0.0000 + i0.0000    0.0                   \u001b[38;2;246;54;26m                        \u001b[39m  0.0   \n",
      "1        01      0.7071 + i0.0000    0.7071        0.00°   \u001b[38;2;246;54;26m████████████████        \u001b[39m  0.5   \n",
      "2        10     -0.7071 + i0.0000    0.7071      180.00°   \u001b[38;2;37;232;234m████████████████        \u001b[39m  0.5   \n",
      "3        11      0.0000 + i0.0000    0.0                   \u001b[38;2;246;54;26m                        \u001b[39m  0.0   \n",
      "\n"
     ]
    }
   ],
   "source": [
    "print_state_table(bell_state4)"
   ]
  },
  {
   "cell_type": "markdown",
   "id": "46b4c796",
   "metadata": {
    "ExecuteTime": {
     "end_time": "2023-11-01T18:42:27.124110Z",
     "start_time": "2023-11-01T18:42:27.110404Z"
    }
   },
   "source": [
    "### Multi-qubit states (section 4.2.2)"
   ]
  },
  {
   "cell_type": "markdown",
   "id": "380ebb17",
   "metadata": {
    "collapsed": false,
    "jupyter": {
     "outputs_hidden": false
    }
   },
   "source": [
    "Let's define a state with the following eight complex numbers:"
   ]
  },
  {
   "cell_type": "code",
   "execution_count": 16,
   "id": "f6ad9000",
   "metadata": {
    "ExecuteTime": {
     "end_time": "2023-11-01T18:20:20.836335Z",
     "start_time": "2023-11-01T18:20:20.826506Z"
    }
   },
   "outputs": [],
   "source": [
    "amplitude_list = [(0.09858+0.03637j),\n",
    "                (0.07478+0.06912j),\n",
    "                (0.04852+0.10526j),\n",
    "                (0.00641+0.16322j),\n",
    "                (-0.12895+0.34953j),\n",
    "                (0.58403-0.6318j),\n",
    "                (0.18795-0.08665j),\n",
    "                (0.12867-0.00506j)]"
   ]
  },
  {
   "cell_type": "markdown",
   "id": "d90c89ae",
   "metadata": {
    "ExecuteTime": {
     "end_time": "2023-11-01T18:42:27.124311Z",
     "start_time": "2023-11-01T18:42:27.114507Z"
    }
   },
   "source": [
    "Listing 4.1 Function to check whether a list is a valid quantum state"
   ]
  },
  {
   "cell_type": "code",
   "execution_count": 17,
   "id": "6433a976",
   "metadata": {
    "ExecuteTime": {
     "end_time": "2023-11-01T18:42:27.124379Z",
     "start_time": "2023-11-01T18:42:27.117724Z"
    }
   },
   "outputs": [],
   "source": [
    "from math import log2, ceil, floor\n",
    "from util import is_close\n",
    "\n",
    "def is_power_of_two(m):\n",
    "    return ceil(log2(m)) == floor(log2(m))\n",
    "\n",
    "def prepare_state(*a):\n",
    "    state = [a[k] for k in range(len(a))]\n",
    "    assert (is_power_of_two(len(state))) # checks that the length of the list is a power of 2\n",
    "    assert (is_close(sum([abs(state[k]) ** 2 for k in range(len(state))]), 1.0)) # checks that the squared magnitudes add up to 1\n",
    "    return state # if the conditions are met, we return the state"
   ]
  },
  {
   "cell_type": "code",
   "execution_count": 18,
   "id": "727a56d7",
   "metadata": {
    "ExecuteTime": {
     "end_time": "2023-11-01T18:42:27.137781Z",
     "start_time": "2023-11-01T18:42:27.121604Z"
    }
   },
   "outputs": [],
   "source": [
    "state = prepare_state(*amplitude_list)"
   ]
  },
  {
   "cell_type": "markdown",
   "id": "8c2fde3b",
   "metadata": {
    "collapsed": false,
    "jupyter": {
     "outputs_hidden": false
    }
   },
   "source": [
    "**Building state tables with Python list comprehensions**"
   ]
  },
  {
   "cell_type": "markdown",
   "id": "49171e3f",
   "metadata": {
    "collapsed": false,
    "jupyter": {
     "outputs_hidden": false
    }
   },
   "source": [
    "List comprehension for outcomes and corresponding probabilities:"
   ]
  },
  {
   "cell_type": "code",
   "execution_count": 19,
   "id": "981fc995",
   "metadata": {
    "ExecuteTime": {
     "end_time": "2023-11-01T18:42:27.138699Z",
     "start_time": "2023-11-01T18:42:27.126610Z"
    }
   },
   "outputs": [
    {
     "name": "stdout",
     "output_type": "stream",
     "text": [
      "[[0, (0.09858+0.03637j)], [1, (0.07478+0.06912j)], [2, (0.04852+0.10526j)], [3, (0.00641+0.16322j)], [4, (-0.12895+0.34953j)], [5, (0.58403-0.6318j)], [6, (0.18795-0.08665j)], [7, (0.12867-0.00506j)]]\n"
     ]
    }
   ],
   "source": [
    "print([[k, state[k]] for k in range(len(state))])"
   ]
  },
  {
   "cell_type": "markdown",
   "id": "134e38aa",
   "metadata": {
    "collapsed": false,
    "jupyter": {
     "outputs_hidden": false
    }
   },
   "source": [
    "We can use the following list comprehension to add probabilities with direction, derived from amplitudes:"
   ]
  },
  {
   "cell_type": "code",
   "execution_count": 20,
   "id": "29eb1ae6",
   "metadata": {
    "ExecuteTime": {
     "end_time": "2023-11-01T18:42:27.169111Z",
     "start_time": "2023-11-01T18:42:27.130956Z"
    }
   },
   "outputs": [
    {
     "name": "stdout",
     "output_type": "stream",
     "text": [
      "[0, 20.25098, 0.01104]\n",
      "[1, 42.74755, 0.01037]\n",
      "[2, 65.25248, 0.01343]\n",
      "[3, 87.75103, 0.02668]\n",
      "[4, 110.25023, 0.1388]\n",
      "[5, -47.25, 0.74026]\n",
      "[6, -24.75097, 0.04283]\n",
      "[7, -2.25202, 0.01658]\n"
     ]
    }
   ],
   "source": [
    "from math import atan2\n",
    "\n",
    "table1 = [\n",
    "    [\n",
    "        k,\n",
    "        round(atan2(state[k].imag, state[k].real) / (2 * pi) * 360, 5),\n",
    "        round(abs(state[k]) ** 2, 5)\n",
    "    ]\n",
    "    for k in range(len(state))\n",
    "]\n",
    "\n",
    "for row in table1:\n",
    "    print(row)"
   ]
  },
  {
   "cell_type": "markdown",
   "id": "6329c444",
   "metadata": {
    "collapsed": false,
    "jupyter": {
     "outputs_hidden": false
    }
   },
   "source": [
    "We can build an expanded version of the state table that includes the direction and magnitude of amplitudes, as well as the probability of the outcomes:"
   ]
  },
  {
   "cell_type": "code",
   "execution_count": 21,
   "id": "f9b7a408",
   "metadata": {
    "ExecuteTime": {
     "end_time": "2023-11-01T18:42:27.171263Z",
     "start_time": "2023-11-01T18:42:27.135734Z"
    }
   },
   "outputs": [
    {
     "name": "stdout",
     "output_type": "stream",
     "text": [
      "[0, (0.09858+0.03637j), 20.25098, 0.10508, 0.01104]\n",
      "[1, (0.07478+0.06912j), 42.74755, 0.10183, 0.01037]\n",
      "[2, (0.04852+0.10526j), 65.25248, 0.1159, 0.01343]\n",
      "[3, (0.00641+0.16322j), 87.75103, 0.16335, 0.02668]\n",
      "[4, (-0.12895+0.34953j), 110.25023, 0.37256, 0.1388]\n",
      "[5, (0.58403-0.6318j), -47.25, 0.86038, 0.74026]\n",
      "[6, (0.18795-0.08665j), -24.75097, 0.20696, 0.04283]\n",
      "[7, (0.12867-0.00506j), -2.25202, 0.12877, 0.01658]\n"
     ]
    }
   ],
   "source": [
    "expanded_table = [\n",
    "    [\n",
    "        k,\n",
    "        state[k],\n",
    "        round(atan2(state[k].imag, state[k].real) / (2 * pi) * 360, 5),\n",
    "        round(abs(state[k]), 5),\n",
    "        round(abs(state[k]) ** 2, 5)\n",
    "    ]\n",
    "    for k in range(len(state))\n",
    "]\n",
    "\n",
    "for row in expanded_table:\n",
    "    print(row)"
   ]
  },
  {
   "cell_type": "markdown",
   "id": "4b8252f8",
   "metadata": {
    "collapsed": false,
    "jupyter": {
     "outputs_hidden": false
    }
   },
   "source": [
    "we can use the following list comprehension to get amplitudes from directions and probabilities:"
   ]
  },
  {
   "cell_type": "code",
   "execution_count": 22,
   "id": "77bdc2f5",
   "metadata": {
    "ExecuteTime": {
     "end_time": "2023-11-01T18:42:27.381941Z",
     "start_time": "2023-11-01T18:42:27.145718Z"
    }
   },
   "outputs": [
    {
     "name": "stdout",
     "output_type": "stream",
     "text": [
      "[0, (0.09858+0.03637j)]\n",
      "[1, (0.07478+0.06912j)]\n",
      "[2, (0.04851+0.10524j)]\n",
      "[3, (0.00641+0.16321j)]\n",
      "[4, (-0.12895+0.34953j)]\n",
      "[5, (0.58403-0.6318j)]\n",
      "[6, (0.18794-0.08665j)]\n",
      "[7, (0.12866-0.00506j)]\n"
     ]
    }
   ],
   "source": [
    "table2 = [\n",
    "    [\n",
    "        row[0],\n",
    "        (\n",
    "            round(sqrt(row[2]) * cos(row[1] / (180 / pi)), 5) +\n",
    "            round(sqrt(row[2]) * sin(row[1] / (180 / pi)), 5) * 1j\n",
    "        )\n",
    "    ]\n",
    "    for row in table1\n",
    "]\n",
    "\n",
    "for row in table2:\n",
    "        print(row)"
   ]
  },
  {
   "cell_type": "code",
   "execution_count": 23,
   "id": "1f9c0f8d",
   "metadata": {
    "ExecuteTime": {
     "end_time": "2023-11-01T18:20:21.094416Z",
     "start_time": "2023-11-01T18:20:20.853680Z"
    }
   },
   "outputs": [
    {
     "name": "stdout",
     "output_type": "stream",
     "text": [
      "\n",
      "Outcome  Binary  Amplitude           Magnitude  Direction  Amplitude Bar             Probability\n",
      "------------------------------------------------------------------------------------------------\n",
      "0        000     0.0986 + i0.0364    0.1051       20.26°   \u001b[38;2;251;107;2m██                      \u001b[39m  0.011 \n",
      "1        001     0.0748 + i0.0691    0.1018       42.73°   \u001b[38;2;255;172;0m██                      \u001b[39m  0.0104\n",
      "2        010     0.0485 + i0.1053    0.1159       65.27°   \u001b[38;2;232;209;0m██                      \u001b[39m  0.0134\n",
      "3        011     0.0064 + i0.1632    0.1633       87.75°   \u001b[38;2;162;188;0m███                     \u001b[39m  0.0267\n",
      "4        100    -0.1290 + i0.3495    0.3726      110.26°   \u001b[38;2;85;158;13m████████                \u001b[39m  0.1388\n",
      "5        101     0.5840 - i0.6318    0.8604      -47.75°   \u001b[38;2;255;168;191m████████████████████    \u001b[39m  0.7403\n",
      "6        110     0.1880 - i0.0867    0.207       -24.24°   \u001b[38;2;255;108;104m████                    \u001b[39m  0.0428\n",
      "7        111     0.1287 - i0.0051    0.1288       -2.73°   \u001b[38;2;247;53;32m███                     \u001b[39m  0.0166\n",
      "\n"
     ]
    }
   ],
   "source": [
    "print_state_table(state)"
   ]
  },
  {
   "cell_type": "markdown",
   "id": "fb02c5f0",
   "metadata": {},
   "source": [
    "### Simulating multi-qubit states in Python (section 4.2.3)"
   ]
  },
  {
   "cell_type": "markdown",
   "id": "49119c21",
   "metadata": {
    "ExecuteTime": {
     "end_time": "2023-11-01T18:42:27.386613Z",
     "start_time": "2023-11-01T18:42:27.380461Z"
    }
   },
   "source": [
    "Listing 4.2 Function to create a default quantum state"
   ]
  },
  {
   "cell_type": "code",
   "execution_count": 24,
   "id": "c8918a10",
   "metadata": {
    "ExecuteTime": {
     "end_time": "2023-11-01T18:42:27.388722Z",
     "start_time": "2023-11-01T18:42:27.384207Z"
    }
   },
   "outputs": [],
   "source": [
    "def init_state(n):\n",
    "    state = [0 for _ in range(2 ** n)] # given n qubits, the state will contain 2^n complex numbers\n",
    "    state[0] = 1 # the amplitude corresponding to outcome 0 (the first amplitude in the list) will have a value of 1\n",
    "    return state"
   ]
  },
  {
   "cell_type": "markdown",
   "id": "e15660c5",
   "metadata": {
    "collapsed": false,
    "jupyter": {
     "outputs_hidden": false
    }
   },
   "source": [
    "Initialize a two-qubit state:"
   ]
  },
  {
   "cell_type": "code",
   "execution_count": 25,
   "id": "2c4b2a0d",
   "metadata": {
    "ExecuteTime": {
     "end_time": "2023-11-01T18:20:21.101910Z",
     "start_time": "2023-11-01T18:20:21.095544Z"
    }
   },
   "outputs": [
    {
     "data": {
      "text/plain": [
       "[1, 0, 0, 0]"
      ]
     },
     "execution_count": 25,
     "metadata": {},
     "output_type": "execute_result"
    }
   ],
   "source": [
    "state = init_state(2)\n",
    "state"
   ]
  },
  {
   "cell_type": "markdown",
   "id": "29fdc282",
   "metadata": {},
   "source": [
    "### Pair selection in Python (section 4.3.2)"
   ]
  },
  {
   "cell_type": "markdown",
   "id": "ef5fc4be",
   "metadata": {
    "ExecuteTime": {
     "end_time": "2023-11-01T18:42:27.392878Z",
     "start_time": "2023-11-01T18:42:27.388334Z"
    }
   },
   "source": [
    "Listing 4.3 Traverse-by-chunk method for selecting pairs"
   ]
  },
  {
   "cell_type": "code",
   "execution_count": 26,
   "id": "988535b2",
   "metadata": {
    "ExecuteTime": {
     "end_time": "2023-11-01T18:42:27.439281Z",
     "start_time": "2023-11-01T18:42:27.403413Z"
    }
   },
   "outputs": [],
   "source": [
    "def pair_generator_pattern(n, t):\n",
    "    distance = int(2 ** t) # distance is the size of each chunk\n",
    "\n",
    "    for j in range(2**(n-t-1)):\n",
    "        for k0 in range(2*j*distance, (2*j+1)*distance): # get the 0 side of each pair\n",
    "            k1 = k0 + distance # get the 1 side of the pair by adding the distance (2^t)\n",
    "            yield k0, k1"
   ]
  },
  {
   "cell_type": "markdown",
   "id": "189b5bc1",
   "metadata": {
    "collapsed": false,
    "jupyter": {
     "outputs_hidden": false
    }
   },
   "source": [
    "Example of generate the pairs using this method for three qubits (`n = 3`) and target qubit 0 (`t = 1`):"
   ]
  },
  {
   "cell_type": "code",
   "execution_count": 27,
   "id": "bc6f4797",
   "metadata": {
    "ExecuteTime": {
     "end_time": "2023-11-01T18:20:21.152313Z",
     "start_time": "2023-11-01T18:20:21.115773Z"
    }
   },
   "outputs": [
    {
     "name": "stdout",
     "output_type": "stream",
     "text": [
      "0 1\n",
      "2 3\n",
      "4 5\n",
      "6 7\n"
     ]
    }
   ],
   "source": [
    "for (k0, k1) in pair_generator_pattern(3, 0):\n",
    "    print(k0, k1)"
   ]
  },
  {
   "cell_type": "markdown",
   "id": "89e9ad78",
   "metadata": {},
   "source": [
    "### Simulating amplitude changes (section 4.3.3)"
   ]
  },
  {
   "cell_type": "markdown",
   "id": "ffb33aec",
   "metadata": {
    "ExecuteTime": {
     "end_time": "2023-11-01T18:42:27.439946Z",
     "start_time": "2023-11-01T18:42:27.415226Z"
    }
   },
   "source": [
    "Listing 4.4 Functions for simulating a gate transformation on a multi-qubit state"
   ]
  },
  {
   "cell_type": "code",
   "execution_count": 28,
   "id": "531b3aa9",
   "metadata": {
    "ExecuteTime": {
     "end_time": "2023-11-01T18:42:27.440014Z",
     "start_time": "2023-11-01T18:42:27.417873Z"
    }
   },
   "outputs": [],
   "source": [
    "def process_pair(state, gate, k0, k1):\n",
    "    x = state[k0] # get the original amplitudes of the pair\n",
    "    y = state[k1] # computes the amplitudes given the gate definition and replace the old amplitudes in the state list\n",
    "    state[k0] = x * gate[0][0] + y * gate[0][1]\n",
    "    state[k1] = x * gate[1][0] + y * gate[1][1]\n",
    "\n",
    "def transform(state, t, gate):\n",
    "    n = int(log2(len(state))) # gets the number of qubits in the state\n",
    "    for (k0, k1) in pair_generator(n, t): # calls pair_generator which returns pairs as tuples given a number of qubits (n) and target qubit (t)\n",
    "        process_pair(state, gate, k0, k1) # for each pair, call process_pair to compute the new amplitudes"
   ]
  },
  {
   "cell_type": "code",
   "execution_count": 29,
   "id": "f1b8d543",
   "metadata": {
    "ExecuteTime": {
     "end_time": "2023-11-01T18:42:27.440434Z",
     "start_time": "2023-11-01T18:42:27.421311Z"
    }
   },
   "outputs": [],
   "source": [
    "pair_generator = pair_generator_pattern"
   ]
  },
  {
   "cell_type": "markdown",
   "id": "c088f52f",
   "metadata": {
    "collapsed": false,
    "jupyter": {
     "outputs_hidden": false
    }
   },
   "source": [
    "Example state:"
   ]
  },
  {
   "cell_type": "code",
   "execution_count": 30,
   "id": "87dfee49",
   "metadata": {
    "ExecuteTime": {
     "end_time": "2023-11-01T18:42:27.440706Z",
     "start_time": "2023-11-01T18:42:27.423829Z"
    }
   },
   "outputs": [],
   "source": [
    "state = [(0.09858+0.03637j),\n",
    "        (0.07478+0.06912j),\n",
    "        (0.04852+0.10526j),\n",
    "        (0.00641+0.16322j),\n",
    "        (-0.12895+0.34953j),\n",
    "        (0.58403-0.6318j),\n",
    "        (0.18795-0.08665j),\n",
    "        (0.12867-0.00506j)]"
   ]
  },
  {
   "cell_type": "markdown",
   "id": "59930eb5",
   "metadata": {
    "collapsed": false,
    "jupyter": {
     "outputs_hidden": false
    }
   },
   "source": [
    "Apply an X-gate to target qubit 0:"
   ]
  },
  {
   "cell_type": "code",
   "execution_count": 31,
   "id": "8bf2c062",
   "metadata": {
    "ExecuteTime": {
     "end_time": "2023-11-01T18:20:21.153831Z",
     "start_time": "2023-11-01T18:20:21.136375Z"
    }
   },
   "outputs": [
    {
     "data": {
      "text/plain": [
       "[(0.07478+0.06912j),\n",
       " (0.09858+0.03637j),\n",
       " (0.00641+0.16322j),\n",
       " (0.04852+0.10526j),\n",
       " (0.58403-0.6318j),\n",
       " (-0.12895+0.34953j),\n",
       " (0.12867-0.00506j),\n",
       " (0.18795-0.08665j)]"
      ]
     },
     "execution_count": 31,
     "metadata": {},
     "output_type": "execute_result"
    }
   ],
   "source": [
    "from sim_gates import * # imports the gate definitions added to the source code from chapter 3\n",
    "\n",
    "transform(state, 0, x)\n",
    "state"
   ]
  },
  {
   "cell_type": "markdown",
   "id": "4274e6da",
   "metadata": {
    "ExecuteTime": {
     "end_time": "2023-11-01T18:42:27.440821Z",
     "start_time": "2023-11-01T18:42:27.428842Z"
    }
   },
   "source": [
    "### Encoding a uniform distribution in a multi-qubit quantum system (section 4.3.4)"
   ]
  },
  {
   "cell_type": "markdown",
   "id": "360780a9",
   "metadata": {
    "collapsed": false,
    "jupyter": {
     "outputs_hidden": false
    }
   },
   "source": [
    "First, we initialize a three-qubit state:"
   ]
  },
  {
   "cell_type": "code",
   "execution_count": 32,
   "id": "1ee1eec0",
   "metadata": {
    "ExecuteTime": {
     "end_time": "2023-11-01T18:42:27.441262Z",
     "start_time": "2023-11-01T18:42:27.431937Z"
    }
   },
   "outputs": [],
   "source": [
    "state = init_state(3)"
   ]
  },
  {
   "cell_type": "code",
   "execution_count": 33,
   "id": "f13f1e04",
   "metadata": {
    "ExecuteTime": {
     "end_time": "2023-11-01T18:42:27.441966Z",
     "start_time": "2023-11-01T18:42:27.435750Z"
    }
   },
   "outputs": [
    {
     "name": "stdout",
     "output_type": "stream",
     "text": [
      "[1, 0, 0, 0, 0, 0, 0, 0]\n"
     ]
    }
   ],
   "source": [
    "print(state)"
   ]
  },
  {
   "cell_type": "markdown",
   "id": "314abfaa",
   "metadata": {
    "collapsed": false,
    "jupyter": {
     "outputs_hidden": false
    }
   },
   "source": [
    "Apply a Hadamard gate to target qubit 0:"
   ]
  },
  {
   "cell_type": "code",
   "execution_count": 34,
   "id": "86a96993",
   "metadata": {
    "ExecuteTime": {
     "end_time": "2023-11-01T18:42:27.495179Z",
     "start_time": "2023-11-01T18:42:27.439709Z"
    }
   },
   "outputs": [
    {
     "name": "stdout",
     "output_type": "stream",
     "text": [
      "[0.7071067811865475, 0.7071067811865475, 0.0, 0.0, 0.0, 0.0, 0.0, 0.0]\n"
     ]
    }
   ],
   "source": [
    "transform(state, 0, h)\n",
    "print(state)"
   ]
  },
  {
   "cell_type": "markdown",
   "id": "7499bff6",
   "metadata": {
    "collapsed": false,
    "jupyter": {
     "outputs_hidden": false
    }
   },
   "source": [
    "Apply a Hadamard gate to target qubit 1:"
   ]
  },
  {
   "cell_type": "code",
   "execution_count": 35,
   "id": "2ea6d0e4",
   "metadata": {
    "ExecuteTime": {
     "end_time": "2023-11-01T18:42:27.495971Z",
     "start_time": "2023-11-01T18:42:27.443776Z"
    }
   },
   "outputs": [
    {
     "name": "stdout",
     "output_type": "stream",
     "text": [
      "[0.7071067811865475, 0.0, 0.7071067811865475, 0.0, 0.0, 0.0, 0.0, 0.0]\n"
     ]
    }
   ],
   "source": [
    "state = init_state(3)\n",
    "transform(state, 1, h)\n",
    "print(state)"
   ]
  },
  {
   "cell_type": "markdown",
   "id": "582fb356",
   "metadata": {
    "collapsed": false,
    "jupyter": {
     "outputs_hidden": false
    }
   },
   "source": [
    "Apply a Hadamard gate to each qubit:"
   ]
  },
  {
   "cell_type": "code",
   "execution_count": 36,
   "id": "bf890817",
   "metadata": {
    "ExecuteTime": {
     "end_time": "2023-11-01T18:42:27.677539Z",
     "start_time": "2023-11-01T18:42:27.447715Z"
    }
   },
   "outputs": [
    {
     "name": "stdout",
     "output_type": "stream",
     "text": [
      "[0.3535533905932737, 0.3535533905932737, 0.3535533905932737, 0.3535533905932737, 0.3535533905932737, 0.3535533905932737, 0.3535533905932737, 0.3535533905932737]\n"
     ]
    }
   ],
   "source": [
    "state = init_state(3)\n",
    "transform(state, 0, h)\n",
    "transform(state, 1, h)\n",
    "transform(state, 2, h)\n",
    "print(state)"
   ]
  },
  {
   "cell_type": "markdown",
   "id": "459e5848",
   "metadata": {
    "collapsed": false,
    "jupyter": {
     "outputs_hidden": false
    }
   },
   "source": [
    "Applying a Hadamard gate to each qubit creates a state where each outcome has an equal probability.\n",
    "Thus, the state will have a uniform probability distribution."
   ]
  },
  {
   "cell_type": "code",
   "execution_count": 37,
   "id": "0a1f1ed1",
   "metadata": {
    "ExecuteTime": {
     "end_time": "2023-11-01T18:20:21.387527Z",
     "start_time": "2023-11-01T18:20:21.161266Z"
    }
   },
   "outputs": [
    {
     "name": "stdout",
     "output_type": "stream",
     "text": [
      "\n",
      "Outcome  Binary  Amplitude           Magnitude  Direction  Amplitude Bar             Probability\n",
      "------------------------------------------------------------------------------------------------\n",
      "0        000     0.3536 + i0.0000    0.3536        0.00°   \u001b[38;2;246;54;26m████████                \u001b[39m  0.125 \n",
      "1        001     0.3536 + i0.0000    0.3536        0.00°   \u001b[38;2;246;54;26m████████                \u001b[39m  0.125 \n",
      "2        010     0.3536 + i0.0000    0.3536        0.00°   \u001b[38;2;246;54;26m████████                \u001b[39m  0.125 \n",
      "3        011     0.3536 + i0.0000    0.3536        0.00°   \u001b[38;2;246;54;26m████████                \u001b[39m  0.125 \n",
      "4        100     0.3536 + i0.0000    0.3536        0.00°   \u001b[38;2;246;54;26m████████                \u001b[39m  0.125 \n",
      "5        101     0.3536 + i0.0000    0.3536        0.00°   \u001b[38;2;246;54;26m████████                \u001b[39m  0.125 \n",
      "6        110     0.3536 + i0.0000    0.3536        0.00°   \u001b[38;2;246;54;26m████████                \u001b[39m  0.125 \n",
      "7        111     0.3536 + i0.0000    0.3536        0.00°   \u001b[38;2;246;54;26m████████                \u001b[39m  0.125 \n",
      "\n"
     ]
    }
   ],
   "source": [
    "print_state_table(state)"
   ]
  },
  {
   "cell_type": "markdown",
   "id": "34f091d4",
   "metadata": {},
   "source": [
    "### Simulating controlled gates in Python (section 4.4.1)"
   ]
  },
  {
   "cell_type": "markdown",
   "id": "39d244fa",
   "metadata": {
    "ExecuteTime": {
     "end_time": "2023-11-01T18:42:27.680700Z",
     "start_time": "2023-11-01T18:42:27.677797Z"
    }
   },
   "source": [
    "Listing 4.5 Applying controlled gate transformations to a state"
   ]
  },
  {
   "cell_type": "code",
   "execution_count": 38,
   "id": "5ddba81a",
   "metadata": {
    "ExecuteTime": {
     "end_time": "2023-11-01T18:42:27.688283Z",
     "start_time": "2023-11-01T18:42:27.681049Z"
    }
   },
   "outputs": [],
   "source": [
    "def is_bit_set(m, k):\n",
    "    return m & (1 << k) != 0\n",
    "\n",
    "def c_transform(state, c, t, gate):\n",
    "    n = int(log2(len(state))) # uses the same pair generation function as for regular transforms with a filter to check if the control position is 1\n",
    "    for (k0, k1) in filter(lambda p: is_bit_set(p[0], c), pair_generator(n, t)): # once we get the right subset of pairs, we recombine the amplitudes according to the gate\n",
    "        process_pair(state, gate, k0, k1)"
   ]
  },
  {
   "cell_type": "markdown",
   "id": "8d9ae7b7",
   "metadata": {
    "collapsed": false,
    "jupyter": {
     "outputs_hidden": false
    }
   },
   "source": [
    "Example state:"
   ]
  },
  {
   "cell_type": "code",
   "execution_count": 39,
   "id": "d4c28a68",
   "metadata": {
    "ExecuteTime": {
     "end_time": "2023-11-01T18:42:27.688577Z",
     "start_time": "2023-11-01T18:42:27.684272Z"
    }
   },
   "outputs": [],
   "source": [
    "state = [(0.09858+0.03637j),\n",
    "        (0.07478+0.06912j),\n",
    "        (0.04852+0.10526j),\n",
    "        (0.00641+0.16322j),\n",
    "        (-0.12895+0.34953j),\n",
    "        (0.58403-0.6318j),\n",
    "        (0.18795-0.08665j),\n",
    "        (0.12867-0.00506j)]"
   ]
  },
  {
   "cell_type": "markdown",
   "id": "aa062704",
   "metadata": {
    "collapsed": false,
    "jupyter": {
     "outputs_hidden": false
    }
   },
   "source": [
    "Apply a controlled X-gate to target qubit 2 with control qubit 1:"
   ]
  },
  {
   "cell_type": "code",
   "execution_count": 40,
   "id": "ed6244bc",
   "metadata": {
    "ExecuteTime": {
     "end_time": "2023-11-01T18:20:21.400519Z",
     "start_time": "2023-11-01T18:20:21.394273Z"
    }
   },
   "outputs": [
    {
     "name": "stdout",
     "output_type": "stream",
     "text": [
      "[(0.09858+0.03637j), (0.07478+0.06912j), (0.18795-0.08665j), (0.12867-0.00506j), (-0.12895+0.34953j), (0.58403-0.6318j), (0.04852+0.10526j), (0.00641+0.16322j)]\n"
     ]
    }
   ],
   "source": [
    "c_transform(state, 1, 2, x)\n",
    "print(state)"
   ]
  },
  {
   "cell_type": "markdown",
   "id": "1e96cbf1",
   "metadata": {},
   "source": [
    "### Simulating multi-control gates in Python (section 4.4.2)"
   ]
  },
  {
   "cell_type": "markdown",
   "id": "14061bef",
   "metadata": {
    "ExecuteTime": {
     "end_time": "2023-11-01T18:42:27.700659Z",
     "start_time": "2023-11-01T18:42:27.688895Z"
    }
   },
   "source": [
    "Listing 4.6 Applying multicontrolled gate transformations to a state"
   ]
  },
  {
   "cell_type": "code",
   "execution_count": 41,
   "id": "6385d0a9",
   "metadata": {
    "ExecuteTime": {
     "end_time": "2023-11-01T18:42:27.700878Z",
     "start_time": "2023-11-01T18:42:27.692235Z"
    }
   },
   "outputs": [],
   "source": [
    "def mc_transform(state, cs, t, gate):\n",
    "    assert not t in cs # the target qubit cannot be the same as the control qubits\n",
    "    n = int(log2(len(state))) # checks that the pairs have 1 in all the control qubit positions\n",
    "    for (k0, k1) in filter(lambda p: all([is_bit_set(p[0], c) for c in cs]), pair_generator(n, t)):\n",
    "        process_pair(state, gate, k0, k1) # recombines the amplitudes of the selected pairs"
   ]
  },
  {
   "cell_type": "markdown",
   "id": "f38b950b",
   "metadata": {
    "collapsed": false,
    "jupyter": {
     "outputs_hidden": false
    }
   },
   "source": [
    "Example state:"
   ]
  },
  {
   "cell_type": "code",
   "execution_count": 42,
   "id": "93c40050",
   "metadata": {
    "ExecuteTime": {
     "end_time": "2023-11-01T18:42:27.727643Z",
     "start_time": "2023-11-01T18:42:27.695697Z"
    }
   },
   "outputs": [],
   "source": [
    "state = [(0.09858+0.03637j), (0.07478+0.06912j), (0.04852+0.10526j),\n",
    "         (0.00641+0.16322j), (-0.12895+0.34953j), (0.58403-0.6318j),\n",
    "         (0.18795-0.08665j), (0.12867-0.00506j)]"
   ]
  },
  {
   "cell_type": "markdown",
   "id": "743a6a3e",
   "metadata": {
    "collapsed": false,
    "jupyter": {
     "outputs_hidden": false
    }
   },
   "source": [
    "If we apply a controlled transformation with two control qubits to a three-qubit state, there will be only one pair.\n",
    "For example, if the target qubit is 0, and the control qubits are 1 and 2, the pair selected will be '110' and '111' (outcomes 6 and 7).\n"
   ]
  },
  {
   "cell_type": "code",
   "execution_count": 43,
   "id": "01846bb9",
   "metadata": {
    "ExecuteTime": {
     "end_time": "2023-11-01T18:20:21.441628Z",
     "start_time": "2023-11-01T18:20:21.405662Z"
    }
   },
   "outputs": [
    {
     "name": "stdout",
     "output_type": "stream",
     "text": [
      "[(0.09858+0.03637j), (0.07478+0.06912j), (0.04852+0.10526j), (0.00641+0.16322j), (-0.12895+0.34953j), (0.58403-0.6318j), (0.12867-0.00506j), (0.18795-0.08665j)]\n"
     ]
    }
   ],
   "source": [
    "mc_transform(state, [1, 2], 0, x)\n",
    "print(state)"
   ]
  },
  {
   "cell_type": "markdown",
   "id": "11be7854",
   "metadata": {},
   "source": [
    "### Simulating measurement of multi-qubit states (section 4.5.1)"
   ]
  },
  {
   "cell_type": "markdown",
   "id": "08d58db1",
   "metadata": {
    "ExecuteTime": {
     "end_time": "2023-11-01T18:42:27.731292Z",
     "start_time": "2023-11-01T18:42:27.699992Z"
    }
   },
   "source": [
    "Listing 4.7 Simulating measurement of a quantum state"
   ]
  },
  {
   "cell_type": "code",
   "execution_count": 44,
   "id": "a4f12cc0",
   "metadata": {
    "ExecuteTime": {
     "end_time": "2023-11-01T18:42:27.731821Z",
     "start_time": "2023-11-01T18:42:27.702792Z"
    }
   },
   "outputs": [],
   "source": [
    "from random import choices\n",
    "from collections import Counter\n",
    "\n",
    "def measure(state, shots):\n",
    "    samples = choices(\n",
    "       range(len(state)),\n",
    "       [abs(state[k])**2 for k in range(len(state))],\n",
    "       k=shots)\n",
    "    counts = {}\n",
    "    for (k, v) in Counter(samples).items():\n",
    "        counts[k] = v\n",
    "    return counts"
   ]
  },
  {
   "cell_type": "markdown",
   "id": "6f585d13",
   "metadata": {
    "collapsed": false,
    "jupyter": {
     "outputs_hidden": false
    }
   },
   "source": [
    "Example state:"
   ]
  },
  {
   "cell_type": "code",
   "execution_count": 45,
   "id": "b190aab9",
   "metadata": {
    "ExecuteTime": {
     "end_time": "2023-11-01T18:42:27.731953Z",
     "start_time": "2023-11-01T18:42:27.707321Z"
    }
   },
   "outputs": [],
   "source": [
    "state = [(0.09858+0.03637j), (0.07478+0.06912j), (0.04852+0.10526j),\n",
    "         (0.00641+0.16322j), (-0.12895+0.34953j), (0.58403-0.6318j),\n",
    "         (0.18795-0.08665j), (0.12867-0.00506j)]"
   ]
  },
  {
   "cell_type": "code",
   "execution_count": 46,
   "id": "f9971afb",
   "metadata": {
    "ExecuteTime": {
     "end_time": "2023-11-01T18:42:27.732544Z",
     "start_time": "2023-11-01T18:42:27.711951Z"
    }
   },
   "outputs": [
    {
     "name": "stdout",
     "output_type": "stream",
     "text": [
      "probability of outcome 0 :  0.011\n",
      "probability of outcome 1 :  0.01\n",
      "probability of outcome 2 :  0.013\n",
      "probability of outcome 3 :  0.027\n",
      "probability of outcome 4 :  0.139\n",
      "probability of outcome 5 :  0.74\n",
      "probability of outcome 6 :  0.043\n",
      "probability of outcome 7 :  0.017\n"
     ]
    }
   ],
   "source": [
    "probabilities = [[k, abs(state[k])**2] for k in range(len(state))]\n",
    "\n",
    "for i in probabilities:\n",
    "    print(\"probability of outcome\", i[0], \": \", round(i[1], 3))"
   ]
  },
  {
   "cell_type": "markdown",
   "id": "5fcb7606",
   "metadata": {
    "collapsed": false,
    "jupyter": {
     "outputs_hidden": false
    }
   },
   "source": [
    "Let's simulate the outcomes of 100 executions of the computation which creates our example state:"
   ]
  },
  {
   "cell_type": "code",
   "execution_count": 47,
   "id": "2e8a2633",
   "metadata": {
    "ExecuteTime": {
     "end_time": "2023-11-01T18:20:21.442870Z",
     "start_time": "2023-11-01T18:20:21.419418Z"
    }
   },
   "outputs": [
    {
     "name": "stdout",
     "output_type": "stream",
     "text": [
      "{5: 83, 2: 3, 4: 10, 3: 2, 1: 1, 6: 1}\n"
     ]
    }
   ],
   "source": [
    "samples = measure(state, 100)\n",
    "print(samples)"
   ]
  },
  {
   "cell_type": "markdown",
   "id": "270f4058",
   "metadata": {},
   "source": [
    "### Quantum registers and circuits in code (section 4.5.2)"
   ]
  },
  {
   "cell_type": "markdown",
   "id": "60aa0780",
   "metadata": {
    "ExecuteTime": {
     "end_time": "2023-11-01T18:42:27.732694Z",
     "start_time": "2023-11-01T18:42:27.718333Z"
    }
   },
   "source": [
    "Listing 4.8 `QuantumRegister` class"
   ]
  },
  {
   "cell_type": "code",
   "execution_count": 48,
   "id": "17642e7e",
   "metadata": {
    "ExecuteTime": {
     "end_time": "2023-11-01T18:20:21.442950Z",
     "start_time": "2023-11-01T18:20:21.426759Z"
    }
   },
   "outputs": [],
   "source": [
    "class QuantumRegister:\n",
    "    def __init__(self, size, shift=0):\n",
    "        self.size = size\n",
    "        self.shift = shift\n",
    "\n",
    "    def __getitem__(self, key):\n",
    "        if isinstance(key, slice):\n",
    "            return [self[ii] for ii in range(*key.indices(len(self)))]\n",
    "        elif isinstance(key, int):\n",
    "            if key < 0:\n",
    "                key += len(self)\n",
    "            assert(0 <= key < self.size)\n",
    "            return self.shift + key\n",
    "\n",
    "    def __len__(self):\n",
    "        return self.size\n",
    "\n",
    "    def __iter__(self):\n",
    "        return list([self.shift + i for i in range(self.size)])\n",
    "\n",
    "    def __reversed__(self):\n",
    "        return list([self.shift + i for i in range(self.size)[::-1]])"
   ]
  },
  {
   "cell_type": "markdown",
   "id": "720741fc",
   "metadata": {
    "ExecuteTime": {
     "end_time": "2023-11-01T18:42:27.732755Z",
     "start_time": "2023-11-01T18:42:27.721470Z"
    }
   },
   "source": [
    "Listing 4.9 `QuantumTransformation` class"
   ]
  },
  {
   "cell_type": "code",
   "execution_count": 49,
   "id": "b359eddc",
   "metadata": {
    "ExecuteTime": {
     "end_time": "2023-11-01T18:20:21.443002Z",
     "start_time": "2023-11-01T18:20:21.429947Z"
    }
   },
   "outputs": [],
   "source": [
    "class QuantumTransformation:\n",
    "    def __init__(self, gate, target, controls=[], name=None, arg=None):\n",
    "        self.gate = gate\n",
    "        self.target= target\n",
    "        self.controls = controls\n",
    "        self.name = name\n",
    "        self.arg = arg\n",
    "\n",
    "    def __str__(self):\n",
    "        return rf'{self.name} {round(self.arg, 2) if self.arg is not None else \"\"} '\\\n",
    "               f'{self.controls} {self.target}'\n",
    "\n",
    "    def __copy__(self):\n",
    "        return QuantumTransformation(\n",
    "            self.gate,\n",
    "            self.target,\n",
    "            self.controls,\n",
    "            self.name,\n",
    "            self.arg\n",
    "        )"
   ]
  },
  {
   "cell_type": "markdown",
   "id": "cec0c289",
   "metadata": {
    "ExecuteTime": {
     "end_time": "2023-11-01T18:42:27.745081Z",
     "start_time": "2023-11-01T18:42:27.728624Z"
    }
   },
   "source": [
    "Listing 4.10 Partial implementation of the `QuantumCircuit` class"
   ]
  },
  {
   "cell_type": "code",
   "execution_count": 50,
   "id": "5d76730e",
   "metadata": {
    "ExecuteTime": {
     "end_time": "2023-11-01T18:42:27.776773Z",
     "start_time": "2023-11-01T18:42:27.731989Z"
    }
   },
   "outputs": [],
   "source": [
    "class QuantumCircuit:\n",
    "    def __init__(self, *args):\n",
    "        bits = 0\n",
    "        regs = []\n",
    "        for register in args:\n",
    "            register.shift = bits\n",
    "            bits += register.size\n",
    "            regs.append(register.size)\n",
    "\n",
    "        self.state = init_state(bits)\n",
    "        self.transformations = []\n",
    "        self.regs = regs\n",
    "        self.reports = {}\n",
    "\n",
    "    def initialize(self, state):\n",
    "        self.state = state\n",
    "\n",
    "    def x(self, t):\n",
    "        self.transformations.append(\n",
    "           QuantumTransformation(x, t, [], 'x'))\n",
    "\n",
    "    def h(self, t):\n",
    "        self.transformations.append(\n",
    "           QuantumTransformation(h, t, [], 'h'))\n",
    "\n",
    "    def ry(self, theta, t):\n",
    "        self.transformations.append(\n",
    "           QuantumTransformation(ry(theta), t, [], 'ry', theta))\n",
    "\n",
    "    def cx(self, c, t):\n",
    "        self.transformations.append(\n",
    "           QuantumTransformation(x, t, [c], 'x'))\n",
    "\n",
    "    def mcx(self, cs, t):\n",
    "        self.transformations.append(\n",
    "           QuantumTransformation(x, t, cs, 'x'))\n",
    "\n",
    "    def measure(self, shots=0):\n",
    "        state = self.run()\n",
    "        samples = measure(state, shots)\n",
    "        return {'state vector': state, 'counts': samples}\n",
    "\n",
    "    def run(self):\n",
    "        for tr in self.transformations:\n",
    "            cs = tr.controls\n",
    "            if len(cs) == 0:\n",
    "                transform(self.state, tr.target, tr.gate)\n",
    "            elif len(cs) == 1:\n",
    "                c_transform(self.state, cs[0], tr.target, tr.gate)\n",
    "            else:\n",
    "                mc_transform(self.state, cs, tr.target, tr.gate)\n",
    "        self.transformations = []\n",
    "        return self.state"
   ]
  },
  {
   "cell_type": "markdown",
   "id": "347fc495",
   "metadata": {
    "collapsed": false,
    "jupyter": {
     "outputs_hidden": false
    }
   },
   "source": [
    "Example three-qubit circuit:"
   ]
  },
  {
   "cell_type": "code",
   "execution_count": 51,
   "id": "25c580a6",
   "metadata": {
    "ExecuteTime": {
     "end_time": "2023-11-01T18:42:27.776962Z",
     "start_time": "2023-11-01T18:42:27.735198Z"
    }
   },
   "outputs": [],
   "source": [
    "q = QuantumRegister(3)\n",
    "qc = QuantumCircuit(q)\n",
    "\n",
    "qc.h(q[0])\n",
    "qc.h(q[1])\n",
    "qc.mcx([q[0], q[1]], q[2])"
   ]
  },
  {
   "cell_type": "markdown",
   "id": "4fb522b5",
   "metadata": {
    "collapsed": false,
    "jupyter": {
     "outputs_hidden": false
    }
   },
   "source": [
    "When we call the `run` function, the respective transformations will be applied to the state object, and the transformed state is returned:"
   ]
  },
  {
   "cell_type": "code",
   "execution_count": 52,
   "id": "8ab1317d",
   "metadata": {
    "ExecuteTime": {
     "end_time": "2023-11-01T18:42:27.957209Z",
     "start_time": "2023-11-01T18:42:27.742508Z"
    }
   },
   "outputs": [],
   "source": [
    "state = qc.run()"
   ]
  },
  {
   "cell_type": "code",
   "execution_count": 53,
   "id": "20fdd670",
   "metadata": {
    "ExecuteTime": {
     "end_time": "2023-11-01T18:42:27.962079Z",
     "start_time": "2023-11-01T18:42:27.957468Z"
    }
   },
   "outputs": [
    {
     "name": "stdout",
     "output_type": "stream",
     "text": [
      "\n",
      "Outcome  Binary  Amplitude           Magnitude  Direction  Amplitude Bar             Probability\n",
      "------------------------------------------------------------------------------------------------\n",
      "0        000     0.5000 + i0.0000    0.5           0.00°   \u001b[38;2;246;54;26m███████████             \u001b[39m  0.25  \n",
      "1        001     0.5000 + i0.0000    0.5           0.00°   \u001b[38;2;246;54;26m███████████             \u001b[39m  0.25  \n",
      "2        010     0.5000 + i0.0000    0.5           0.00°   \u001b[38;2;246;54;26m███████████             \u001b[39m  0.25  \n",
      "3        011     0.0000 + i0.0000    0.0                   \u001b[38;2;246;54;26m                        \u001b[39m  0.0   \n",
      "4        100     0.0000 + i0.0000    0.0                   \u001b[38;2;246;54;26m                        \u001b[39m  0.0   \n",
      "5        101     0.0000 + i0.0000    0.0                   \u001b[38;2;246;54;26m                        \u001b[39m  0.0   \n",
      "6        110     0.0000 + i0.0000    0.0                   \u001b[38;2;246;54;26m                        \u001b[39m  0.0   \n",
      "7        111     0.5000 + i0.0000    0.5           0.00°   \u001b[38;2;246;54;26m███████████             \u001b[39m  0.25  \n",
      "\n"
     ]
    }
   ],
   "source": [
    "print_state_table(state)"
   ]
  },
  {
   "cell_type": "markdown",
   "id": "375e9820",
   "metadata": {
    "collapsed": false,
    "jupyter": {
     "outputs_hidden": false
    }
   },
   "source": [
    "We can simulate measurement on the resulting state with the `measure` function:"
   ]
  },
  {
   "cell_type": "code",
   "execution_count": 54,
   "id": "2bbc6cd4",
   "metadata": {
    "ExecuteTime": {
     "end_time": "2023-11-01T18:20:21.667250Z",
     "start_time": "2023-11-01T18:20:21.663522Z"
    }
   },
   "outputs": [
    {
     "name": "stdout",
     "output_type": "stream",
     "text": [
      "{2: 245, 7: 238, 0: 267, 1: 250}\n"
     ]
    }
   ],
   "source": [
    "samples = measure(state, 1000)\n",
    "print(samples)"
   ]
  },
  {
   "cell_type": "markdown",
   "id": "6971ffc7",
   "metadata": {
    "ExecuteTime": {
     "end_time": "2023-11-01T18:42:27.965327Z",
     "start_time": "2023-11-01T18:42:27.961442Z"
    }
   },
   "source": [
    "### Reimplementing the uniform distribution with registers and circuits (section 4.5.3)"
   ]
  },
  {
   "cell_type": "code",
   "execution_count": 55,
   "id": "bad197c1",
   "metadata": {
    "ExecuteTime": {
     "end_time": "2023-11-01T18:42:28.189576Z",
     "start_time": "2023-11-01T18:42:27.972039Z"
    }
   },
   "outputs": [],
   "source": [
    "q = QuantumRegister(3)\n",
    "qc = QuantumCircuit(q)\n",
    "\n",
    "for i in range(len(q)):\n",
    "    qc.h(q[i])\n",
    "\n",
    "state = qc.run()"
   ]
  },
  {
   "cell_type": "code",
   "execution_count": 56,
   "id": "9acfc4e7",
   "metadata": {
    "ExecuteTime": {
     "end_time": "2023-11-01T18:20:21.896696Z",
     "start_time": "2023-11-01T18:20:21.672618Z"
    }
   },
   "outputs": [
    {
     "name": "stdout",
     "output_type": "stream",
     "text": [
      "\n",
      "Outcome  Binary  Amplitude           Magnitude  Direction  Amplitude Bar             Probability\n",
      "------------------------------------------------------------------------------------------------\n",
      "0        000     0.3536 + i0.0000    0.3536        0.00°   \u001b[38;2;246;54;26m████████                \u001b[39m  0.125 \n",
      "1        001     0.3536 + i0.0000    0.3536        0.00°   \u001b[38;2;246;54;26m████████                \u001b[39m  0.125 \n",
      "2        010     0.3536 + i0.0000    0.3536        0.00°   \u001b[38;2;246;54;26m████████                \u001b[39m  0.125 \n",
      "3        011     0.3536 + i0.0000    0.3536        0.00°   \u001b[38;2;246;54;26m████████                \u001b[39m  0.125 \n",
      "4        100     0.3536 + i0.0000    0.3536        0.00°   \u001b[38;2;246;54;26m████████                \u001b[39m  0.125 \n",
      "5        101     0.3536 + i0.0000    0.3536        0.00°   \u001b[38;2;246;54;26m████████                \u001b[39m  0.125 \n",
      "6        110     0.3536 + i0.0000    0.3536        0.00°   \u001b[38;2;246;54;26m████████                \u001b[39m  0.125 \n",
      "7        111     0.3536 + i0.0000    0.3536        0.00°   \u001b[38;2;246;54;26m████████                \u001b[39m  0.125 \n",
      "\n"
     ]
    }
   ],
   "source": [
    "print_state_table(state)"
   ]
  },
  {
   "cell_type": "markdown",
   "id": "bd9bb319",
   "metadata": {
    "ExecuteTime": {
     "end_time": "2023-11-01T18:42:28.194384Z",
     "start_time": "2023-11-01T18:42:28.190571Z"
    }
   },
   "source": [
    "Listing 4.11 Encoding the uniform distribution in a quantum state"
   ]
  },
  {
   "cell_type": "code",
   "execution_count": 57,
   "id": "03b0a7fa",
   "metadata": {
    "ExecuteTime": {
     "end_time": "2023-11-01T18:20:21.899922Z",
     "start_time": "2023-11-01T18:20:21.896951Z"
    }
   },
   "outputs": [],
   "source": [
    "def uniform(n):\n",
    "    q = QuantumRegister(n)\n",
    "    qc = QuantumCircuit(q)\n",
    "\n",
    "    for i in range(len(q)):\n",
    "        qc.h(q[i])\n",
    "\n",
    "    return qc"
   ]
  },
  {
   "cell_type": "markdown",
   "id": "76e9ae33",
   "metadata": {
    "ExecuteTime": {
     "end_time": "2023-11-01T18:42:28.201371Z",
     "start_time": "2023-11-01T18:42:28.194006Z"
    }
   },
   "source": [
    "### Encoding the Binomial distribution in a multi-qubit state (section 4.5.4)"
   ]
  },
  {
   "cell_type": "code",
   "execution_count": 58,
   "id": "4b682513",
   "metadata": {
    "ExecuteTime": {
     "end_time": "2023-11-01T18:42:28.425578Z",
     "start_time": "2023-11-01T18:42:28.201562Z"
    }
   },
   "outputs": [],
   "source": [
    "q = QuantumRegister(3)\n",
    "qc = QuantumCircuit(q)\n",
    "\n",
    "for i in range(len(q)):\n",
    "    qc.ry(pi/3, q[i])\n",
    "\n",
    "state = qc.run()"
   ]
  },
  {
   "cell_type": "code",
   "execution_count": 59,
   "id": "39a016d7",
   "metadata": {
    "ExecuteTime": {
     "end_time": "2023-11-01T18:20:22.131046Z",
     "start_time": "2023-11-01T18:20:21.906323Z"
    }
   },
   "outputs": [
    {
     "name": "stdout",
     "output_type": "stream",
     "text": [
      "\n",
      "Outcome  Binary  Amplitude           Magnitude  Direction  Amplitude Bar             Probability\n",
      "------------------------------------------------------------------------------------------------\n",
      "0        000     0.6495 + i0.0000    0.6495        0.00°   \u001b[38;2;246;54;26m███████████████         \u001b[39m  0.4219\n",
      "1        001     0.3750 + i0.0000    0.375         0.00°   \u001b[38;2;246;54;26m█████████               \u001b[39m  0.1406\n",
      "2        010     0.3750 + i0.0000    0.375         0.00°   \u001b[38;2;246;54;26m█████████               \u001b[39m  0.1406\n",
      "3        011     0.2165 + i0.0000    0.2165        0.00°   \u001b[38;2;246;54;26m█████                   \u001b[39m  0.0469\n",
      "4        100     0.3750 + i0.0000    0.375         0.00°   \u001b[38;2;246;54;26m█████████               \u001b[39m  0.1406\n",
      "5        101     0.2165 + i0.0000    0.2165        0.00°   \u001b[38;2;246;54;26m█████                   \u001b[39m  0.0469\n",
      "6        110     0.2165 + i0.0000    0.2165        0.00°   \u001b[38;2;246;54;26m█████                   \u001b[39m  0.0469\n",
      "7        111     0.1250 + i0.0000    0.125         0.00°   \u001b[38;2;246;54;26m██                      \u001b[39m  0.0156\n",
      "\n"
     ]
    }
   ],
   "source": [
    "print_state_table(state)"
   ]
  },
  {
   "cell_type": "markdown",
   "id": "acb77c8e",
   "metadata": {
    "ExecuteTime": {
     "end_time": "2023-11-01T18:42:28.429886Z",
     "start_time": "2023-11-01T18:42:28.424623Z"
    }
   },
   "source": [
    "Listing 4.12 Encoding the binomial distribution in a quantum state"
   ]
  },
  {
   "cell_type": "code",
   "execution_count": 60,
   "id": "1796216d",
   "metadata": {
    "ExecuteTime": {
     "end_time": "2023-11-01T18:20:22.134210Z",
     "start_time": "2023-11-01T18:20:22.131222Z"
    }
   },
   "outputs": [],
   "source": [
    "def binomial(n, theta):\n",
    "    q = QuantumRegister(n)\n",
    "    qc = QuantumCircuit(q)\n",
    "\n",
    "    for i in range(len(q)): # Iterate through each qubit in the register and apply an Ry-gate\n",
    "        qc.ry(theta, q[i])\n",
    "    \n",
    "    return qc"
   ]
  },
  {
   "cell_type": "markdown",
   "id": "a641754e",
   "metadata": {
    "ExecuteTime": {
     "end_time": "2023-11-01T18:42:28.436694Z",
     "start_time": "2023-11-01T18:42:28.428215Z"
    }
   },
   "source": [
    "### Implementing the Bell states (section 4.5.5)"
   ]
  },
  {
   "cell_type": "markdown",
   "id": "4e128a51",
   "metadata": {
    "collapsed": false,
    "jupyter": {
     "outputs_hidden": false
    }
   },
   "source": [
    "First Bell state:"
   ]
  },
  {
   "cell_type": "code",
   "execution_count": 61,
   "id": "30b2e28d",
   "metadata": {
    "ExecuteTime": {
     "end_time": "2023-11-01T18:42:28.560587Z",
     "start_time": "2023-11-01T18:42:28.435246Z"
    }
   },
   "outputs": [],
   "source": [
    "q = QuantumRegister(2)\n",
    "qc = QuantumCircuit(q)\n",
    "\n",
    "qc.h(q[0])\n",
    "qc.cx(q[0], q[1])\n",
    "\n",
    "state = qc.run()"
   ]
  },
  {
   "cell_type": "code",
   "execution_count": 62,
   "id": "1946888c",
   "metadata": {
    "ExecuteTime": {
     "end_time": "2023-11-01T18:42:28.565091Z",
     "start_time": "2023-11-01T18:42:28.560157Z"
    }
   },
   "outputs": [
    {
     "name": "stdout",
     "output_type": "stream",
     "text": [
      "\n",
      "Outcome  Binary  Amplitude           Magnitude  Direction  Amplitude Bar             Probability\n",
      "------------------------------------------------------------------------------------------------\n",
      "0        00      0.7071 + i0.0000    0.7071        0.00°   \u001b[38;2;246;54;26m████████████████        \u001b[39m  0.5   \n",
      "1        01      0.0000 + i0.0000    0.0                   \u001b[38;2;246;54;26m                        \u001b[39m  0.0   \n",
      "2        10      0.0000 + i0.0000    0.0                   \u001b[38;2;246;54;26m                        \u001b[39m  0.0   \n",
      "3        11      0.7071 + i0.0000    0.7071        0.00°   \u001b[38;2;246;54;26m████████████████        \u001b[39m  0.5   \n",
      "\n"
     ]
    }
   ],
   "source": [
    "print_state_table(state)"
   ]
  },
  {
   "cell_type": "markdown",
   "id": "afaba8b3",
   "metadata": {
    "collapsed": false,
    "jupyter": {
     "outputs_hidden": false
    }
   },
   "source": [
    "Third Bell state:"
   ]
  },
  {
   "cell_type": "code",
   "execution_count": 63,
   "id": "408274a9",
   "metadata": {
    "ExecuteTime": {
     "end_time": "2023-11-01T18:42:28.691365Z",
     "start_time": "2023-11-01T18:42:28.564913Z"
    }
   },
   "outputs": [],
   "source": [
    "q = QuantumRegister(2)\n",
    "qc = QuantumCircuit(q)\n",
    "\n",
    "qc.h(q[0])\n",
    "qc.x(q[1])\n",
    "qc.cx(q[0], q[1])\n",
    "\n",
    "state = qc.run()"
   ]
  },
  {
   "cell_type": "code",
   "execution_count": 64,
   "id": "898bcd92",
   "metadata": {
    "ExecuteTime": {
     "end_time": "2023-11-01T18:20:22.398811Z",
     "start_time": "2023-11-01T18:20:22.283304Z"
    }
   },
   "outputs": [
    {
     "name": "stdout",
     "output_type": "stream",
     "text": [
      "\n",
      "Outcome  Binary  Amplitude           Magnitude  Direction  Amplitude Bar             Probability\n",
      "------------------------------------------------------------------------------------------------\n",
      "0        00      0.0000 + i0.0000    0.0                   \u001b[38;2;246;54;26m                        \u001b[39m  0.0   \n",
      "1        01      0.7071 + i0.0000    0.7071        0.00°   \u001b[38;2;246;54;26m████████████████        \u001b[39m  0.5   \n",
      "2        10      0.7071 + i0.0000    0.7071        0.00°   \u001b[38;2;246;54;26m████████████████        \u001b[39m  0.5   \n",
      "3        11      0.0000 + i0.0000    0.0                   \u001b[38;2;246;54;26m                        \u001b[39m  0.0   \n",
      "\n"
     ]
    }
   ],
   "source": [
    "print_state_table(state)"
   ]
  }
 ],
 "metadata": {
  "kernelspec": {
   "display_name": "Python 3 (ipykernel)",
   "language": "python",
   "name": "python3"
  },
  "language_info": {
   "codemirror_mode": {
    "name": "ipython",
    "version": 3
   },
   "file_extension": ".py",
   "mimetype": "text/x-python",
   "name": "python",
   "nbconvert_exporter": "python",
   "pygments_lexer": "ipython3",
   "version": "3.9.13"
  }
 },
 "nbformat": 4,
 "nbformat_minor": 5
}
